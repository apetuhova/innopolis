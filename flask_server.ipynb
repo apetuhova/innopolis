{
  "nbformat": 4,
  "nbformat_minor": 0,
  "metadata": {
    "colab": {
      "name": "flask_server.ipynb",
      "provenance": [],
      "collapsed_sections": [],
      "include_colab_link": true
    },
    "kernelspec": {
      "display_name": "Python 3",
      "name": "python3"
    }
  },
  "cells": [
    {
      "cell_type": "markdown",
      "metadata": {
        "id": "view-in-github",
        "colab_type": "text"
      },
      "source": [
        "<a href=\"https://colab.research.google.com/github/apetuhova/innopolis/blob/main/flask_server.ipynb\" target=\"_parent\"><img src=\"https://colab.research.google.com/assets/colab-badge.svg\" alt=\"Open In Colab\"/></a>"
      ]
    },
    {
      "cell_type": "markdown",
      "metadata": {
        "id": "y4QizflBgma8"
      },
      "source": [
        "# Flask приложение. Сервер.\n"
      ]
    },
    {
      "cell_type": "markdown",
      "metadata": {
        "id": "ZkI4DUrw2aZc"
      },
      "source": [
        "1. Для тестирования работы модели запустить сервер в этом ноутбуке и выполнить команды в ноутбуке-клиенте.\n",
        "2. Для тестирования загрузки csv-файла перейти по ссылке [адрес_сервера]/web"
      ]
    },
    {
      "cell_type": "code",
      "metadata": {
        "colab": {
          "base_uri": "https://localhost:8080/"
        },
        "id": "PZbDJgHafv3v",
        "outputId": "47d4062e-443e-4aa7-9aff-3f14bc105560"
      },
      "source": [
        "!pip install flask-ngrok\n",
        "!pip install flask==0.12.2"
      ],
      "execution_count": 1,
      "outputs": [
        {
          "output_type": "stream",
          "name": "stdout",
          "text": [
            "Collecting flask-ngrok\n",
            "  Downloading flask_ngrok-0.0.25-py3-none-any.whl (3.1 kB)\n",
            "Requirement already satisfied: Flask>=0.8 in /usr/local/lib/python3.7/dist-packages (from flask-ngrok) (1.1.4)\n",
            "Requirement already satisfied: requests in /usr/local/lib/python3.7/dist-packages (from flask-ngrok) (2.23.0)\n",
            "Requirement already satisfied: Jinja2<3.0,>=2.10.1 in /usr/local/lib/python3.7/dist-packages (from Flask>=0.8->flask-ngrok) (2.11.3)\n",
            "Requirement already satisfied: click<8.0,>=5.1 in /usr/local/lib/python3.7/dist-packages (from Flask>=0.8->flask-ngrok) (7.1.2)\n",
            "Requirement already satisfied: itsdangerous<2.0,>=0.24 in /usr/local/lib/python3.7/dist-packages (from Flask>=0.8->flask-ngrok) (1.1.0)\n",
            "Requirement already satisfied: Werkzeug<2.0,>=0.15 in /usr/local/lib/python3.7/dist-packages (from Flask>=0.8->flask-ngrok) (1.0.1)\n",
            "Requirement already satisfied: MarkupSafe>=0.23 in /usr/local/lib/python3.7/dist-packages (from Jinja2<3.0,>=2.10.1->Flask>=0.8->flask-ngrok) (2.0.1)\n",
            "Requirement already satisfied: chardet<4,>=3.0.2 in /usr/local/lib/python3.7/dist-packages (from requests->flask-ngrok) (3.0.4)\n",
            "Requirement already satisfied: urllib3!=1.25.0,!=1.25.1,<1.26,>=1.21.1 in /usr/local/lib/python3.7/dist-packages (from requests->flask-ngrok) (1.24.3)\n",
            "Requirement already satisfied: certifi>=2017.4.17 in /usr/local/lib/python3.7/dist-packages (from requests->flask-ngrok) (2021.5.30)\n",
            "Requirement already satisfied: idna<3,>=2.5 in /usr/local/lib/python3.7/dist-packages (from requests->flask-ngrok) (2.10)\n",
            "Installing collected packages: flask-ngrok\n",
            "Successfully installed flask-ngrok-0.0.25\n",
            "Collecting flask==0.12.2\n",
            "  Downloading Flask-0.12.2-py2.py3-none-any.whl (83 kB)\n",
            "\u001b[K     |████████████████████████████████| 83 kB 987 kB/s \n",
            "\u001b[?25hRequirement already satisfied: Werkzeug>=0.7 in /usr/local/lib/python3.7/dist-packages (from flask==0.12.2) (1.0.1)\n",
            "Requirement already satisfied: click>=2.0 in /usr/local/lib/python3.7/dist-packages (from flask==0.12.2) (7.1.2)\n",
            "Requirement already satisfied: Jinja2>=2.4 in /usr/local/lib/python3.7/dist-packages (from flask==0.12.2) (2.11.3)\n",
            "Requirement already satisfied: itsdangerous>=0.21 in /usr/local/lib/python3.7/dist-packages (from flask==0.12.2) (1.1.0)\n",
            "Requirement already satisfied: MarkupSafe>=0.23 in /usr/local/lib/python3.7/dist-packages (from Jinja2>=2.4->flask==0.12.2) (2.0.1)\n",
            "Installing collected packages: flask\n",
            "  Attempting uninstall: flask\n",
            "    Found existing installation: Flask 1.1.4\n",
            "    Uninstalling Flask-1.1.4:\n",
            "      Successfully uninstalled Flask-1.1.4\n",
            "Successfully installed flask-0.12.2\n"
          ]
        }
      ]
    },
    {
      "cell_type": "code",
      "metadata": {
        "colab": {
          "base_uri": "https://localhost:8080/"
        },
        "id": "hxQZ6GtJgZGw",
        "outputId": "dbb6ebf3-c3fd-4675-e9b5-751958db4b50"
      },
      "source": [
        "%%writefile flask_app2.py\n",
        "# Загружаем билиотеки\n",
        "import flask\n",
        "from flask import Flask, request, render_template, redirect,url_for, send_from_directory\n",
        "import pandas as pd\n",
        "import matplotlib.pyplot as plt\n",
        "import requests\n",
        "import json\n",
        "import os\n",
        "import numpy as np\n",
        "from flask_ngrok import run_with_ngrok # эта строчка не нужна, если запускаете на своем ПК\n",
        "from werkzeug.utils import secure_filename\n",
        "\n",
        "# Задаем имя серверу\n",
        "app = Flask(__name__)\n",
        "app.config['JSONIFY_PRETTYPRINT_REGULAR'] = False\n",
        "app.config['UPLOAD_FOLDER'] = '/content/'\n",
        "ALLOWED_EXTENSIONS = {'csv'} #{'png','jpeg'}\n",
        "run_with_ngrok(app) # эта строчка не нужна, если запускаете на своем ПК\n",
        "\n",
        "# Загрузка модели\n",
        "\n",
        "def predict_model(x,p):\n",
        "  x=np.array(x)\n",
        "  p=np.array(p)\n",
        "  ypred=p[0]*x**3+p[1]*x**2+p[2]*x+p[3] \n",
        "  return ypred.tolist()\n",
        "\n",
        "def allowed_file(filename):\n",
        "    return '.' in filename and \\\n",
        "           filename.rsplit('.', 1)[1].lower() in ALLOWED_EXTENSIONS\n",
        "\n",
        "@app.route(\"/\")\n",
        "def hello():\n",
        "    return \"Hello World!\"\n",
        "\n",
        "\n",
        "@app.route('/uploads/<name>')\n",
        "def download_file(name):\n",
        "  return send_from_directory(app.config['UPLOAD_FOLDER'],name)\n",
        "\n",
        "\n",
        "\n",
        "@app.route('/web', methods=['GET', 'POST'])\n",
        "def upload_file():\n",
        "    if request.method == 'POST':\n",
        "        # check if the post request has the file part\n",
        "        if 'file' not in request.files:\n",
        "            flash('No file part')\n",
        "            return redirect(request.url)\n",
        "        file = request.files['file']\n",
        "        # If the user does not select a file, the browser submits an\n",
        "        # empty file without a filename.\n",
        "        if file.filename == '':\n",
        "            flash('No selected file')\n",
        "            return redirect(request.url)\n",
        "        if file and allowed_file(file.filename):\n",
        "            filename = secure_filename(file.filename)\n",
        "            file.save(os.path.join(app.config['UPLOAD_FOLDER'], filename))\n",
        "            #return redirect(url_for('download_file', name=filename))            \n",
        "\n",
        "            df=pd.read_csv(filename).head(5).to_html()        \n",
        "            return df #render_template('simple.html', tables=[df.to_html(classes='data')], titles=df.columns.values)\n",
        "\n",
        "    return '''\n",
        "    <!doctype html>\n",
        "    <title>Upload new File</title>\n",
        "    <h1>Upload new File</h1>\n",
        "    <form method=post enctype=multipart/form-data>\n",
        "      <input type=file name=file>\n",
        "      <input type=submit value=Upload>\n",
        "    </form>\n",
        "    '''\n",
        "\n",
        "\n",
        "@app.route(\"/plot\", methods=[\"GET\",\"POST\"])\n",
        "def plot():\n",
        "  \n",
        "  if flask.request.method == 'POST':\n",
        "\n",
        "    x = json.loads(flask.request.json)['x']\n",
        "    y = json.loads(flask.request.json)['y']\n",
        "    ypred = json.loads(flask.request.json)['ypred']\n",
        "    \n",
        "    plt.plot(x,y)\n",
        "    plt.plot(x,ypred)\n",
        "    plt.savefig('plot.png')\n",
        "    return redirect(url_for('download_file', name='plot.png'))  \n",
        "\n",
        "\n",
        "  else:\n",
        "    return \"Method should be POST\"\n",
        "    \n",
        "\n",
        "# Задаем функцию Predict\n",
        "@app.route(\"/predict\", methods=[\"GET\",\"POST\"])\n",
        "def predict():\n",
        "  data = {\"success\": False}\n",
        "\n",
        "  if flask.request.method == 'POST':\n",
        "\n",
        "    x = json.loads(flask.request.json)['x']\n",
        "    p = json.loads(flask.request.json)['p']\n",
        "    \n",
        "    data[\"prediction\"] = predict_model(x,p)\n",
        "    #Записываем статус в data[\"success\"]\n",
        "    data[\"success\"] = True    \n",
        "    #Возвращаем результат json format \n",
        "    return flask.jsonify(data) \n",
        "\n",
        "  else:\n",
        "    return \"Method should be POST\"\n",
        "\n",
        "@app.route(\"/train\", methods=[\"GET\",\"POST\"])\n",
        "def retraining():\n",
        "\n",
        "  if flask.request.method == 'POST':\n",
        "\n",
        "    x = json.loads(flask.request.json)['train_x']\n",
        "    y = json.loads(flask.request.json)['train_y']\n",
        "    deg=3\n",
        "    p=np.polyfit(x,y,deg=deg).tolist()\n",
        "    return (flask.jsonify({'p':p}))\n",
        "        #flask.jsonify({'x':x}) #\"mnist_new.h5\"\n",
        "  else:\n",
        "    return \"Method should be POST\"\n",
        "\n",
        "# Запускаем Сервер\n",
        "if __name__ == '__main__':\n",
        "    app.run() \n"
      ],
      "execution_count": 2,
      "outputs": [
        {
          "output_type": "stream",
          "name": "stdout",
          "text": [
            "Writing flask_app2.py\n"
          ]
        }
      ]
    },
    {
      "cell_type": "code",
      "metadata": {
        "colab": {
          "base_uri": "https://localhost:8080/"
        },
        "id": "k2MkWwbwk91E",
        "outputId": "63192279-f95e-418d-d3f8-2a2a8b00f83f"
      },
      "source": [
        "!python flask_app2.py"
      ],
      "execution_count": 4,
      "outputs": [
        {
          "output_type": "stream",
          "name": "stdout",
          "text": [
            " * Running on http://127.0.0.1:5000/ (Press CTRL+C to quit)\n",
            " * Running on http://f566-35-231-105-170.ngrok.io\n",
            " * Traffic stats available on http://127.0.0.1:4040\n",
            "127.0.0.1 - - [17/Sep/2021 08:34:38] \"\u001b[37mGET / HTTP/1.1\u001b[0m\" 200 -\n",
            "127.0.0.1 - - [17/Sep/2021 08:34:38] \"\u001b[37mPOST /train HTTP/1.1\u001b[0m\" 200 -\n",
            "127.0.0.1 - - [17/Sep/2021 08:34:38] \"\u001b[37mPOST /predict HTTP/1.1\u001b[0m\" 200 -\n",
            "127.0.0.1 - - [17/Sep/2021 08:36:09] \"\u001b[37mGET / HTTP/1.1\u001b[0m\" 200 -\n",
            "127.0.0.1 - - [17/Sep/2021 08:36:09] \"\u001b[37mPOST /train HTTP/1.1\u001b[0m\" 200 -\n",
            "127.0.0.1 - - [17/Sep/2021 08:36:09] \"\u001b[37mPOST /predict HTTP/1.1\u001b[0m\" 200 -\n",
            "127.0.0.1 - - [17/Sep/2021 08:38:16] \"\u001b[37mGET / HTTP/1.1\u001b[0m\" 200 -\n",
            "127.0.0.1 - - [17/Sep/2021 08:38:16] \"\u001b[37mPOST /train HTTP/1.1\u001b[0m\" 200 -\n",
            "127.0.0.1 - - [17/Sep/2021 08:38:16] \"\u001b[37mPOST /predict HTTP/1.1\u001b[0m\" 200 -\n",
            "127.0.0.1 - - [17/Sep/2021 08:38:30] \"\u001b[37mGET / HTTP/1.1\u001b[0m\" 200 -\n",
            "127.0.0.1 - - [17/Sep/2021 08:38:31] \"\u001b[37mPOST /train HTTP/1.1\u001b[0m\" 200 -\n",
            "127.0.0.1 - - [17/Sep/2021 08:38:31] \"\u001b[37mPOST /predict HTTP/1.1\u001b[0m\" 200 -\n",
            "^C\n"
          ]
        }
      ]
    }
  ]
}