{
  "nbformat": 4,
  "nbformat_minor": 0,
  "metadata": {
    "colab": {
      "name": "EMNIST_kaggle.ipynb",
      "provenance": [],
      "collapsed_sections": []
    },
    "kernelspec": {
      "display_name": "Python 3",
      "name": "python3"
    },
    "language_info": {
      "name": "python"
    }
  },
  "cells": [
    {
      "cell_type": "markdown",
      "metadata": {
        "id": "k4OOjvimWbfC"
      },
      "source": [
        "# Классификация рукописных букв EMNIST \n"
      ]
    },
    {
      "cell_type": "markdown",
      "metadata": {
        "id": "lbi_dZMJlaX8"
      },
      "source": [
        "Исходные данные для обучения и валидации моделей взяты на сайте NIST:\n",
        "[EMNIST Dataset](https://www.nist.gov/itl/products-and-services/emnist-dataset)\n",
        "\n",
        "Данные для итоговых предсказаний взяты непосредственно из соревнования kaggle: [Data test](https://www.kaggle.com/c/jds3/data?select=emnist-letters-test-sh.csv) "
      ]
    },
    {
      "cell_type": "markdown",
      "metadata": {
        "id": "SH92ro3_R_Tb"
      },
      "source": [
        "# Загрузка и просмотр данных"
      ]
    },
    {
      "cell_type": "code",
      "metadata": {
        "id": "jVt7y0IE-PEI"
      },
      "source": [
        "#импорт необходимых библиотек\n",
        "import pandas as pd\n",
        "import numpy as np\n",
        "import matplotlib.cm as cm\n",
        "import matplotlib.pyplot as plt\n",
        "from mlxtend.data import loadlocal_mnist\n",
        "from sklearn.pipeline import Pipeline,make_pipeline\n",
        "from sklearn.preprocessing import StandardScaler,Normalizer,MinMaxScaler\n",
        "from sklearn import metrics\n",
        "from sklearn.linear_model import LogisticRegression, SGDClassifier\n",
        "from sklearn.naive_bayes import MultinomialNB, ComplementNB, GaussianNB\n",
        "from sklearn.svm import LinearSVC, SVC\n",
        "from sklearn.decomposition import PCA\n",
        "from sklearn.neighbors import KNeighborsClassifier\n",
        "from sklearn.tree import DecisionTreeClassifier\n",
        "from sklearn.ensemble import RandomForestClassifier, ExtraTreesClassifier\n",
        "from sklearn.decomposition import KernelPCA\n",
        "from sklearn.manifold import TSNE\n",
        "from sklearn.model_selection import GridSearchCV\n",
        "import gc\n",
        "from sklearn.feature_selection import VarianceThreshold\n",
        "from sklearn.cluster import KMeans"
      ],
      "execution_count": null,
      "outputs": []
    },
    {
      "cell_type": "code",
      "metadata": {
        "id": "KubjKYFURcV0"
      },
      "source": [
        "#объявим метод записи предсказаний в файл, который будет использоваться для всех моделей\n",
        "def write(model,name,final_test):\n",
        "  y_final=model.predict(final_test)\n",
        "  d=pd.DataFrame(list(range(1,y_final.shape[0]+1)))\n",
        "  d['Category']=y_final\n",
        "  d.columns=['Id','Category']\n",
        "  d.set_index('Id',drop=True,inplace=True)\n",
        "  d.to_csv('prediction_{:}.csv'.format(name))"
      ],
      "execution_count": null,
      "outputs": []
    },
    {
      "cell_type": "code",
      "metadata": {
        "id": "SqpaM62u5P9U"
      },
      "source": [
        "#объявим функцию оценки модели\n",
        "def acc(model,X_train,y_train,X_test,y_test):\n",
        "  model.fit(X_train,y_train)\n",
        "  y_pred=model.predict(X_test)\n",
        "  return [model,metrics.accuracy_score(y_test,y_pred)]"
      ],
      "execution_count": null,
      "outputs": []
    },
    {
      "cell_type": "code",
      "metadata": {
        "id": "sOItu0Dde2R5"
      },
      "source": [
        "#объявим функцию оценки модели без тренировки\n",
        "def acc_pred(model,X_test,y_test):\n",
        "  y_pred=model.predict(X_test)\n",
        "  return [model,metrics.accuracy_score(y_test,y_pred)]"
      ],
      "execution_count": null,
      "outputs": []
    },
    {
      "cell_type": "code",
      "metadata": {
        "colab": {
          "base_uri": "https://localhost:8080/"
        },
        "id": "b80ysVmW88Ny",
        "outputId": "79d711d9-2e8c-4aca-f286-69e9971a68d5"
      },
      "source": [
        "#загрузка данных\n",
        "from google.colab import drive\n",
        "drive.mount('/content/drive')"
      ],
      "execution_count": null,
      "outputs": [
        {
          "output_type": "stream",
          "name": "stdout",
          "text": [
            "Drive already mounted at /content/drive; to attempt to forcibly remount, call drive.mount(\"/content/drive\", force_remount=True).\n"
          ]
        }
      ]
    },
    {
      "cell_type": "code",
      "metadata": {
        "id": "wGgiemVO-bBt"
      },
      "source": [
        "training_images_filepath = '/content/drive/MyDrive/Colab Notebooks/innopolis/kaggle emnist/emnist-letters-train-images-idx3-ubyte'\n",
        "training_labels_filepath = '/content/drive/MyDrive/Colab Notebooks/innopolis/kaggle emnist/emnist-letters-train-labels-idx1-ubyte'\n",
        "test_images_filepath = '/content/drive/MyDrive/Colab Notebooks/innopolis/kaggle emnist/emnist-letters-test-images-idx3-ubyte'\n",
        "test_labels_filepath = '/content/drive/MyDrive/Colab Notebooks/innopolis/kaggle emnist/emnist-letters-test-labels-idx1-ubyte'\n",
        "final_test_filepath='/content/drive/MyDrive/Colab Notebooks/innopolis/kaggle emnist/emnist-letters-test-sh.csv'"
      ],
      "execution_count": null,
      "outputs": []
    },
    {
      "cell_type": "code",
      "metadata": {
        "id": "ChIryC9iO5RE"
      },
      "source": [
        "X_train, y_train = loadlocal_mnist(training_images_filepath, training_labels_filepath)\n",
        "X_test, y_test = loadlocal_mnist(test_images_filepath, test_labels_filepath)\n",
        "final_test= np.array(pd.read_csv(final_test_filepath,header=None))"
      ],
      "execution_count": null,
      "outputs": []
    },
    {
      "cell_type": "code",
      "metadata": {
        "colab": {
          "base_uri": "https://localhost:8080/"
        },
        "id": "Xi6qn-4MParm",
        "outputId": "7a390f42-eb37-4b19-b116-950b76beea79"
      },
      "source": [
        "#оценка количества объектов\n",
        "print('Dimension of training images:', np.shape(X_train))\n",
        "print('Dimension of trainig labels:',np.shape(y_train))\n",
        "print('Dimension of testing images:', np.shape(X_test))\n",
        "print('Dimension of testing labels:',np.shape(y_test))\n",
        "print('Dimension of final testing images:',np.shape(final_test))"
      ],
      "execution_count": null,
      "outputs": [
        {
          "output_type": "stream",
          "name": "stdout",
          "text": [
            "Dimension of training images: (124800, 784)\n",
            "Dimension of trainig labels: (124800,)\n",
            "Dimension of testing images: (20800, 784)\n",
            "Dimension of testing labels: (20800,)\n",
            "Dimension of final testing images: (14800, 784)\n"
          ]
        }
      ]
    },
    {
      "cell_type": "code",
      "metadata": {
        "id": "psXrbWfjb26l"
      },
      "source": [
        "#формируем небольшие выборки для менее длительных вычислений\n",
        "X_train_small=X_train[::26]\n",
        "y_train_small=y_train[::26]\n",
        "X_test_small=X_test[::15]\n",
        "y_test_small=y_test[::15]"
      ],
      "execution_count": null,
      "outputs": []
    },
    {
      "cell_type": "code",
      "metadata": {
        "colab": {
          "base_uri": "https://localhost:8080/"
        },
        "id": "cYND14UzqYeV",
        "outputId": "00a354c0-1405-4754-af72-434719f2cba1"
      },
      "source": [
        "#посмотрим на значения объектов \n",
        "X_train[0]"
      ],
      "execution_count": null,
      "outputs": [
        {
          "data": {
            "text/plain": [
              "array([  0,   0,   0,   0,   0,   0,   0,   0,   0,   0,   0,   0,   0,\n",
              "         0,   0,   0,   0,   0,   0,   0,   0,   0,   0,   0,   0,   0,\n",
              "         0,   0,   0,   0,   0,   0,   0,   0,   0,   0,   0,   0,   0,\n",
              "         0,   0,   0,   0,   0,   0,   0,   0,   0,   0,   0,   0,   0,\n",
              "         0,   0,   0,   0,   0,   0,   0,   0,   0,   0,   0,   0,   0,\n",
              "         0,   1,   0,   0,   0,   0,   0,   0,   0,   0,   0,   0,   0,\n",
              "         0,   0,   0,   0,   0,   0,   0,   0,  20, 114, 125,  82,  37,\n",
              "        37,  39, 115, 157,  94,  21,  10,  32,  37,  37,  37,  37,  37,\n",
              "        37,  37,  82, 125, 114,  20,   0,   0,   0,   3, 109, 245, 249,\n",
              "       233, 217, 217, 217, 245, 251, 234, 172, 142, 203, 217, 217, 217,\n",
              "       217, 217, 217, 217, 233, 249, 245, 109,   3,   0,   0,   4, 114,\n",
              "       253, 254, 254, 254, 254, 254, 254, 254, 254, 252, 251, 254, 254,\n",
              "       254, 254, 254, 254, 254, 254, 254, 254, 254, 127,   4,   0,   0,\n",
              "         0,  45, 214, 233, 251, 254, 254, 254, 254, 255, 255, 255, 255,\n",
              "       255, 255, 255, 255, 255, 255, 255, 255, 254, 254, 251, 113,   4,\n",
              "         0,   0,   0,   0,   5,  22,  82, 128, 160, 184, 217, 217, 218,\n",
              "       249, 254, 255, 255, 255, 255, 255, 254, 254, 247, 216, 170,  83,\n",
              "         7,   0,   0,   0,   0,   0,   0,   0,   2,   5,  16,  25,  37,\n",
              "        40,  50, 227, 254, 255, 255, 254, 254, 252, 245, 220, 159,  38,\n",
              "        21,   3,   0,   0,   0,   0,   0,   0,   0,   0,   0,   0,   0,\n",
              "         0,   9,  77, 140, 247, 254, 254, 254, 254, 244, 177, 114,  50,\n",
              "        20,   0,   0,   0,   0,   0,   0,   0,   0,   0,   0,   0,   0,\n",
              "         0,   3,  34, 175, 246, 254, 254, 254, 253, 221, 115,  46,   7,\n",
              "         0,   0,   0,   0,   0,   0,   0,   0,   0,   0,   0,   0,   0,\n",
              "         0,   3,  34,  84, 175, 251, 254, 254, 253, 234, 202,  91,   4,\n",
              "         0,   0,   0,   0,   0,   0,   0,   0,   0,   0,   0,   0,   0,\n",
              "         0,   0,  10,  79, 204, 233, 251, 254, 255, 255, 239, 116,  35,\n",
              "         7,   0,   0,   0,   0,   0,   0,   0,   0,   0,   0,   0,   0,\n",
              "         0,   0,   0,  20, 123, 220, 254, 254, 254, 255, 255, 255, 248,\n",
              "       165,  37,  21,  32,   9,   4,   4,   4,   4,   0,   0,   0,   0,\n",
              "         0,   0,   0,   0,   0, 100, 238, 254, 255, 255, 255, 255, 255,\n",
              "       255, 254, 253, 235, 234, 245, 222, 217, 217, 217, 203, 115,  32,\n",
              "         0,   0,   0,   0,   0,   0,   0,  33, 163, 244, 254, 254, 254,\n",
              "       255, 255, 255, 255, 254, 254, 254, 254, 254, 254, 254, 254, 254,\n",
              "       240, 111,   3,   0,   0,   0,   0,   0,   0,   1,  33, 126, 216,\n",
              "       233, 250, 254, 255, 255, 255, 255, 255, 255, 255, 255, 255, 255,\n",
              "       254, 254, 233,  82,   2,   0,   0,   0,   0,   0,   0,   0,   0,\n",
              "         0,   5,  22,  82, 251, 255, 255, 255, 255, 255, 255, 254, 254,\n",
              "       250, 233, 217, 203, 110,  18,   0,   0,   0,   0,   0,   0,   0,\n",
              "         0,   0,   0,   0,  10, 128, 254, 255, 255, 254, 254, 254, 254,\n",
              "       246, 208, 140,  82,  39,  32,   4,   0,   0,   0,   0,   0,   0,\n",
              "         0,   0,   0,   0,   0,  22,  95, 221, 254, 255, 254, 253, 234,\n",
              "       217, 215, 127,  46,   9,   2,   0,   0,   0,   0,   0,   0,   0,\n",
              "         0,   0,   0,   0,   0,   0,   3, 154, 232, 253, 254, 254, 252,\n",
              "       207,  95,  39,  37,   8,   0,   0,   0,   0,   0,   0,   0,   0,\n",
              "         0,   0,   0,   0,   0,   0,   0,   2,  77, 247, 254, 255, 254,\n",
              "       242, 131,   9,   0,   0,   0,   0,   0,   0,   0,   0,   0,   0,\n",
              "         0,   0,   0,   0,   0,   0,   0,   0,   0,   4, 125, 254, 254,\n",
              "       252, 232, 131,  32,   0,   0,   0,   0,   0,   0,   0,   0,   0,\n",
              "         0,   0,   0,   0,   0,   0,   0,   0,   0,   0,   0,   4, 113,\n",
              "       253, 246, 177, 109,  22,   0,   0,   0,   0,   0,   0,   0,   0,\n",
              "         0,   0,   0,   0,   0,   0,   0,   0,   0,   0,   0,   0,   0,\n",
              "         0,   8, 111,  77,   8,   0,   0,   0,   0,   0,   0,   0,   0,\n",
              "         0,   0,   0,   0,   0,   0,   0,   0,   0,   0,   0,   0,   0,\n",
              "         0,   0,   0,   0,   3,   2,   0,   0,   0,   0,   0,   0,   0,\n",
              "         0,   0,   0,   0,   0,   0,   0,   0,   0,   0,   0,   0,   0,\n",
              "         0,   0,   0,   0,   0,   0,   0,   0,   0,   0,   0,   0,   0,\n",
              "         0,   0,   0,   0,   0,   0,   0,   0,   0,   0,   0,   0,   0,\n",
              "         0,   0,   0,   0,   0,   0,   0,   0,   0,   0,   0,   0,   0,\n",
              "         0,   0,   0,   0,   0,   0,   0,   0,   0,   0,   0,   0,   0,\n",
              "         0,   0,   0,   0], dtype=uint8)"
            ]
          },
          "execution_count": 18,
          "metadata": {},
          "output_type": "execute_result"
        }
      ]
    },
    {
      "cell_type": "code",
      "metadata": {
        "colab": {
          "base_uri": "https://localhost:8080/"
        },
        "id": "3IjNqd8kkkAO",
        "outputId": "29b7da4d-4e20-4b40-96c8-964b635a06ee"
      },
      "source": [
        "#посмотрим на метки классов\n",
        "np.unique(y_train, return_counts=True)\n",
        "#видим, что классы распределены равномерно"
      ],
      "execution_count": null,
      "outputs": [
        {
          "data": {
            "text/plain": [
              "(array([ 1,  2,  3,  4,  5,  6,  7,  8,  9, 10, 11, 12, 13, 14, 15, 16, 17,\n",
              "        18, 19, 20, 21, 22, 23, 24, 25, 26], dtype=uint8),\n",
              " array([4800, 4800, 4800, 4800, 4800, 4800, 4800, 4800, 4800, 4800, 4800,\n",
              "        4800, 4800, 4800, 4800, 4800, 4800, 4800, 4800, 4800, 4800, 4800,\n",
              "        4800, 4800, 4800, 4800]))"
            ]
          },
          "execution_count": 10,
          "metadata": {},
          "output_type": "execute_result"
        }
      ]
    },
    {
      "cell_type": "code",
      "metadata": {
        "id": "p9urM2x2RLCy"
      },
      "source": [
        "#сопоставим букву номеру\n",
        "letters=['a', 'b', 'c', 'd', 'e', 'f', 'g', 'h', 'i', 'j', 'k', 'l', 'm', 'n', 'o', 'p', 'q','r', 's', 't', 'u', 'v', 'w', 'x', 'y', 'z'] \n",
        "#       [ 1,  2,    3,    4,   5,   6,  7,    8,  9,    10, 11, 12,   13, 14, 15,   16,   17, 18, 19,   20, 21,   22,   23, 24, 25,   26]"
      ],
      "execution_count": null,
      "outputs": []
    },
    {
      "cell_type": "code",
      "metadata": {
        "colab": {
          "base_uri": "https://localhost:8080/",
          "height": 1000
        },
        "id": "swKKiJAD_O6G",
        "outputId": "d97e4337-a01f-4b18-ab5b-a300138b7d38"
      },
      "source": [
        "#посмотрим на примеры объектов\n",
        "imgsize=(28,28)\n",
        "for i in range(5):\n",
        "  plt.imshow(X_train[i].reshape(imgsize).T,cmap='Greys')\n",
        "  plt.title(letters[y_train[i]-1])\n",
        "  plt.figure()"
      ],
      "execution_count": null,
      "outputs": [
        {
          "data": {
            "image/png": "[encoded data removed]",
            "text/plain": [
              "<Figure size 432x288 with 1 Axes>"
            ]
          },
          "metadata": {},
          "output_type": "display_data"
        },
        {
          "data": {
            "image/png": "[encoded data removed]",
            "text/plain": [
              "<Figure size 432x288 with 1 Axes>"
            ]
          },
          "metadata": {},
          "output_type": "display_data"
        },
        {
          "data": {
            "image/png": "[encoded data removed]",
            "text/plain": [
              "<Figure size 432x288 with 1 Axes>"
            ]
          },
          "metadata": {},
          "output_type": "display_data"
        },
        {
          "data": {
            "image/png": "[encoded data removed]",
            "text/plain": [
              "<Figure size 432x288 with 1 Axes>"
            ]
          },
          "metadata": {},
          "output_type": "display_data"
        },
        {
          "data": {
            "image/png": "[encoded data removed]",
            "text/plain": [
              "<Figure size 432x288 with 1 Axes>"
            ]
          },
          "metadata": {},
          "output_type": "display_data"
        },
        {
          "data": {
            "text/plain": [
              "<Figure size 432x288 with 0 Axes>"
            ]
          },
          "metadata": {},
          "output_type": "display_data"
        }
      ]
    },
    {
      "cell_type": "markdown",
      "metadata": {
        "id": "L9rJJOzhSEdB"
      },
      "source": [
        "# KNN"
      ]
    },
    {
      "cell_type": "code",
      "metadata": {
        "colab": {
          "base_uri": "https://localhost:8080/"
        },
        "id": "CYneyYyokkAO",
        "outputId": "9768d985-70ee-456f-8479-8ab3f4bde655"
      },
      "source": [
        "#попробуем классифицировать объекты методом KNN с k=10 на части выборки\n",
        "neigh = KNeighborsClassifier(n_neighbors=10)\n",
        "res = acc_small(neigh,X_train_small, y_train_small,X_test_small,y_test_small)\n",
        "#оценим точность предсказаний на тестовой выборке \n",
        "res[1]"
      ],
      "execution_count": null,
      "outputs": [
        {
          "data": {
            "text/plain": [
              "0.6759615384615385"
            ]
          },
          "execution_count": 17,
          "metadata": {},
          "output_type": "execute_result"
        }
      ]
    },
    {
      "cell_type": "code",
      "metadata": {
        "colab": {
          "base_uri": "https://localhost:8080/"
        },
        "id": "_Lc2PAoAygFt",
        "outputId": "aa95724a-c453-412e-c893-89416fec8cce"
      },
      "source": [
        "#воспользуемся методом снижения размерности PCA\n",
        "pca = PCA(n_components=35)\n",
        "X_train_trans= pca.fit_transform(X_train_small)\n",
        "\n",
        "neigh = KNeighborsClassifier(n_neighbors=10)\n",
        "res=acc(neigh,X_train_trans, y_train_small,pca.transform(X_test_small),y_test_small)\n",
        "\n",
        "res[1]"
      ],
      "execution_count": null,
      "outputs": [
        {
          "data": {
            "text/plain": [
              "0.7221153846153846"
            ]
          },
          "execution_count": 22,
          "metadata": {},
          "output_type": "execute_result"
        }
      ]
    },
    {
      "cell_type": "code",
      "metadata": {
        "colab": {
          "base_uri": "https://localhost:8080/"
        },
        "id": "ViMv3_ATy1l7",
        "outputId": "f3b5d1d5-bf55-49d4-f88f-c07c9931b270"
      },
      "source": [
        "#точность выросла, ищем наиболее подходящие параметры модели\n",
        "knn = Pipeline([\n",
        "        ('PCA', PCA()), \n",
        "        ('KNN', KNeighborsClassifier())\n",
        "    ])\n",
        "\n",
        "parameters = {'PCA__n_components':[2,5,10,30,50,100,200], 'KNN__n_neighbors':[3,5,10,20]}\n",
        "grid = GridSearchCV(knn, param_grid=parameters, cv=5,scoring='accuracy')\n",
        "grid.fit(X_train_small,y_train_small)\n",
        "grid.best_params_"
      ],
      "execution_count": null,
      "outputs": [
        {
          "data": {
            "text/plain": [
              "{'KNN__n_neighbors': 3, 'PCA__n_components': 30}"
            ]
          },
          "execution_count": 23,
          "metadata": {},
          "output_type": "execute_result"
        }
      ]
    },
    {
      "cell_type": "code",
      "metadata": {
        "colab": {
          "base_uri": "https://localhost:8080/"
        },
        "id": "NxULFX7gqWoX",
        "outputId": "172a6455-5d7c-47bc-de58-5f805d268b8a"
      },
      "source": [
        "#оценим точность модели с подходящими параметрами на всей выборке \n",
        "pca=PCA(n_components=grid.best_params_['PCA__n_components'])\n",
        "res=acc(grid.best_estimator_,pca.fit_transform(X_train), y_train,pca.transform(X_test),y_test)\n",
        "res[1]"
      ],
      "execution_count": null,
      "outputs": [
        {
          "data": {
            "text/plain": [
              "0.8833653846153846"
            ]
          },
          "execution_count": 30,
          "metadata": {},
          "output_type": "execute_result"
        }
      ]
    },
    {
      "cell_type": "code",
      "metadata": {
        "colab": {
          "base_uri": "https://localhost:8080/"
        },
        "id": "aCxk9StLr5ZF",
        "outputId": "c58dba96-772e-4873-b4e0-bc59412f37af"
      },
      "source": [
        "#попробуем найти еще более подходящие параметры модели\n",
        "knn = Pipeline([\n",
        "        ('PCA', PCA()), \n",
        "        ('KNN', KNeighborsClassifier())\n",
        "    ])\n",
        "\n",
        "parameters = {'PCA__n_components': list(range(25,36)), 'KNN__n_neighbors':[3,4,5]}\n",
        "grid = GridSearchCV(knn, param_grid=parameters, cv=5,scoring='accuracy')\n",
        "grid.fit(X_train_small,y_train_small)\n",
        "grid.best_params_"
      ],
      "execution_count": null,
      "outputs": [
        {
          "data": {
            "text/plain": [
              "{'KNN__n_neighbors': 5, 'PCA__n_components': 27}"
            ]
          },
          "execution_count": 37,
          "metadata": {},
          "output_type": "execute_result"
        }
      ]
    },
    {
      "cell_type": "code",
      "metadata": {
        "colab": {
          "base_uri": "https://localhost:8080/"
        },
        "id": "D1GiQblKsPH5",
        "outputId": "006a5035-4422-4e31-8a9c-c5072a7fcf21"
      },
      "source": [
        "#с этими параметрами точность еще немного выросла \n",
        "pca=PCA(n_components=grid.best_params_['PCA__n_components'])\n",
        "res=acc(grid.best_estimator_,pca.fit_transform(X_train), y_train,pca.transform(X_test),y_test)\n",
        "res[1]"
      ],
      "execution_count": null,
      "outputs": [
        {
          "data": {
            "text/plain": [
              "0.8857211538461538"
            ]
          },
          "execution_count": 34,
          "metadata": {},
          "output_type": "execute_result"
        }
      ]
    },
    {
      "cell_type": "code",
      "metadata": {
        "id": "s-Co_NhNETUy"
      },
      "source": [
        "#сформируем предсказания для финальной выборки и запишем их в файл\n",
        "write(res[0],'KNN')"
      ],
      "execution_count": null,
      "outputs": []
    },
    {
      "cell_type": "code",
      "metadata": {
        "colab": {
          "base_uri": "https://localhost:8080/"
        },
        "id": "C_MgH-yX4EcP",
        "outputId": "59383b86-9ec9-45eb-8d50-7653d6fbb7f9"
      },
      "source": [
        "#попробуем рандомизированный PCA\n",
        "pca = PCA(n_components=27,svd_solver='randomized')\n",
        "neigh = KNeighborsClassifier(n_neighbors=5)\n",
        "res=acc(neigh,pca.fit_transform(X_train_small), y_train_small, pca.transform(X_test_small), y_test_small)\n",
        "res[1]"
      ],
      "execution_count": null,
      "outputs": [
        {
          "data": {
            "text/plain": [
              "0.7577505407354002"
            ]
          },
          "execution_count": 18,
          "metadata": {},
          "output_type": "execute_result"
        }
      ]
    },
    {
      "cell_type": "code",
      "metadata": {
        "colab": {
          "base_uri": "https://localhost:8080/"
        },
        "id": "K_LYz7VxbOoG",
        "outputId": "569f1bbd-290b-40d4-fdcd-f24f80dfecc0"
      },
      "source": [
        "#попробуем ядерные методы снижения размерности\n",
        "pca = KernelPCA(n_components=27)\n",
        "neigh = KNeighborsClassifier(n_neighbors=5)\n",
        "res=acc(neigh,pca.fit_transform(X_train_small), y_train_small, pca.transform(X_test_small), y_test_small)\n",
        "res[1]"
      ],
      "execution_count": null,
      "outputs": [
        {
          "data": {
            "text/plain": [
              "0.7591925018024513"
            ]
          },
          "execution_count": 10,
          "metadata": {},
          "output_type": "execute_result"
        }
      ]
    },
    {
      "cell_type": "code",
      "metadata": {
        "colab": {
          "base_uri": "https://localhost:8080/"
        },
        "id": "TIl4rSeNeqwy",
        "outputId": "c008392d-39c9-472a-e803-b8c73e408807"
      },
      "source": [
        "#обучение аналогичной модели на всех тренировочных данных заканчивается исчерпанным лимитом ОЗУ \n",
        "#поэтому попробуем только сформировать предсказания для всех тестовых данных, что не особенно увеличивает точность\n",
        "acc_pred(res[0],pca.transform(X_test), y_test)[1]"
      ],
      "execution_count": null,
      "outputs": [
        {
          "data": {
            "text/plain": [
              "0.7626923076923077"
            ]
          },
          "execution_count": 13,
          "metadata": {},
          "output_type": "execute_result"
        }
      ]
    },
    {
      "cell_type": "code",
      "metadata": {
        "colab": {
          "base_uri": "https://localhost:8080/"
        },
        "id": "nQHupj8cdb_W",
        "outputId": "40d9f306-26de-43f4-ead4-76e541730735"
      },
      "source": [
        "# с большим количеством компонент точность ниже\n",
        "pca = KernelPCA(n_components=100)\n",
        "neigh = KNeighborsClassifier(n_neighbors=5)\n",
        "res=acc(neigh,pca.fit_transform(X_train_small), y_train_small, pca.transform(X_test_small), y_test_small)\n",
        "res[1]"
      ],
      "execution_count": null,
      "outputs": [
        {
          "data": {
            "text/plain": [
              "0.7476568132660418"
            ]
          },
          "execution_count": 9,
          "metadata": {},
          "output_type": "execute_result"
        }
      ]
    },
    {
      "cell_type": "code",
      "metadata": {
        "colab": {
          "base_uri": "https://localhost:8080/"
        },
        "id": "tfIdFCIJbgRf",
        "outputId": "dac8a902-63ad-403f-e9e6-ffcf609b1883"
      },
      "source": [
        "#с полиномиальным ядром точность ниже\n",
        "pca = KernelPCA(n_components=27,kernel='poly')\n",
        "neigh = KNeighborsClassifier(n_neighbors=5)\n",
        "res=acc(neigh,pca.fit_transform(X_train_small), y_train_small, pca.transform(X_test_small), y_test_small)\n",
        "res[1]"
      ],
      "execution_count": null,
      "outputs": [
        {
          "data": {
            "text/plain": [
              "0.7015140591204038"
            ]
          },
          "execution_count": 21,
          "metadata": {},
          "output_type": "execute_result"
        }
      ]
    },
    {
      "cell_type": "markdown",
      "metadata": {
        "id": "LR4LLRXmhY0F"
      },
      "source": [
        "Метод KNN показал неплохой результат даже без применения дополнительных инструментов, но при этом предсказание на всей тестовой выборке длилось достаточно долго - около 40 минут. Алгоритм KNN в сочетании с PCA показал существенный прирост точности и снижение времени выполнения алгоритма."
      ]
    },
    {
      "cell_type": "markdown",
      "metadata": {
        "id": "pUYLjn3GYkP6"
      },
      "source": [
        "# Logistic Regression"
      ]
    },
    {
      "cell_type": "code",
      "metadata": {
        "colab": {
          "base_uri": "https://localhost:8080/"
        },
        "id": "1vniREf9ugSv",
        "outputId": "438d31d6-f662-4318-d078-120b6c87e2ee"
      },
      "source": [
        "#перейдем к логистической регрессии \n",
        "#время выполнения 13 мин\n",
        "LR = LogisticRegression(max_iter=10000)\n",
        "res=acc(LR, X_train_small, y_train_small,X_test_small,y_test_small)\n",
        "res[1]\n"
      ],
      "execution_count": null,
      "outputs": [
        {
          "name": "stderr",
          "output_type": "stream",
          "text": [
            "/usr/local/lib/python3.7/dist-packages/sklearn/linear_model/_logistic.py:940: ConvergenceWarning: lbfgs failed to converge (status=1):\n",
            "STOP: TOTAL NO. of ITERATIONS REACHED LIMIT.\n",
            "\n",
            "Increase the number of iterations (max_iter) or scale the data as shown in:\n",
            "    https://scikit-learn.org/stable/modules/preprocessing.html\n",
            "Please also refer to the documentation for alternative solver options:\n",
            "    https://scikit-learn.org/stable/modules/linear_model.html#logistic-regression\n",
            "  extra_warning_msg=_LOGISTIC_SOLVER_CONVERGENCE_MSG)\n"
          ]
        },
        {
          "data": {
            "text/plain": [
              "0.5240384615384616"
            ]
          },
          "execution_count": 24,
          "metadata": {},
          "output_type": "execute_result"
        }
      ]
    },
    {
      "cell_type": "code",
      "metadata": {
        "colab": {
          "base_uri": "https://localhost:8080/"
        },
        "id": "93Gdy-p5WQNh",
        "outputId": "dbbad8e5-d498-4add-9211-4ea7897a6b81"
      },
      "source": [
        "#модель не cошлась, поэтому попробуем стандартизировать данные, как указано в предупреждении и увидим улучшение результата\n",
        "scaler=StandardScaler()\n",
        "LR = LogisticRegression(max_iter=10000)\n",
        "res=acc(LR, scaler.fit_transform(X_train_small), y_train_small,scaler.transform(X_test_small),y_test_small)\n",
        "res[1]"
      ],
      "execution_count": null,
      "outputs": [
        {
          "data": {
            "text/plain": [
              "0.5778846153846153"
            ]
          },
          "execution_count": 26,
          "metadata": {},
          "output_type": "execute_result"
        }
      ]
    },
    {
      "cell_type": "code",
      "metadata": {
        "colab": {
          "base_uri": "https://localhost:8080/"
        },
        "id": "lv-eszGKWjut",
        "outputId": "1aab4c0c-35f1-4447-a929-5a82f0628d02"
      },
      "source": [
        "#найдем оптимальные параметры модели с использованием снижения размерности PCA \n",
        "#время выполнения 2.5 часа\n",
        "LR = Pipeline([\n",
        "        ('PCA', PCA()), \n",
        "        ('LR', LogisticRegression(solver='saga',max_iter=10000, penalty='elasticnet'))\n",
        "    ])\n",
        "\n",
        "parameters = {'PCA__n_components':[2,5,10,30,50,100,200], \n",
        "              'LR__l1_ratio':[0,1,0.5]                         \n",
        "              } \n",
        "grid = GridSearchCV(LR, param_grid=parameters, cv=5,scoring='accuracy')\n",
        "grid.fit(X_train_small,y_train_small)"
      ],
      "execution_count": null,
      "outputs": [
        {
          "data": {
            "text/plain": [
              "GridSearchCV(cv=5, error_score=nan,\n",
              "             estimator=Pipeline(memory=None,\n",
              "                                steps=[('PCA',\n",
              "                                        PCA(copy=True, iterated_power='auto',\n",
              "                                            n_components=None,\n",
              "                                            random_state=None,\n",
              "                                            svd_solver='auto', tol=0.0,\n",
              "                                            whiten=False)),\n",
              "                                       ('LR',\n",
              "                                        LogisticRegression(C=1.0,\n",
              "                                                           class_weight=None,\n",
              "                                                           dual=False,\n",
              "                                                           fit_intercept=True,\n",
              "                                                           intercept_scaling=1,\n",
              "                                                           l1_ratio=None,\n",
              "                                                           max_iter=10000,\n",
              "                                                           multi_class='auto',\n",
              "                                                           n_jobs=None,\n",
              "                                                           penalty='elasticnet',\n",
              "                                                           random_state=None,\n",
              "                                                           solver='saga',\n",
              "                                                           tol=0.0001,\n",
              "                                                           verbose=0,\n",
              "                                                           warm_start=False))],\n",
              "                                verbose=False),\n",
              "             iid='deprecated', n_jobs=None,\n",
              "             param_grid={'LR__l1_ratio': [0, 1, 0.5],\n",
              "                         'PCA__n_components': [2, 5, 10, 30, 50, 100, 200]},\n",
              "             pre_dispatch='2*n_jobs', refit=True, return_train_score=False,\n",
              "             scoring='accuracy', verbose=0)"
            ]
          },
          "execution_count": 25,
          "metadata": {},
          "output_type": "execute_result"
        }
      ]
    },
    {
      "cell_type": "code",
      "metadata": {
        "colab": {
          "base_uri": "https://localhost:8080/"
        },
        "id": "TnqhCF1WxU3X",
        "outputId": "7b049c3c-0757-4664-9f0c-5982523795de"
      },
      "source": [
        "grid.best_params_"
      ],
      "execution_count": null,
      "outputs": [
        {
          "data": {
            "text/plain": [
              "{'LR__l1_ratio': 0, 'PCA__n_components': 50}"
            ]
          },
          "execution_count": 27,
          "metadata": {},
          "output_type": "execute_result"
        }
      ]
    },
    {
      "cell_type": "code",
      "metadata": {
        "colab": {
          "base_uri": "https://localhost:8080/"
        },
        "id": "woe5tw8jXHg1",
        "outputId": "b2828858-7dee-4a55-a1ae-baf22e7d0ac0"
      },
      "source": [
        "#c более оптимальными параметрами модель стала точнее\n",
        "#время выполнения 38 сек\n",
        "res=acc(grid.best_estimator_,X_train, y_train,X_test,y_test)\n",
        "res[1]"
      ],
      "execution_count": null,
      "outputs": [
        {
          "data": {
            "text/plain": [
              "0.6902884615384616"
            ]
          },
          "execution_count": 28,
          "metadata": {},
          "output_type": "execute_result"
        }
      ]
    },
    {
      "cell_type": "code",
      "metadata": {
        "colab": {
          "base_uri": "https://localhost:8080/",
          "height": 280
        },
        "id": "EGsLj3s86JVd",
        "outputId": "22322d80-6c52-4304-dceb-9e7889da52be"
      },
      "source": [
        "#визуализируем матрицу ошибок классификации\n",
        "disp = metrics.ConfusionMatrixDisplay(metrics.confusion_matrix(y_test,grid.best_estimator_.predict(X_test)),display_labels=y_test)\n",
        "disp.plot()\n",
        "plt.show()"
      ],
      "execution_count": null,
      "outputs": [
        {
          "data": {
            "image/png": "[encoded data removed]",
            "text/plain": [
              "<Figure size 432x288 with 2 Axes>"
            ]
          },
          "metadata": {},
          "output_type": "display_data"
        }
      ]
    },
    {
      "cell_type": "markdown",
      "metadata": {
        "id": "s4rTN11HmqhQ"
      },
      "source": [
        "Логистическая регрессия показала средний результат, и после подбора оптимальных параметров с использованием метода снижения размерности PCA достигла лишь 69% точности. "
      ]
    },
    {
      "cell_type": "markdown",
      "metadata": {
        "id": "mU1vByeXYbIS"
      },
      "source": [
        "# Naive bayes\n"
      ]
    },
    {
      "cell_type": "code",
      "metadata": {
        "colab": {
          "base_uri": "https://localhost:8080/"
        },
        "id": "Iz0PMYkXYPey",
        "outputId": "3bec12ec-40dd-4ec3-f840-951b7afd8c26"
      },
      "source": [
        "#воспользуемся классификатором Naive bayes\n",
        "#время выполнения 33 сек\n",
        "MNB = MultinomialNB()\n",
        "res=acc(MNB,X_train, y_train,X_test,y_test)\n",
        "res[1]"
      ],
      "execution_count": null,
      "outputs": [
        {
          "data": {
            "text/plain": [
              "0.5782692307692308"
            ]
          },
          "execution_count": 13,
          "metadata": {},
          "output_type": "execute_result"
        }
      ]
    },
    {
      "cell_type": "code",
      "metadata": {
        "colab": {
          "base_uri": "https://localhost:8080/"
        },
        "id": "oStdYn9pzVcC",
        "outputId": "eae8f6cb-cb04-4d1d-cf61-488c8ecec281"
      },
      "source": [
        "#посмотрим на остальные метрики\n",
        "print(metrics.classification_report(y_test,MNB.predict(X_test),target_names=letters))\n",
        "#хуже всего распознается буква l, что совершенно не удивительно"
      ],
      "execution_count": null,
      "outputs": [
        {
          "name": "stdout",
          "output_type": "stream",
          "text": [
            "              precision    recall  f1-score   support\n",
            "\n",
            "           a       0.39      0.42      0.41       800\n",
            "           b       0.56      0.64      0.60       800\n",
            "           c       0.69      0.63      0.66       800\n",
            "           d       0.47      0.50      0.48       800\n",
            "           e       0.70      0.56      0.62       800\n",
            "           f       0.63      0.54      0.58       800\n",
            "           g       0.54      0.36      0.43       800\n",
            "           h       0.57      0.55      0.56       800\n",
            "           i       0.39      0.79      0.52       800\n",
            "           j       0.57      0.55      0.56       800\n",
            "           k       0.66      0.58      0.61       800\n",
            "           l       0.16      0.07      0.09       800\n",
            "           m       0.69      0.86      0.77       800\n",
            "           n       0.49      0.53      0.51       800\n",
            "           o       0.66      0.80      0.72       800\n",
            "           p       0.62      0.77      0.69       800\n",
            "           q       0.58      0.49      0.53       800\n",
            "           r       0.56      0.51      0.53       800\n",
            "           s       0.87      0.65      0.74       800\n",
            "           t       0.47      0.37      0.42       800\n",
            "           u       0.63      0.63      0.63       800\n",
            "           v       0.62      0.64      0.63       800\n",
            "           w       0.66      0.88      0.76       800\n",
            "           x       0.66      0.59      0.62       800\n",
            "           y       0.48      0.49      0.48       800\n",
            "           z       0.76      0.62      0.68       800\n",
            "\n",
            "    accuracy                           0.58     20800\n",
            "   macro avg       0.58      0.58      0.57     20800\n",
            "weighted avg       0.58      0.58      0.57     20800\n",
            "\n"
          ]
        }
      ]
    },
    {
      "cell_type": "code",
      "metadata": {
        "colab": {
          "base_uri": "https://localhost:8080/",
          "height": 363
        },
        "id": "i5uumbv72kwH",
        "outputId": "055b4c3b-216e-4577-d56e-a20df7bd4606"
      },
      "source": [
        "#снизим размерность данных и применим классификатор. получим ошибку, т.к. на вход можно подавать только положительные значения\n",
        "pca=PCA(n_components=50)\n",
        "res=acc(MNB,pca.fit_transform(X_train), y_train,pca.transform(X_test),y_test)\n",
        "res[1]"
      ],
      "execution_count": null,
      "outputs": [
        {
          "ename": "ValueError",
          "evalue": "ignored",
          "output_type": "error",
          "traceback": [
            "\u001b[0;31m---------------------------------------------------------------------------\u001b[0m",
            "\u001b[0;31mValueError\u001b[0m                                Traceback (most recent call last)",
            "\u001b[0;32m<ipython-input-33-49c5220e537b>\u001b[0m in \u001b[0;36m<module>\u001b[0;34m()\u001b[0m\n\u001b[1;32m      1\u001b[0m \u001b[0;31m#снизим размерность выборки и применим классификатор. получим ошибку, т.к. на вход можно подавать только положительные значения\u001b[0m\u001b[0;34m\u001b[0m\u001b[0;34m\u001b[0m\u001b[0;34m\u001b[0m\u001b[0m\n\u001b[1;32m      2\u001b[0m \u001b[0mpca\u001b[0m\u001b[0;34m=\u001b[0m\u001b[0mPCA\u001b[0m\u001b[0;34m(\u001b[0m\u001b[0mn_components\u001b[0m\u001b[0;34m=\u001b[0m\u001b[0;36m50\u001b[0m\u001b[0;34m)\u001b[0m\u001b[0;34m\u001b[0m\u001b[0;34m\u001b[0m\u001b[0m\n\u001b[0;32m----> 3\u001b[0;31m \u001b[0mres\u001b[0m\u001b[0;34m=\u001b[0m\u001b[0macc\u001b[0m\u001b[0;34m(\u001b[0m\u001b[0mMNB\u001b[0m\u001b[0;34m,\u001b[0m\u001b[0mpca\u001b[0m\u001b[0;34m.\u001b[0m\u001b[0mfit_transform\u001b[0m\u001b[0;34m(\u001b[0m\u001b[0mX_train\u001b[0m\u001b[0;34m)\u001b[0m\u001b[0;34m,\u001b[0m \u001b[0my_train\u001b[0m\u001b[0;34m,\u001b[0m\u001b[0mpca\u001b[0m\u001b[0;34m.\u001b[0m\u001b[0mtransform\u001b[0m\u001b[0;34m(\u001b[0m\u001b[0mX_test\u001b[0m\u001b[0;34m)\u001b[0m\u001b[0;34m,\u001b[0m\u001b[0my_test\u001b[0m\u001b[0;34m)\u001b[0m\u001b[0;34m\u001b[0m\u001b[0;34m\u001b[0m\u001b[0m\n\u001b[0m\u001b[1;32m      4\u001b[0m \u001b[0mres\u001b[0m\u001b[0;34m[\u001b[0m\u001b[0;36m1\u001b[0m\u001b[0;34m]\u001b[0m\u001b[0;34m\u001b[0m\u001b[0;34m\u001b[0m\u001b[0m\n",
            "\u001b[0;32m<ipython-input-2-2a183ee4dcb9>\u001b[0m in \u001b[0;36macc\u001b[0;34m(model, X_train, y_train, X_test, y_test)\u001b[0m\n\u001b[1;32m      1\u001b[0m \u001b[0;31m#объявим функцию оценки модели\u001b[0m\u001b[0;34m\u001b[0m\u001b[0;34m\u001b[0m\u001b[0;34m\u001b[0m\u001b[0m\n\u001b[1;32m      2\u001b[0m \u001b[0;32mdef\u001b[0m \u001b[0macc\u001b[0m\u001b[0;34m(\u001b[0m\u001b[0mmodel\u001b[0m\u001b[0;34m,\u001b[0m\u001b[0mX_train\u001b[0m\u001b[0;34m,\u001b[0m\u001b[0my_train\u001b[0m\u001b[0;34m,\u001b[0m\u001b[0mX_test\u001b[0m\u001b[0;34m,\u001b[0m\u001b[0my_test\u001b[0m\u001b[0;34m)\u001b[0m\u001b[0;34m:\u001b[0m\u001b[0;34m\u001b[0m\u001b[0;34m\u001b[0m\u001b[0m\n\u001b[0;32m----> 3\u001b[0;31m   \u001b[0mmodel\u001b[0m\u001b[0;34m.\u001b[0m\u001b[0mfit\u001b[0m\u001b[0;34m(\u001b[0m\u001b[0mX_train\u001b[0m\u001b[0;34m,\u001b[0m\u001b[0my_train\u001b[0m\u001b[0;34m)\u001b[0m\u001b[0;34m\u001b[0m\u001b[0;34m\u001b[0m\u001b[0m\n\u001b[0m\u001b[1;32m      4\u001b[0m   \u001b[0my_pred\u001b[0m\u001b[0;34m=\u001b[0m\u001b[0mmodel\u001b[0m\u001b[0;34m.\u001b[0m\u001b[0mpredict\u001b[0m\u001b[0;34m(\u001b[0m\u001b[0mX_test\u001b[0m\u001b[0;34m)\u001b[0m\u001b[0;34m\u001b[0m\u001b[0;34m\u001b[0m\u001b[0m\n\u001b[1;32m      5\u001b[0m   \u001b[0;32mreturn\u001b[0m \u001b[0;34m[\u001b[0m\u001b[0mmodel\u001b[0m\u001b[0;34m,\u001b[0m\u001b[0mmetrics\u001b[0m\u001b[0;34m.\u001b[0m\u001b[0maccuracy_score\u001b[0m\u001b[0;34m(\u001b[0m\u001b[0my_test\u001b[0m\u001b[0;34m,\u001b[0m\u001b[0my_pred\u001b[0m\u001b[0;34m)\u001b[0m\u001b[0;34m]\u001b[0m\u001b[0;34m\u001b[0m\u001b[0;34m\u001b[0m\u001b[0m\n",
            "\u001b[0;32m/usr/local/lib/python3.7/dist-packages/sklearn/naive_bayes.py\u001b[0m in \u001b[0;36mfit\u001b[0;34m(self, X, y, sample_weight)\u001b[0m\n\u001b[1;32m    633\u001b[0m \u001b[0;34m\u001b[0m\u001b[0m\n\u001b[1;32m    634\u001b[0m         \u001b[0mself\u001b[0m\u001b[0;34m.\u001b[0m\u001b[0m_init_counters\u001b[0m\u001b[0;34m(\u001b[0m\u001b[0mn_effective_classes\u001b[0m\u001b[0;34m,\u001b[0m \u001b[0mn_features\u001b[0m\u001b[0;34m)\u001b[0m\u001b[0;34m\u001b[0m\u001b[0;34m\u001b[0m\u001b[0m\n\u001b[0;32m--> 635\u001b[0;31m         \u001b[0mself\u001b[0m\u001b[0;34m.\u001b[0m\u001b[0m_count\u001b[0m\u001b[0;34m(\u001b[0m\u001b[0mX\u001b[0m\u001b[0;34m,\u001b[0m \u001b[0mY\u001b[0m\u001b[0;34m)\u001b[0m\u001b[0;34m\u001b[0m\u001b[0;34m\u001b[0m\u001b[0m\n\u001b[0m\u001b[1;32m    636\u001b[0m         \u001b[0malpha\u001b[0m \u001b[0;34m=\u001b[0m \u001b[0mself\u001b[0m\u001b[0;34m.\u001b[0m\u001b[0m_check_alpha\u001b[0m\u001b[0;34m(\u001b[0m\u001b[0;34m)\u001b[0m\u001b[0;34m\u001b[0m\u001b[0;34m\u001b[0m\u001b[0m\n\u001b[1;32m    637\u001b[0m         \u001b[0mself\u001b[0m\u001b[0;34m.\u001b[0m\u001b[0m_update_feature_log_prob\u001b[0m\u001b[0;34m(\u001b[0m\u001b[0malpha\u001b[0m\u001b[0;34m)\u001b[0m\u001b[0;34m\u001b[0m\u001b[0;34m\u001b[0m\u001b[0m\n",
            "\u001b[0;32m/usr/local/lib/python3.7/dist-packages/sklearn/naive_bayes.py\u001b[0m in \u001b[0;36m_count\u001b[0;34m(self, X, Y)\u001b[0m\n\u001b[1;32m    754\u001b[0m     \u001b[0;32mdef\u001b[0m \u001b[0m_count\u001b[0m\u001b[0;34m(\u001b[0m\u001b[0mself\u001b[0m\u001b[0;34m,\u001b[0m \u001b[0mX\u001b[0m\u001b[0;34m,\u001b[0m \u001b[0mY\u001b[0m\u001b[0;34m)\u001b[0m\u001b[0;34m:\u001b[0m\u001b[0;34m\u001b[0m\u001b[0;34m\u001b[0m\u001b[0m\n\u001b[1;32m    755\u001b[0m         \u001b[0;34m\"\"\"Count and smooth feature occurrences.\"\"\"\u001b[0m\u001b[0;34m\u001b[0m\u001b[0;34m\u001b[0m\u001b[0m\n\u001b[0;32m--> 756\u001b[0;31m         \u001b[0mcheck_non_negative\u001b[0m\u001b[0;34m(\u001b[0m\u001b[0mX\u001b[0m\u001b[0;34m,\u001b[0m \u001b[0;34m\"MultinomialNB (input X)\"\u001b[0m\u001b[0;34m)\u001b[0m\u001b[0;34m\u001b[0m\u001b[0;34m\u001b[0m\u001b[0m\n\u001b[0m\u001b[1;32m    757\u001b[0m         \u001b[0mself\u001b[0m\u001b[0;34m.\u001b[0m\u001b[0mfeature_count_\u001b[0m \u001b[0;34m+=\u001b[0m \u001b[0msafe_sparse_dot\u001b[0m\u001b[0;34m(\u001b[0m\u001b[0mY\u001b[0m\u001b[0;34m.\u001b[0m\u001b[0mT\u001b[0m\u001b[0;34m,\u001b[0m \u001b[0mX\u001b[0m\u001b[0;34m)\u001b[0m\u001b[0;34m\u001b[0m\u001b[0;34m\u001b[0m\u001b[0m\n\u001b[1;32m    758\u001b[0m         \u001b[0mself\u001b[0m\u001b[0;34m.\u001b[0m\u001b[0mclass_count_\u001b[0m \u001b[0;34m+=\u001b[0m \u001b[0mY\u001b[0m\u001b[0;34m.\u001b[0m\u001b[0msum\u001b[0m\u001b[0;34m(\u001b[0m\u001b[0maxis\u001b[0m\u001b[0;34m=\u001b[0m\u001b[0;36m0\u001b[0m\u001b[0;34m)\u001b[0m\u001b[0;34m\u001b[0m\u001b[0;34m\u001b[0m\u001b[0m\n",
            "\u001b[0;32m/usr/local/lib/python3.7/dist-packages/sklearn/utils/validation.py\u001b[0m in \u001b[0;36mcheck_non_negative\u001b[0;34m(X, whom)\u001b[0m\n\u001b[1;32m    992\u001b[0m \u001b[0;34m\u001b[0m\u001b[0m\n\u001b[1;32m    993\u001b[0m     \u001b[0;32mif\u001b[0m \u001b[0mX_min\u001b[0m \u001b[0;34m<\u001b[0m \u001b[0;36m0\u001b[0m\u001b[0;34m:\u001b[0m\u001b[0;34m\u001b[0m\u001b[0;34m\u001b[0m\u001b[0m\n\u001b[0;32m--> 994\u001b[0;31m         \u001b[0;32mraise\u001b[0m \u001b[0mValueError\u001b[0m\u001b[0;34m(\u001b[0m\u001b[0;34m\"Negative values in data passed to %s\"\u001b[0m \u001b[0;34m%\u001b[0m \u001b[0mwhom\u001b[0m\u001b[0;34m)\u001b[0m\u001b[0;34m\u001b[0m\u001b[0;34m\u001b[0m\u001b[0m\n\u001b[0m\u001b[1;32m    995\u001b[0m \u001b[0;34m\u001b[0m\u001b[0m\n\u001b[1;32m    996\u001b[0m \u001b[0;34m\u001b[0m\u001b[0m\n",
            "\u001b[0;31mValueError\u001b[0m: Negative values in data passed to MultinomialNB (input X)"
          ]
        }
      ]
    },
    {
      "cell_type": "code",
      "metadata": {
        "colab": {
          "base_uri": "https://localhost:8080/"
        },
        "id": "gturt5ZlUehZ",
        "outputId": "0f28596b-c7fe-43af-da2d-c81de12df22c"
      },
      "source": [
        "#посмотрим, что будет с нормализованной и сокращенной выборкой. результат незначительно улучшился.\n",
        "pca=PCA(n_components=50)\n",
        "Scaler=MinMaxScaler()\n",
        "res=acc(MNB,Scaler.fit_transform(pca.fit_transform(X_train)), y_train,Scaler.transform(pca.transform(X_test)),y_test)\n",
        "res[1]"
      ],
      "execution_count": null,
      "outputs": [
        {
          "data": {
            "text/plain": [
              "0.5806730769230769"
            ]
          },
          "execution_count": 44,
          "metadata": {},
          "output_type": "execute_result"
        }
      ]
    },
    {
      "cell_type": "code",
      "metadata": {
        "colab": {
          "base_uri": "https://localhost:8080/"
        },
        "id": "xachRP_qYtOj",
        "outputId": "3c9ab6cf-2752-4738-b03a-fc11ca7a538f"
      },
      "source": [
        "#посмотрим, что будет только с нормализованной выборкой. результат чуть хуже, но разница не очень существенная\n",
        "pca=PCA(n_components=50)\n",
        "Scaler=MinMaxScaler()\n",
        "res=acc(MNB,Scaler.fit_transform(X_train), y_train,Scaler.transform(X_test),y_test)\n",
        "res[1]"
      ],
      "execution_count": null,
      "outputs": [
        {
          "data": {
            "text/plain": [
              "0.5782692307692308"
            ]
          },
          "execution_count": 46,
          "metadata": {},
          "output_type": "execute_result"
        }
      ]
    },
    {
      "cell_type": "code",
      "metadata": {
        "colab": {
          "base_uri": "https://localhost:8080/"
        },
        "id": "TNwbQ6O1tNzF",
        "outputId": "60fbfa9e-d216-44ea-9a26-a5f0cabc07b7"
      },
      "source": [
        "#в качестве эксперимента используем гауссовский классификатор для заведомо ненормально распределенных данных. естественно, получим плохой результат\n",
        "GNB=GaussianNB()\n",
        "res=acc(GNB,X_train, y_train,X_test,y_test)\n",
        "res[1]"
      ],
      "execution_count": null,
      "outputs": [
        {
          "data": {
            "text/plain": [
              "0.3496153846153846"
            ]
          },
          "execution_count": 42,
          "metadata": {},
          "output_type": "execute_result"
        }
      ]
    },
    {
      "cell_type": "code",
      "metadata": {
        "colab": {
          "base_uri": "https://localhost:8080/"
        },
        "id": "u79N0-dEtvog",
        "outputId": "9927aff7-2b95-42e3-c9d3-53cdb42fd0fb"
      },
      "source": [
        "#CNB больше подходит для разбалансированных выборок и дает результат хуже, чем MultinomialNB\n",
        "CNB = ComplementNB()\n",
        "res=acc(CNB,X_train, y_train,X_test,y_test)\n",
        "res[1]"
      ],
      "execution_count": null,
      "outputs": [
        {
          "data": {
            "text/plain": [
              "0.4790865384615385"
            ]
          },
          "execution_count": 43,
          "metadata": {},
          "output_type": "execute_result"
        }
      ]
    },
    {
      "cell_type": "markdown",
      "metadata": {
        "id": "JlJhSWqpnaaF"
      },
      "source": [
        "Наивный байесовский классификатор показывает результаты хуже, чем логистическая регрессия, и метод главных компонент несущественно влияет на результаты."
      ]
    },
    {
      "cell_type": "markdown",
      "metadata": {
        "id": "gnAETrszwlSz"
      },
      "source": [
        "# Linear SVC (или SVM с ядром)\n"
      ]
    },
    {
      "cell_type": "code",
      "metadata": {
        "colab": {
          "base_uri": "https://localhost:8080/"
        },
        "id": "GdWiIJfAufru",
        "outputId": "e6de8f91-80b9-4f28-d2b2-0c1318d1a7ab"
      },
      "source": [
        "#протестируем метод опорных векторов \n",
        "steps = [('scaler', StandardScaler()), ('SVM', SVC())]\n",
        "pipeline = Pipeline(steps) # define Pipeline object\n",
        "res=acc(pipeline,X_train_small,y_train_small,X_test_small,y_test_small)\n",
        "res[1]"
      ],
      "execution_count": null,
      "outputs": [
        {
          "data": {
            "text/plain": [
              "0.7426099495313626"
            ]
          },
          "execution_count": 20,
          "metadata": {},
          "output_type": "execute_result"
        }
      ]
    },
    {
      "cell_type": "code",
      "metadata": {
        "colab": {
          "background_save": true
        },
        "id": "HI_YRSHrnTwP",
        "outputId": "383ba135-20ed-4af3-a4a5-a79fda2ec535"
      },
      "source": [
        "#оценим модель на всей выборке \n",
        "steps = [('scaler', StandardScaler()), ('SVM', SVC())]\n",
        "pipeline = Pipeline(steps) # define Pipeline object\n",
        "res=acc(pipeline,X_train,y_train,X_test,y_test)\n",
        "res[1]"
      ],
      "execution_count": null,
      "outputs": [
        {
          "data": {
            "text/plain": [
              "0.8880769230769231"
            ]
          },
          "execution_count": null,
          "metadata": {},
          "output_type": "execute_result"
        }
      ]
    },
    {
      "cell_type": "code",
      "metadata": {
        "colab": {
          "base_uri": "https://localhost:8080/"
        },
        "id": "iSTThV_7OqSm",
        "outputId": "34984fcf-4aab-4fdb-87cc-ab79f541a92e"
      },
      "source": [
        "#поищем более подходящие параметры по сетке\n",
        "#время выполнения 100 мин\n",
        "steps = [('scaler', StandardScaler()), ('SVM', SVC())]\n",
        "pipeline = Pipeline(steps) # define Pipeline object\n",
        "parameters = {'SVM__C':[0.001, 0.1, 100, 10e5], 'SVM__gamma':[10,1,0.1,0.01,0.001], 'SVM__kernel':['poly','rbf','linear']}\n",
        "grid = GridSearchCV(pipeline, param_grid=parameters,scoring='accuracy')\n",
        "grid.fit(X_train_small, y_train_small)\n",
        "print(grid.score(X_test_small, y_test_small))\n",
        "print(grid.best_params_)\n"
      ],
      "execution_count": null,
      "outputs": [
        {
          "name": "stdout",
          "output_type": "stream",
          "text": [
            "0.7692307692307693\n",
            "{'SVM__C': 0.1, 'SVM__gamma': 0.01, 'SVM__kernel': 'poly'}\n"
          ]
        }
      ]
    },
    {
      "cell_type": "code",
      "metadata": {
        "colab": {
          "base_uri": "https://localhost:8080/"
        },
        "id": "xHDP4p3lXTKY",
        "outputId": "e30effe7-d5b6-4fc8-88fc-eb80abc8c6a3"
      },
      "source": [
        "#оценим работу модели c выбранными параметрами на всей выборке\n",
        "#время выполнения 84 мин\n",
        "res= acc(SVC(C=0.1, gamma=0.01, kernel= 'poly'),X_train,y_train,X_test,y_test)\n",
        "res[1]"
      ],
      "execution_count": null,
      "outputs": [
        {
          "data": {
            "text/plain": [
              "0.9026923076923077"
            ]
          },
          "execution_count": 15,
          "metadata": {},
          "output_type": "execute_result"
        }
      ]
    },
    {
      "cell_type": "code",
      "metadata": {
        "id": "8AVjvkMrrtyQ"
      },
      "source": [
        "#запишем результат в файл\n",
        "write(res[0],'SVM')"
      ],
      "execution_count": null,
      "outputs": []
    },
    {
      "cell_type": "code",
      "metadata": {
        "colab": {
          "base_uri": "https://localhost:8080/"
        },
        "id": "gSy_uRF59olD",
        "outputId": "5e00d65d-1b98-4afa-f93d-b55708ca090e"
      },
      "source": [
        "#скейлинг улучшает предсказание, но делает это очень долго (1.5 часа)\n",
        "Scaler=StandardScaler()\n",
        "res= acc(SVC(C=0.1, gamma=0.01, kernel= 'poly'),Scaler.fit_transform(X_train),y_train,Scaler.transform(X_test),y_test)\n",
        "res[1]"
      ],
      "execution_count": null,
      "outputs": [
        {
          "output_type": "execute_result",
          "data": {
            "text/plain": [
              "0.9091346153846154"
            ]
          },
          "metadata": {},
          "execution_count": 16
        }
      ]
    },
    {
      "cell_type": "code",
      "metadata": {
        "colab": {
          "base_uri": "https://localhost:8080/"
        },
        "id": "gtwjvIzlxdp_",
        "outputId": "c17256c0-07ae-4511-dcc7-51ce714c3f32"
      },
      "source": [
        "#попробуем применить метод главных компонент к той же модели и чуть улучшим результат\n",
        "#время выполнения почти 3 ч\n",
        "pca=PCA(n_components=50)\n",
        "res2=acc(res[0],pca.fit_transform(X_train), y_train,pca.transform(X_test),y_test)\n",
        "res2[1]"
      ],
      "execution_count": null,
      "outputs": [
        {
          "data": {
            "text/plain": [
              "0.9065384615384615"
            ]
          },
          "execution_count": 19,
          "metadata": {},
          "output_type": "execute_result"
        }
      ]
    },
    {
      "cell_type": "code",
      "metadata": {
        "colab": {
          "base_uri": "https://localhost:8080/"
        },
        "id": "9u_iSFwVFr0f",
        "outputId": "2b432c91-8d0a-40fa-c730-7b7d55d4e868"
      },
      "source": [
        "#поищем оптимальное количество главных компонент \n",
        "for n in range(50,70):\n",
        "    pca=PCA(n_components=n)\n",
        "    Scaler=StandardScaler()\n",
        "    res= acc(SVC(C=0.1, gamma=0.01, kernel= 'poly'),pca.fit_transform(Scaler.fit_transform(X_train_small)),y_train_small,\n",
        "             pca.transform(Scaler.transform(X_test_small)),y_test_small)\n",
        "    print(n,res[1])"
      ],
      "execution_count": null,
      "outputs": [
        {
          "name": "stdout",
          "output_type": "stream",
          "text": [
            "50 0.7846153846153846\n",
            "51 0.7884615384615384\n",
            "52 0.7836538461538461\n",
            "53 0.7817307692307692\n",
            "54 0.7846153846153846\n",
            "55 0.7903846153846154\n",
            "56 0.7913461538461538\n",
            "57 0.7894230769230769\n",
            "58 0.7875\n",
            "59 0.7894230769230769\n",
            "60 0.7894230769230769\n",
            "61 0.7884615384615384\n",
            "62 0.7894230769230769\n",
            "63 0.7903846153846154\n",
            "64 0.7903846153846154\n",
            "65 0.7894230769230769\n",
            "66 0.7913461538461538\n",
            "67 0.7884615384615384\n",
            "68 0.7913461538461538\n",
            "69 0.7875\n"
          ]
        }
      ]
    },
    {
      "cell_type": "code",
      "metadata": {
        "colab": {
          "base_uri": "https://localhost:8080/"
        },
        "id": "fWd1OLS6TTQc",
        "outputId": "add430be-8f23-4e0c-f071-c1c968feaa30"
      },
      "source": [
        "#cформируем модель с наиболее оптимальными параметрами\n",
        "pca=PCA(n_components=56)\n",
        "Scaler=StandardScaler()\n",
        "res=acc(SVC(C=0.1, gamma=0.01, kernel= 'poly'),pca.fit_transform(Scaler.fit_transform(X_train)), y_train,pca.transform(Scaler.transform(X_test)),y_test)\n",
        "res[1]"
      ],
      "execution_count": null,
      "outputs": [
        {
          "data": {
            "text/plain": [
              "0.9091826923076923"
            ]
          },
          "execution_count": 31,
          "metadata": {},
          "output_type": "execute_result"
        }
      ]
    },
    {
      "cell_type": "code",
      "metadata": {
        "id": "HQVR9Jz4Tr-g"
      },
      "source": [
        "#запишем в файл результат, который в итоге дал лучший показатель на kaggle\n",
        "write(res[0],'SVC',pca.transform(Scaler.transform(final_test)))"
      ],
      "execution_count": null,
      "outputs": []
    },
    {
      "cell_type": "code",
      "metadata": {
        "colab": {
          "base_uri": "https://localhost:8080/"
        },
        "id": "hH7hQroopBMw",
        "outputId": "f75ea04f-53bd-4466-c3d7-b8bed9709bde"
      },
      "source": [
        "#запустим поиск по сетке с учетом количества главных компонент\n",
        "#время выполнения 5ч\n",
        "steps = [('scaler', StandardScaler()), ('PCA',PCA()), ('SVM', SVC())]\n",
        "pipeline = Pipeline(steps) # define Pipeline object\n",
        "parameters = {'SVM__C':[0.001, 0.1,1,10, 100, 1000], 'SVM__gamma':[10,1,0.1,0.01,0.001], 'SVM__kernel':['poly','rbf','linear'],'PCA__n_components':[56,66,68]}\n",
        "grid = GridSearchCV(pipeline, param_grid=parameters,scoring='accuracy')\n",
        "grid.fit(X_train_small, y_train_small)\n",
        "print(grid.score(X_test_small, y_test_small))\n",
        "print(grid.best_params_)\n"
      ],
      "execution_count": null,
      "outputs": [
        {
          "name": "stdout",
          "output_type": "stream",
          "text": [
            "0.7923076923076923\n",
            "{'PCA__n_components': 56, 'SVM__C': 100, 'SVM__gamma': 0.001, 'SVM__kernel': 'poly'}\n"
          ]
        }
      ]
    },
    {
      "cell_type": "code",
      "metadata": {
        "colab": {
          "base_uri": "https://localhost:8080/"
        },
        "id": "5MSKfTeS7m0h",
        "outputId": "4c4f231b-739d-4e42-cc82-ae9eb7b132d1"
      },
      "source": [
        "#оценим точность модели с подходящими параметрами на всей выборке и получим самый точный результат\n",
        "#10 мин\n",
        "res=acc(grid.best_estimator_,X_train, y_train,X_test,y_test)\n",
        "res[1]"
      ],
      "execution_count": null,
      "outputs": [
        {
          "data": {
            "text/plain": [
              "0.9096153846153846"
            ]
          },
          "execution_count": 22,
          "metadata": {},
          "output_type": "execute_result"
        }
      ]
    },
    {
      "cell_type": "code",
      "metadata": {
        "id": "T60LRDyOrUg1"
      },
      "source": [
        "#запишем результат в файл и после загрузки на kaggle выясним, что точность на финальной тестовой выборке не увеличилась, \n",
        "#из чего делаем вывод, что модель уже начала переобучаться\n",
        "write(grid.best_estimator_,'SVC_3',final_test)"
      ],
      "execution_count": null,
      "outputs": []
    },
    {
      "cell_type": "code",
      "metadata": {
        "colab": {
          "base_uri": "https://localhost:8080/"
        },
        "id": "ptivMqNYhV8g",
        "outputId": "3f3cf461-b3ca-41e4-ac9d-ee7a573def1f"
      },
      "source": [
        "#вместо LinearSVC попробуем применить SGDClassifier, который позволяет избежать копирования массива данных\n",
        "clf = make_pipeline(StandardScaler(), SGDClassifier(max_iter=1000, tol=1e-3))\n",
        "res=acc(clf,X_train_small,y_train_small,X_test_small,y_test_small)\n",
        "res[1]"
      ],
      "execution_count": null,
      "outputs": [
        {
          "data": {
            "text/plain": [
              "0.6192307692307693"
            ]
          },
          "execution_count": 51,
          "metadata": {},
          "output_type": "execute_result"
        }
      ]
    },
    {
      "cell_type": "code",
      "metadata": {
        "colab": {
          "base_uri": "https://localhost:8080/"
        },
        "id": "p_Ptk-2joxOQ",
        "outputId": "255f1f24-94d5-40d1-ffc7-ba03cc9212ad"
      },
      "source": [
        "#без скейлинга точность значительно ниже\n",
        "clf = SGDClassifier()\n",
        "res=acc(clf,X_train_small,y_train_small,X_test_small,y_test_small)\n",
        "res[1]"
      ],
      "execution_count": null,
      "outputs": [
        {
          "data": {
            "text/plain": [
              "0.5086538461538461"
            ]
          },
          "execution_count": 52,
          "metadata": {},
          "output_type": "execute_result"
        }
      ]
    },
    {
      "cell_type": "code",
      "metadata": {
        "colab": {
          "base_uri": "https://localhost:8080/"
        },
        "id": "cxQHpWY0oxLe",
        "outputId": "b4028aeb-aa68-430a-cd18-e4b7fc06a43e"
      },
      "source": [
        "#с методом главных компонент точность чуть выше\n",
        "pca=PCA(n_components=50)\n",
        "res=acc(SGDClassifier(),StandardScaler().fit_transform(pca.fit_transform(X_train_small)), y_train_small,StandardScaler().fit_transform(pca.transform(X_test_small)),y_test_small)\n",
        "res[1]"
      ],
      "execution_count": null,
      "outputs": [
        {
          "data": {
            "text/plain": [
              "0.5740384615384615"
            ]
          },
          "execution_count": 53,
          "metadata": {},
          "output_type": "execute_result"
        }
      ]
    },
    {
      "cell_type": "code",
      "metadata": {
        "colab": {
          "base_uri": "https://localhost:8080/"
        },
        "id": "DR_Q_3UyoxEt",
        "outputId": "b3e70076-4cc8-482a-b1ab-bc0ac878a944"
      },
      "source": [
        "#увеличим количество итераций и получим более точный результат, но достаточно долгую работу алгоритма - 41 мин\n",
        "clf = make_pipeline(StandardScaler(), SGDClassifier(max_iter=10000)) \n",
        "res=acc(clf,X_train,y_train,X_test,y_test)\n",
        "res[1]"
      ],
      "execution_count": null,
      "outputs": [
        {
          "data": {
            "text/plain": [
              "0.6775"
            ]
          },
          "execution_count": 54,
          "metadata": {},
          "output_type": "execute_result"
        }
      ]
    },
    {
      "cell_type": "code",
      "metadata": {
        "colab": {
          "base_uri": "https://localhost:8080/"
        },
        "id": "DfYsMjpMpALD",
        "outputId": "5ae18075-cdde-4898-ded8-91b8cd9e13a0"
      },
      "source": [
        "#метод главных компонент снижает время выполнения в 10 раз при относительно небольшой потере точности\n",
        "pca=PCA(n_components=50)\n",
        "res=acc(SGDClassifier(),StandardScaler().fit_transform(pca.fit_transform(X_train)), y_train,StandardScaler().transform(pca.transform(X_test)),y_test)\n",
        "res[1]"
      ],
      "execution_count": null,
      "outputs": [
        {
          "data": {
            "text/plain": [
              "0.6471153846153846"
            ]
          },
          "execution_count": 55,
          "metadata": {},
          "output_type": "execute_result"
        }
      ]
    },
    {
      "cell_type": "code",
      "metadata": {
        "id": "nyPcCCAhyQSt"
      },
      "source": [
        "#после очередного прочтения документации по PCA решила использовать параметр, задающий количество компонент, объясняющих больше заданного \n",
        "#количества дисперсии (0.9 в данном случае) и получила лучший результат 0.910625\n",
        "pca=PCA(n_components=0.9)\n",
        "Scaler=StandardScaler()\n",
        "res=acc(SVC(C=0.1, gamma=0.01, kernel= 'poly'),pca.fit_transform(Scaler.fit_transform(X_train)), y_train,pca.transform(Scaler.transform(X_test)),y_test)\n",
        "res[1]"
      ],
      "execution_count": null,
      "outputs": []
    },
    {
      "cell_type": "code",
      "metadata": {
        "id": "ZUQpAPg5zODq"
      },
      "source": [
        "write(res[0],'SVC_4',pca.transform(Scaler.transform(final_test)))"
      ],
      "execution_count": null,
      "outputs": []
    },
    {
      "cell_type": "markdown",
      "metadata": {
        "id": "WMl17k6On1Uv"
      },
      "source": [
        "Метод опорных векторов в сочетании с PCA дает точность предсказания выше, чем KNN, но обучение модели и подбор оптимальных параметров занимает непростительно много времени - порядка 5 ч."
      ]
    },
    {
      "cell_type": "markdown",
      "metadata": {
        "id": "ZZg9XGRYw1bv"
      },
      "source": [
        "# DecisionTreeClassifier"
      ]
    },
    {
      "cell_type": "code",
      "metadata": {
        "colab": {
          "base_uri": "https://localhost:8080/"
        },
        "id": "o1epMEJdybnD",
        "outputId": "899f1340-7235-43fd-a314-889b3310eccc"
      },
      "source": [
        "#перейдем к решающим деревьям\n",
        "tree_clf = DecisionTreeClassifier(criterion = 'entropy', max_depth=10)\n",
        "res=acc(tree_clf,X_train, y_train,X_test,y_test)\n",
        "res[1]"
      ],
      "execution_count": null,
      "outputs": [
        {
          "data": {
            "text/plain": [
              "0.6721634615384615"
            ]
          },
          "execution_count": 56,
          "metadata": {},
          "output_type": "execute_result"
        }
      ]
    },
    {
      "cell_type": "code",
      "metadata": {
        "colab": {
          "base_uri": "https://localhost:8080/"
        },
        "id": "8hVlu-mxqdlq",
        "outputId": "5520e913-c1b4-45fc-cf91-72522dc0e362"
      },
      "source": [
        "#посмотрим на точность модели с увеличенной глубиной\n",
        "tree_clf = DecisionTreeClassifier(criterion = 'entropy', max_depth=30)\n",
        "acc(tree_clf,X_train, y_train,X_test,y_test)[1]"
      ],
      "execution_count": null,
      "outputs": [
        {
          "data": {
            "text/plain": [
              "0.7291826923076923"
            ]
          },
          "execution_count": 57,
          "metadata": {},
          "output_type": "execute_result"
        }
      ]
    },
    {
      "cell_type": "code",
      "metadata": {
        "colab": {
          "base_uri": "https://localhost:8080/"
        },
        "id": "z9Fhp1KOphUY",
        "outputId": "947bd4bc-6c11-4d0b-9359-be7770bdda6f"
      },
      "source": [
        "#поищем наиболее оптимальные параметры модели\n",
        "params = {'max_depth': [50,100], 'min_samples_split': [2, 3, 4], 'criterion': ['entropy','gini']}\n",
        "grid_search_cv = GridSearchCV(DecisionTreeClassifier(), params, scoring='accuracy')\n",
        "grid_search_cv.fit(X_train, y_train)\n",
        "acc(grid_search_cv.best_estimator_,X_train, y_train,X_test,y_test)[1]"
      ],
      "execution_count": null,
      "outputs": [
        {
          "data": {
            "text/plain": [
              "0.728798076923077"
            ]
          },
          "execution_count": 10,
          "metadata": {},
          "output_type": "execute_result"
        }
      ]
    },
    {
      "cell_type": "code",
      "metadata": {
        "colab": {
          "base_uri": "https://localhost:8080/"
        },
        "id": "ng9jBhICb0Wz",
        "outputId": "82f7625e-9450-4abc-f9ce-98c9efc2ccd9"
      },
      "source": [
        "#оценим точность модели с применением метода главных компонент\n",
        "pca = PCA(n_components=50)\n",
        "tree_clf = DecisionTreeClassifier(criterion = 'entropy', max_depth=30)\n",
        "acc(tree_clf,pca.fit_transform(X_train), y_train,pca.transform(X_test),y_test)[1]"
      ],
      "execution_count": null,
      "outputs": [
        {
          "data": {
            "text/plain": [
              "0.6510096153846154"
            ]
          },
          "execution_count": 9,
          "metadata": {},
          "output_type": "execute_result"
        }
      ]
    },
    {
      "cell_type": "markdown",
      "metadata": {
        "id": "ZUyG3C0boOPv"
      },
      "source": [
        "Решающие деревья дают среднюю точность на уровне логистической регрессии, метод снижения размерности ухудшает предсказание."
      ]
    },
    {
      "cell_type": "markdown",
      "metadata": {
        "id": "yhABrfAWdvRa"
      },
      "source": [
        "# RandomForestClassifier"
      ]
    },
    {
      "cell_type": "code",
      "metadata": {
        "colab": {
          "base_uri": "https://localhost:8080/"
        },
        "id": "dOBQRwqydy20",
        "outputId": "4f37d198-0dee-4d37-ca4a-02abea24c6ad"
      },
      "source": [
        "#оценим, как отличается точность классификации на случайном лесе\n",
        "clf = RandomForestClassifier(n_estimators=100)\n",
        "res=acc(clf,X_train, y_train,X_test,y_test)\n",
        "res"
      ],
      "execution_count": null,
      "outputs": [
        {
          "output_type": "execute_result",
          "data": {
            "text/plain": [
              "[RandomForestClassifier(bootstrap=True, ccp_alpha=0.0, class_weight=None,\n",
              "                        criterion='gini', max_depth=None, max_features='auto',\n",
              "                        max_leaf_nodes=None, max_samples=None,\n",
              "                        min_impurity_decrease=0.0, min_impurity_split=None,\n",
              "                        min_samples_leaf=1, min_samples_split=2,\n",
              "                        min_weight_fraction_leaf=0.0, n_estimators=100,\n",
              "                        n_jobs=None, oob_score=False, random_state=None,\n",
              "                        verbose=0, warm_start=False), 0.8841826923076923]"
            ]
          },
          "metadata": {},
          "execution_count": 16
        }
      ]
    },
    {
      "cell_type": "code",
      "metadata": {
        "colab": {
          "base_uri": "https://localhost:8080/"
        },
        "id": "EAE9wI7wGQN2",
        "outputId": "77c79656-a4dd-401b-898e-e87411e60766"
      },
      "source": [
        "#достаточно высокая точность классификации каждого класса\n",
        "print(metrics.classification_report(y_test,res[0].predict(X_test),target_names=letters))"
      ],
      "execution_count": null,
      "outputs": [
        {
          "output_type": "stream",
          "name": "stdout",
          "text": [
            "              precision    recall  f1-score   support\n",
            "\n",
            "           a       0.78      0.88      0.83       800\n",
            "           b       0.91      0.93      0.92       800\n",
            "           c       0.93      0.92      0.92       800\n",
            "           d       0.89      0.87      0.88       800\n",
            "           e       0.90      0.92      0.91       800\n",
            "           f       0.91      0.91      0.91       800\n",
            "           g       0.84      0.69      0.76       800\n",
            "           h       0.90      0.86      0.88       800\n",
            "           i       0.72      0.74      0.73       800\n",
            "           j       0.89      0.90      0.90       800\n",
            "           k       0.89      0.90      0.89       800\n",
            "           l       0.73      0.74      0.73       800\n",
            "           m       0.95      0.96      0.95       800\n",
            "           n       0.87      0.89      0.88       800\n",
            "           o       0.88      0.96      0.92       800\n",
            "           p       0.92      0.94      0.93       800\n",
            "           q       0.79      0.79      0.79       800\n",
            "           r       0.91      0.85      0.88       800\n",
            "           s       0.95      0.93      0.94       800\n",
            "           t       0.89      0.93      0.91       800\n",
            "           u       0.90      0.92      0.91       800\n",
            "           v       0.90      0.89      0.90       800\n",
            "           w       0.94      0.95      0.95       800\n",
            "           x       0.94      0.91      0.93       800\n",
            "           y       0.90      0.89      0.89       800\n",
            "           z       0.94      0.94      0.94       800\n",
            "\n",
            "    accuracy                           0.88     20800\n",
            "   macro avg       0.88      0.88      0.88     20800\n",
            "weighted avg       0.88      0.88      0.88     20800\n",
            "\n"
          ]
        }
      ]
    },
    {
      "cell_type": "code",
      "metadata": {
        "colab": {
          "background_save": true
        },
        "id": "li7pJnxEexWL",
        "outputId": "6c95fcae-b6be-42cc-d2d0-c5bab9fbac96"
      },
      "source": [
        "#запустим поиск гиперпараметов по сетке\n",
        "params = {'n_estimators': [100,200,300,500], 'criterion': ['gini', 'entropy'],'max_depth':[100,200,500]\n",
        "          }\n",
        "grid_search_cv = GridSearchCV(RandomForestClassifier(), params)\n",
        "grid_search_cv.fit(X_train_small, y_train_small)"
      ],
      "execution_count": null,
      "outputs": [
        {
          "data": {
            "text/plain": [
              "GridSearchCV(cv=None, error_score=nan,\n",
              "             estimator=RandomForestClassifier(bootstrap=True, ccp_alpha=0.0,\n",
              "                                              class_weight=None,\n",
              "                                              criterion='gini', max_depth=None,\n",
              "                                              max_features='auto',\n",
              "                                              max_leaf_nodes=None,\n",
              "                                              max_samples=None,\n",
              "                                              min_impurity_decrease=0.0,\n",
              "                                              min_impurity_split=None,\n",
              "                                              min_samples_leaf=1,\n",
              "                                              min_samples_split=2,\n",
              "                                              min_weight_fraction_leaf=0.0,\n",
              "                                              n_estimators=100, n_jobs=None,\n",
              "                                              oob_score=False,\n",
              "                                              random_state=None, verbose=0,\n",
              "                                              warm_start=False),\n",
              "             iid='deprecated', n_jobs=None,\n",
              "             param_grid={'criterion': ['gini', 'entropy'],\n",
              "                         'max_depth': [100, 200, 500],\n",
              "                         'n_estimators': [100, 200, 300, 500]},\n",
              "             pre_dispatch='2*n_jobs', refit=True, return_train_score=False,\n",
              "             scoring=None, verbose=0)"
            ]
          },
          "execution_count": null,
          "metadata": {},
          "output_type": "execute_result"
        }
      ]
    },
    {
      "cell_type": "code",
      "metadata": {
        "colab": {
          "base_uri": "https://localhost:8080/"
        },
        "id": "_Q8_fG9iGWdH",
        "outputId": "64b570df-5620-456c-f9db-196c1d43e00b"
      },
      "source": [
        "grid_search_cv.best_params_"
      ],
      "execution_count": null,
      "outputs": [
        {
          "data": {
            "text/plain": [
              "{'criterion': 'entropy', 'max_depth': 1000, 'n_estimators': 500}"
            ]
          },
          "execution_count": 12,
          "metadata": {},
          "output_type": "execute_result"
        }
      ]
    },
    {
      "cell_type": "code",
      "metadata": {
        "colab": {
          "base_uri": "https://localhost:8080/"
        },
        "id": "W4BmtZVH0rRR",
        "outputId": "47f84ef9-1bad-4b26-c3a7-6b6e5493b6d3"
      },
      "source": [
        "#оценим точность лучшего леса на всех данных\n",
        "acc(grid_search_cv.best_estimator_,X_train, y_train,X_test,y_test)[1]"
      ],
      "execution_count": null,
      "outputs": [
        {
          "data": {
            "text/plain": [
              "0.8904807692307692"
            ]
          },
          "execution_count": 13,
          "metadata": {},
          "output_type": "execute_result"
        }
      ]
    },
    {
      "cell_type": "code",
      "metadata": {
        "colab": {
          "base_uri": "https://localhost:8080/"
        },
        "id": "o0Bcxk4Notep",
        "outputId": "5d3f1a9d-e216-4aed-8297-10274bdbb77e"
      },
      "source": [
        "#посмотрим, что будет, если увеличим глубину и количество решающих деревьев\n",
        "clf = RandomForestClassifier(n_estimators=500,max_depth=1000,criterion='entropy')\n",
        "res=acc(clf,X_train, y_train,X_test,y_test)\n",
        "res[1]"
      ],
      "execution_count": null,
      "outputs": [
        {
          "data": {
            "text/plain": [
              "0.8903365384615385"
            ]
          },
          "execution_count": 9,
          "metadata": {},
          "output_type": "execute_result"
        }
      ]
    },
    {
      "cell_type": "code",
      "metadata": {
        "colab": {
          "base_uri": "https://localhost:8080/"
        },
        "id": "cCd_Avm53PEr",
        "outputId": "1cb19445-0087-46ed-8973-ea47a6e1c62d"
      },
      "source": [
        "#посмотрим, как зависит точность модели от количества компонент метода PCA\n",
        "for n in (10,50,70,100,150,200):\n",
        "  rfc = Pipeline([\n",
        "        ('PCA', PCA(n_components=n)), \n",
        "        ('RFC', RandomForestClassifier(n_estimators=500,criterion='entropy'))\n",
        "    ])\n",
        "\n",
        "  print(n, acc(rfc,X_train_small, y_train_small,X_test_small,y_test_small)[1])"
      ],
      "execution_count": null,
      "outputs": [
        {
          "output_type": "stream",
          "name": "stdout",
          "text": [
            "10 0.6633020908435472\n",
            "50 0.7462148521989906\n",
            "70 0.7310742609949531\n",
            "100 0.726027397260274\n",
            "150 0.7137707281903388\n",
            "200 0.6878154289834174\n"
          ]
        }
      ]
    },
    {
      "cell_type": "code",
      "metadata": {
        "colab": {
          "base_uri": "https://localhost:8080/"
        },
        "id": "ARvpUd5YNNYy",
        "outputId": "5e914a45-fb3a-45ca-d2d1-b0f34b23fde6"
      },
      "source": [
        "#точность модели при использовании метода PCA снижается\n",
        "rfc = Pipeline([\n",
        "        ('PCA', PCA(n_components=30)), \n",
        "        ('RFC', grid_search_cv.best_estimator_)\n",
        "    ])\n",
        "acc(rfc,X_train, y_train,X_test,y_test)[1]"
      ],
      "execution_count": null,
      "outputs": [
        {
          "data": {
            "text/plain": [
              "0.8605288461538462"
            ]
          },
          "execution_count": 16,
          "metadata": {},
          "output_type": "execute_result"
        }
      ]
    },
    {
      "cell_type": "markdown",
      "metadata": {
        "id": "1MLXYLr2apms"
      },
      "source": [
        "Случайный лес дает достаточно высокую точность при большом количестве решающих деревьев и большой глубине. Применение метода главных компонент ухудшает точность предсказания."
      ]
    },
    {
      "cell_type": "code",
      "metadata": {
        "colab": {
          "base_uri": "https://localhost:8080/"
        },
        "id": "7lZbQxcDy0mU",
        "outputId": "c0360f5a-c0d3-48fb-87b0-4086f525707c"
      },
      "source": [
        "#посмотрим на экстралес\n",
        "clf = ExtraTreesClassifier(n_estimators=100)\n",
        "res=acc(clf,X_train, y_train,X_test,y_test)\n",
        "res[1]"
      ],
      "execution_count": null,
      "outputs": [
        {
          "output_type": "execute_result",
          "data": {
            "text/plain": [
              "0.886201923076923"
            ]
          },
          "metadata": {},
          "execution_count": 12
        }
      ]
    },
    {
      "cell_type": "code",
      "metadata": {
        "colab": {
          "base_uri": "https://localhost:8080/"
        },
        "id": "1ULfJjZgz3gA",
        "outputId": "cd0363f2-574a-4054-f97e-e94005dc3c90"
      },
      "source": [
        "#увеличим количество деревьев и увидим, что алгоритм дает высокую точность при времени выполнения в пределах 5 минут\n",
        "clf = ExtraTreesClassifier(n_estimators=325)\n",
        "res=acc(clf,X_train, y_train,X_test,y_test)\n",
        "res[1]"
      ],
      "execution_count": null,
      "outputs": [
        {
          "output_type": "execute_result",
          "data": {
            "text/plain": [
              "0.8919230769230769"
            ]
          },
          "metadata": {},
          "execution_count": 11
        }
      ]
    },
    {
      "cell_type": "code",
      "metadata": {
        "colab": {
          "base_uri": "https://localhost:8080/"
        },
        "id": "09YdCMCpK5Mt",
        "outputId": "9893f1ad-fba1-45c2-c75d-a80abbf9c4ab"
      },
      "source": [
        "#точность классификации достаточно высокая для каждого класса, традиционно проседающая на буквах L и I\n",
        "print(metrics.classification_report(y_test,res[0].predict(X_test),target_names=letters))"
      ],
      "execution_count": null,
      "outputs": [
        {
          "output_type": "stream",
          "name": "stdout",
          "text": [
            "              precision    recall  f1-score   support\n",
            "\n",
            "           a       0.82      0.89      0.85       800\n",
            "           b       0.92      0.92      0.92       800\n",
            "           c       0.93      0.93      0.93       800\n",
            "           d       0.91      0.87      0.89       800\n",
            "           e       0.90      0.92      0.91       800\n",
            "           f       0.94      0.92      0.93       800\n",
            "           g       0.85      0.70      0.77       800\n",
            "           h       0.90      0.87      0.89       800\n",
            "           i       0.72      0.76      0.74       800\n",
            "           j       0.89      0.90      0.89       800\n",
            "           k       0.89      0.90      0.89       800\n",
            "           l       0.74      0.72      0.73       800\n",
            "           m       0.95      0.95      0.95       800\n",
            "           n       0.90      0.91      0.90       800\n",
            "           o       0.88      0.97      0.92       800\n",
            "           p       0.94      0.96      0.95       800\n",
            "           q       0.79      0.80      0.80       800\n",
            "           r       0.93      0.86      0.89       800\n",
            "           s       0.96      0.94      0.95       800\n",
            "           t       0.90      0.93      0.92       800\n",
            "           u       0.91      0.93      0.92       800\n",
            "           v       0.92      0.91      0.92       800\n",
            "           w       0.95      0.95      0.95       800\n",
            "           x       0.95      0.92      0.93       800\n",
            "           y       0.92      0.90      0.91       800\n",
            "           z       0.93      0.94      0.94       800\n",
            "\n",
            "    accuracy                           0.89     20800\n",
            "   macro avg       0.89      0.89      0.89     20800\n",
            "weighted avg       0.89      0.89      0.89     20800\n",
            "\n"
          ]
        }
      ]
    },
    {
      "cell_type": "markdown",
      "metadata": {
        "id": "OvcErxgQlMgz"
      },
      "source": [
        "# Вывод"
      ]
    },
    {
      "cell_type": "markdown",
      "metadata": {
        "id": "fRiWrtY8lJLq"
      },
      "source": [
        "В ходе эксперимента по применению классификаторов для распознавания рукописных букв были протестированы:  \n",
        "- KNN\n",
        "- LogisticRegression\n",
        "- Naive Bayes\n",
        "- SVC\n",
        "- SGDClassifier\n",
        "- DecisionTreeClassifier\n",
        "- RandomForestClassifier  \n",
        "а также применен метод снижения размерности PCA\n",
        "\n",
        "По результатам наилучшую точность классификации на открытой тестовой выборке показали алгоритмы:\n",
        "* 0.8857 - KNN с применением метода главных компонент PCA:   \n",
        "* 0.8904 - случайный лес с большим количеством решающих деревьев (500)\n",
        "* 0.9106 - SVC с PCA\n",
        "\n",
        "При этом время обучения моделей существенно различалось.\n",
        "Модели KNN и DT обучились на всей тренировочной выборке и построили предсказание за приемлемое время в 30-40 минут, тогда как алгоритм SVC работал практически 3 часа.   \n",
        "Помимо этого подбор параметров моделей длился до 5 часов в случае SVC, 40 минут для решающих деревьев и около часа для KNN.   \n",
        "Остальные алгоритмы показали среднюю точность. В большинстве случаев использование метода главных компонент PCA улучшало точность предсказания. \n"
      ]
    },
    {
      "cell_type": "markdown",
      "metadata": {
        "id": "mFTXjjNzBYj_"
      },
      "source": [
        "# P.S. Ансамбли"
      ]
    },
    {
      "cell_type": "code",
      "metadata": {
        "id": "kU4nFpqI-2UU"
      },
      "source": [
        "#определим функцию голосования для обученных моделей\n",
        "def custom_vote(clf_list, X_list):\n",
        "    pred = []\n",
        "    for clf,X in zip(clf_list,X_list):\n",
        "        pred.append(clf.predict(X))\n",
        "    pred = np.array(pred).T\n",
        "    return np.apply_along_axis(lambda x: np.bincount(x).argmax(), arr=pred, axis=1)"
      ],
      "execution_count": null,
      "outputs": []
    },
    {
      "cell_type": "code",
      "metadata": {
        "id": "7SsdyuwXNrhW"
      },
      "source": [
        "# задаем метод для тренировки моделей\n",
        "def train_model(model,scale,pca_components):\n",
        "  if scale:\n",
        "    Scaler=StandardScaler()\n",
        "    pca=PCA(n_components=pca_components)\n",
        "    X=pca.fit_transform(Scaler.fit_transform(X_train))    \n",
        "    X_t=pca.transform(Scaler.transform(X_test))\n",
        "    model.fit(X,y_train)\n",
        "  elif (pca_components>0):\n",
        "    pca=PCA(n_components=pca_components)\n",
        "    X=pca.fit_transform(X_train)    \n",
        "    X_t=pca.transform(X_test)\n",
        "    model.fit(X,y_train)\n",
        "  else:\n",
        "    model.fit(X_train,y_train)\n",
        "    X_t=X_test\n",
        "  return model,X_t"
      ],
      "execution_count": null,
      "outputs": []
    },
    {
      "cell_type": "code",
      "metadata": {
        "id": "YSLwLogfFKHW"
      },
      "source": [
        "#идея- скомбинировать лучшие найденные 3 модели\n",
        "clf_list=[]\n",
        "X_test_list=[]\n",
        "\n",
        "ET = ExtraTreesClassifier(n_estimators=325)\n",
        "fit=train_model(ET,False,0)\n",
        "clf_list.append(fit[0])\n",
        "X_test_list.append(fit[1])"
      ],
      "execution_count": null,
      "outputs": []
    },
    {
      "cell_type": "code",
      "metadata": {
        "id": "fXhHX5q8VNpl"
      },
      "source": [
        "KNN = KNeighborsClassifier(n_neighbors=5,n_jobs=-1)\n",
        "fit=train_model(KNN,False,27)\n",
        "clf_list.append(fit[0])\n",
        "X_test_list.append(fit[1])"
      ],
      "execution_count": null,
      "outputs": []
    },
    {
      "cell_type": "code",
      "metadata": {
        "id": "Q7naCZcaFMwb"
      },
      "source": [
        "SVC_= SVC(C=0.1, gamma=0.01, kernel= 'poly')\n",
        "fit=train_model(SVC_,True,0.9)\n",
        "clf_list.append(fit[0])\n",
        "X_test_list.append(fit[1])"
      ],
      "execution_count": null,
      "outputs": []
    },
    {
      "cell_type": "code",
      "metadata": {
        "id": "KIWBepM6HEko"
      },
      "source": [
        "y_pred=custom_vote(clf_list, X_test_list)"
      ],
      "execution_count": null,
      "outputs": []
    },
    {
      "cell_type": "code",
      "metadata": {
        "colab": {
          "base_uri": "https://localhost:8080/"
        },
        "id": "gnHHpQJa0ODj",
        "outputId": "48531a08-e242-4649-c102-c1595e97f5a0"
      },
      "source": [
        "#получилось чуть хуже, чем отдельный SVM\n",
        "metrics.accuracy_score(y_test,y_pred)"
      ],
      "execution_count": null,
      "outputs": [
        {
          "output_type": "execute_result",
          "data": {
            "text/plain": [
              "0.9085576923076923"
            ]
          },
          "metadata": {},
          "execution_count": 15
        }
      ]
    },
    {
      "cell_type": "code",
      "metadata": {
        "colab": {
          "base_uri": "https://localhost:8080/"
        },
        "id": "7YLSCi8pIeRn",
        "outputId": "210742d2-7083-4794-f0d1-13c0a43496ad"
      },
      "source": [
        "#сформируем голосование среди всех предсказаний наиболее точных моделей\n",
        "path='/content/drive/MyDrive/Colab Notebooks/innopolis/kaggle emnist/predictions/'\n",
        "!ls '/content/drive/MyDrive/Colab Notebooks/innopolis/kaggle emnist/predictions'"
      ],
      "execution_count": null,
      "outputs": [
        {
          "output_type": "stream",
          "name": "stdout",
          "text": [
            "prediction_DT.csv\t\t  prediction_SVC_4.csv\n",
            "prediction_ensemble_8_models.csv  prediction_SVC.csv\n",
            "prediction_ensemble.csv\t\t  prediction_SVC_feature_selection.csv\n",
            "prediction_KNN_best.csv\t\t  prediction_SVC_scaled.svc.csv\n",
            "prediction_SVC_2.csv\t\t  prediction_SVM.csv\n",
            "prediction_SVC_3.csv\n"
          ]
        }
      ]
    },
    {
      "cell_type": "code",
      "metadata": {
        "colab": {
          "base_uri": "https://localhost:8080/"
        },
        "id": "NpoSDAmvHVj1",
        "outputId": "0c4586ce-99c5-46a5-ac26-d6bd6dd545d1"
      },
      "source": [
        "array=np.vstack((np.array(pd.read_csv(path+'prediction_DT.csv'))[:,1],np.array(pd.read_csv(path+'prediction_KNN_best.csv'))[:,1]))\n",
        "array"
      ],
      "execution_count": null,
      "outputs": [
        {
          "output_type": "execute_result",
          "data": {
            "text/plain": [
              "array([[12, 14, 10, ..., 16,  2,  3],\n",
              "       [12, 14, 10, ..., 16,  2,  3]])"
            ]
          },
          "metadata": {},
          "execution_count": 11
        }
      ]
    },
    {
      "cell_type": "code",
      "metadata": {
        "colab": {
          "base_uri": "https://localhost:8080/"
        },
        "id": "X5lCy7vTMs5i",
        "outputId": "dfea34b2-a7e1-47ca-b616-bf3b7560305c"
      },
      "source": [
        "array2=np.vstack((np.array(pd.read_csv(path+'prediction_SVC_2.csv'))[:,1],np.array(pd.read_csv(path+'prediction_SVC_3.csv'))[:,1]))\n",
        "array2"
      ],
      "execution_count": null,
      "outputs": [
        {
          "output_type": "execute_result",
          "data": {
            "text/plain": [
              "array([[12, 14,  9, ...,  9,  9,  3],\n",
              "       [12, 14, 10, ..., 16,  2,  3]])"
            ]
          },
          "metadata": {},
          "execution_count": 13
        }
      ]
    },
    {
      "cell_type": "code",
      "metadata": {
        "colab": {
          "base_uri": "https://localhost:8080/"
        },
        "id": "F1UIOCPxM7LB",
        "outputId": "b94b43fe-9f94-41d7-d937-98cfe7ce7faa"
      },
      "source": [
        "array3=np.vstack((np.array(pd.read_csv(path+'prediction_SVC_4.csv'))[:,1],np.array(pd.read_csv(path+'prediction_SVC.csv'))[:,1]))\n",
        "array3"
      ],
      "execution_count": null,
      "outputs": [
        {
          "output_type": "execute_result",
          "data": {
            "text/plain": [
              "array([[12, 14, 10, ..., 16,  2,  3],\n",
              "       [12, 14, 10, ..., 16,  2,  3]])"
            ]
          },
          "metadata": {},
          "execution_count": 14
        }
      ]
    },
    {
      "cell_type": "code",
      "metadata": {
        "id": "BljLG7flNAFs"
      },
      "source": [
        "arr=np.vstack((np.vstack((np.vstack((array,array2 )), array3 )), np.array(pd.read_csv(path+'prediction_SVM.csv'))[:,1]))"
      ],
      "execution_count": null,
      "outputs": []
    },
    {
      "cell_type": "code",
      "metadata": {
        "colab": {
          "base_uri": "https://localhost:8080/"
        },
        "id": "5wFnhtmzdTWW",
        "outputId": "f9efa831-7d8a-4b27-c331-31f0496f4eb1"
      },
      "source": [
        "array=np.vstack((arr, np.array(pd.read_csv(path+'prediction_SVC_feature_selection.csv'))[:,1] ))\n",
        "array.shape"
      ],
      "execution_count": null,
      "outputs": [
        {
          "output_type": "execute_result",
          "data": {
            "text/plain": [
              "(8, 14800)"
            ]
          },
          "metadata": {},
          "execution_count": 16
        }
      ]
    },
    {
      "cell_type": "code",
      "metadata": {
        "colab": {
          "base_uri": "https://localhost:8080/"
        },
        "id": "l1RXxHXeActr",
        "outputId": "09df26bc-8531-46b8-a089-c88522a1e69a"
      },
      "source": [
        "array=np.vstack((array, np.array(pd.read_csv(path+'prediction_SVC_scaled.svc.csv'))[:,1] ))\n",
        "array"
      ],
      "execution_count": null,
      "outputs": [
        {
          "output_type": "execute_result",
          "data": {
            "text/plain": [
              "array([[12, 14, 10, ..., 16,  2,  3],\n",
              "       [12, 14, 10, ..., 16,  2,  3],\n",
              "       [12, 14,  9, ...,  9,  9,  3],\n",
              "       ...,\n",
              "       [12, 14, 10, ..., 16,  2,  3],\n",
              "       [12, 14, 10, ..., 16,  2,  3],\n",
              "       [21,  1, 19, ..., 16, 26,  3]])"
            ]
          },
          "metadata": {},
          "execution_count": 17
        }
      ]
    },
    {
      "cell_type": "code",
      "metadata": {
        "colab": {
          "base_uri": "https://localhost:8080/"
        },
        "id": "7scKXm2JA8Y1",
        "outputId": "6e1761a5-2c79-4776-9948-53b2afd262c5"
      },
      "source": [
        "array.shape"
      ],
      "execution_count": null,
      "outputs": [
        {
          "output_type": "execute_result",
          "data": {
            "text/plain": [
              "(9, 14800)"
            ]
          },
          "metadata": {},
          "execution_count": 18
        }
      ]
    },
    {
      "cell_type": "code",
      "metadata": {
        "colab": {
          "base_uri": "https://localhost:8080/"
        },
        "id": "ZtTLAdtfNgR5",
        "outputId": "baaf2498-266c-47ba-86db-f174d9fd5371"
      },
      "source": [
        "result = np.apply_along_axis(lambda x: np.bincount(x).argmax(), arr=array, axis=0)\n",
        "result"
      ],
      "execution_count": null,
      "outputs": [
        {
          "output_type": "execute_result",
          "data": {
            "text/plain": [
              "array([12, 14, 10, ..., 16,  2,  3])"
            ]
          },
          "metadata": {},
          "execution_count": 19
        }
      ]
    },
    {
      "cell_type": "code",
      "metadata": {
        "id": "72Q03ALKOSxG"
      },
      "source": [
        "d=pd.DataFrame(list(range(1,14801)))\n",
        "d['Category']=result\n",
        "d.columns=['Id','Category']\n",
        "d.set_index('Id',drop=True,inplace=True)\n",
        "d.to_csv('prediction_ensemble_9_models.csv')"
      ],
      "execution_count": null,
      "outputs": []
    },
    {
      "cell_type": "code",
      "metadata": {
        "id": "SM5ctCCRdvH1"
      },
      "source": [
        "!cp 'prediction_ensemble_9_models.csv' '/content/drive/MyDrive/Colab Notebooks/innopolis/kaggle emnist/predictions/'"
      ],
      "execution_count": null,
      "outputs": []
    },
    {
      "cell_type": "markdown",
      "metadata": {
        "id": "Puid9sRnQF5y"
      },
      "source": [
        "точность на открытой части тестовой выборки на kaggle получилась выше, чем у отдельных алгоритмов : 0.90427. финальный результат на закрытой части выборки: 0.90637"
      ]
    },
    {
      "cell_type": "code",
      "metadata": {
        "colab": {
          "base_uri": "https://localhost:8080/"
        },
        "id": "HuW1cEaQSro8",
        "outputId": "9ad57832-4d2d-4c9f-bf8f-bed6aab0f54b"
      },
      "source": [
        "#в качестве эксперимента попробуем отобрать параметры по дисперсии\n",
        "selector = VarianceThreshold(0.2)\n",
        "X=selector.fit_transform(X_train)\n",
        "X.shape"
      ],
      "execution_count": null,
      "outputs": [
        {
          "output_type": "execute_result",
          "data": {
            "text/plain": [
              "(124800, 701)"
            ]
          },
          "metadata": {},
          "execution_count": 47
        }
      ]
    },
    {
      "cell_type": "code",
      "metadata": {
        "colab": {
          "base_uri": "https://localhost:8080/"
        },
        "id": "RiiLewmOTxaB",
        "outputId": "6ea21f1f-ff4f-493a-d4b6-59549d08fea1"
      },
      "source": [
        "#и посмотрим, как с ними отработает лучшая модель SVC\n",
        "pca=PCA(n_components=0.9)\n",
        "Scaler=StandardScaler()\n",
        "res=acc(SVC(C=0.1, gamma=0.01, kernel= 'poly'),pca.fit_transform(Scaler.fit_transform(X)), y_train,pca.transform(Scaler.transform(selector.transform(X_test))),y_test)\n",
        "res[1]"
      ],
      "execution_count": null,
      "outputs": [
        {
          "output_type": "execute_result",
          "data": {
            "text/plain": [
              "0.91"
            ]
          },
          "metadata": {},
          "execution_count": 51
        }
      ]
    },
    {
      "cell_type": "code",
      "metadata": {
        "id": "jMzmXNhHZ_2-"
      },
      "source": [
        "#на тестовой выборке результат хороший, но на kaggle не лучший\n",
        "write(res[0],'SVC_feature_selection',pca.transform(Scaler.transform(selector.transform(final_test))))"
      ],
      "execution_count": null,
      "outputs": []
    },
    {
      "cell_type": "code",
      "metadata": {
        "id": "QwgznQuZaV3r"
      },
      "source": [
        "!cp 'prediction_SVC_feature_selection.csv' '/content/drive/MyDrive/Colab Notebooks/innopolis/kaggle emnist/predictions/'"
      ],
      "execution_count": null,
      "outputs": []
    },
    {
      "cell_type": "code",
      "metadata": {
        "colab": {
          "base_uri": "https://localhost:8080/"
        },
        "id": "TF5oVFzhFAuc",
        "outputId": "dc812667-2d5f-4aaf-c4f9-e94f52ed6350"
      },
      "source": [
        "#попробуем сгенерить фичу на основe k-means кластеризации\n",
        "kmeans = KMeans(n_clusters=26).fit(X_train)\n",
        "kmeans.labels_"
      ],
      "execution_count": null,
      "outputs": [
        {
          "output_type": "execute_result",
          "data": {
            "text/plain": [
              "array([19, 14,  8, ..., 19, 14,  7], dtype=int32)"
            ]
          },
          "metadata": {},
          "execution_count": 24
        }
      ]
    },
    {
      "cell_type": "code",
      "metadata": {
        "id": "_EEREgplI_fv"
      },
      "source": [
        "X_train_kmns = np.hstack((X_train,kmeans.labels_.reshape(124800,-1)))"
      ],
      "execution_count": null,
      "outputs": []
    },
    {
      "cell_type": "code",
      "metadata": {
        "id": "XZxlF-ehKBig"
      },
      "source": [
        "X_test_kmns= np.hstack((X_test, kmeans.predict(X_test).reshape(20800,-1)))"
      ],
      "execution_count": null,
      "outputs": []
    },
    {
      "cell_type": "code",
      "metadata": {
        "id": "-C-20B_oLPBr"
      },
      "source": [
        "final_kmns=np.hstack((final_test, kmeans.predict(final_test).reshape(14800,-1)))"
      ],
      "execution_count": null,
      "outputs": []
    },
    {
      "cell_type": "code",
      "metadata": {
        "colab": {
          "base_uri": "https://localhost:8080/"
        },
        "id": "1e2h1MwLLYAu",
        "outputId": "3f788c09-49d6-4c22-f5b3-d0a48408bc3c"
      },
      "source": [
        "selector = VarianceThreshold(0.2)\n",
        "X=selector.fit_transform(X_train_kmns)\n",
        "X.shape"
      ],
      "execution_count": null,
      "outputs": [
        {
          "output_type": "execute_result",
          "data": {
            "text/plain": [
              "(124800, 702)"
            ]
          },
          "metadata": {},
          "execution_count": 45
        }
      ]
    },
    {
      "cell_type": "code",
      "metadata": {
        "colab": {
          "base_uri": "https://localhost:8080/"
        },
        "id": "H6-JOa6ELppO",
        "outputId": "0fb137c1-45c6-41fa-a6b2-a37a5e55033b"
      },
      "source": [
        "#результат хороший, но опять же не лучший\n",
        "pca=PCA(n_components=0.9)\n",
        "Scaler=StandardScaler()\n",
        "res=acc(SVC(C=0.1, gamma=0.01, kernel= 'poly'),pca.fit_transform(Scaler.fit_transform(X)), y_train,pca.transform(Scaler.transform(selector.transform(X_test_kmns))),y_test)\n",
        "res[1]"
      ],
      "execution_count": null,
      "outputs": [
        {
          "output_type": "execute_result",
          "data": {
            "text/plain": [
              "0.9100961538461538"
            ]
          },
          "metadata": {},
          "execution_count": 46
        }
      ]
    },
    {
      "cell_type": "code",
      "metadata": {
        "id": "e_eAIYrSL88A"
      },
      "source": [
        "write(res[0],'SVC_feature_selection_kmeans',pca.transform(Scaler.transform(selector.transform(final_kmns))))"
      ],
      "execution_count": null,
      "outputs": []
    },
    {
      "cell_type": "code",
      "metadata": {
        "id": "xdC-aRDGMH19",
        "colab": {
          "base_uri": "https://localhost:8080/"
        },
        "outputId": "5634bcf6-a57a-4847-fd56-8e856178a7cd"
      },
      "source": [
        "!cp 'prediction_SVC_feature_selection_kmeans.csv' '/content/drive/MyDrive/Colab Notebooks/innopolis/kaggle emnist/predictions/'"
      ],
      "execution_count": null,
      "outputs": [
        {
          "output_type": "stream",
          "name": "stdout",
          "text": [
            "cp: cannot stat 'prediction_SVC_feature_selection_kmeans.csv': No such file or directory\n"
          ]
        }
      ]
    },
    {
      "cell_type": "markdown",
      "metadata": {
        "id": "8fv7NExUiWgd"
      },
      "source": [
        "# P.P.S. Вывод.  "
      ]
    },
    {
      "cell_type": "markdown",
      "metadata": {
        "id": "IfjoQPvJgPtV"
      },
      "source": [
        "Обладая полными данными результатов соревнования kaggle могу сделать вывод, что наиболее высокую точность показал ансамбль моделей: KNN + 7 SVC с разными параметрами и примерно одинаково хорошими результатами. При этом обучение моделей на основе машины опорных векторов, а также подбор параметров снижения размерности данных занял неприлично много времени, тогда как ExtraTrees отрабатывает буквально за считанные минуты и показывает результат на том же уровне без предварительной подготовки данных. "
      ]
    }
  ]
}