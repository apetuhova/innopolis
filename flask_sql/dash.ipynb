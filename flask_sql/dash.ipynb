{
  "nbformat": 4,
  "nbformat_minor": 0,
  "metadata": {
    "colab": {
      "name": "dash",
      "provenance": [],
      "collapsed_sections": []
    },
    "kernelspec": {
      "display_name": "Python 3",
      "name": "python3"
    }
  },
  "cells": [
    {
      "cell_type": "markdown",
      "metadata": {
        "id": "Cx62f5K4iM9p"
      },
      "source": [
        "# Simple dashboard\n",
        "\n",
        "[Colab](https://colab.research.google.com/drive/1v3YuLUErLaTE0mqYNokRT5_iY8GFLGNi?usp=sharing)"
      ]
    },
    {
      "cell_type": "code",
      "metadata": {
        "id": "i6kp2WyDiqA6"
      },
      "source": [
        "%%sh\n",
        "pip install -q dash\n",
        "pip install -q dash_core_components\n",
        "pip install -q dash_html_components\n",
        "pip install -q dash_table"
      ],
      "execution_count": 1,
      "outputs": []
    },
    {
      "cell_type": "code",
      "metadata": {
        "colab": {
          "base_uri": "https://localhost:8080/"
        },
        "id": "uuHS64aNk6oK",
        "outputId": "e87d4c99-2268-4785-c77f-e168e837fb1d"
      },
      "source": [
        "%%sh\n",
        "# get ngrok\n",
        "curl -O https://bin.equinox.io/c/4VmDzA7iaHb/ngrok-stable-linux-amd64.zip\n",
        "unzip ngrok-stable-linux-amd64.zip"
      ],
      "execution_count": 2,
      "outputs": [
        {
          "output_type": "stream",
          "name": "stdout",
          "text": [
            "Archive:  ngrok-stable-linux-amd64.zip\n",
            "  inflating: ngrok                   \n"
          ]
        },
        {
          "output_type": "stream",
          "name": "stderr",
          "text": [
            "  % Total    % Received % Xferd  Average Speed   Time    Time     Time  Current\n",
            "                                 Dload  Upload   Total   Spent    Left  Speed\n",
            "\r  0     0    0     0    0     0      0      0 --:--:-- --:--:-- --:--:--     0\r  0 13.1M    0     0    0     0      0      0 --:--:-- --:--:-- --:--:--     0\r100 13.1M  100 13.1M    0     0  49.2M      0 --:--:-- --:--:-- --:--:-- 49.0M\n"
          ]
        }
      ]
    },
    {
      "cell_type": "code",
      "metadata": {
        "colab": {
          "base_uri": "https://localhost:8080/"
        },
        "id": "TPwPq0JLtMVQ",
        "outputId": "c5a0ccdf-d603-44de-f929-4b13345a10f7"
      },
      "source": [
        "%%writefile dash_app.py\n",
        "\n",
        "import dash\n",
        "from dash import dcc\n",
        "from dash import html\n",
        "from dash.dependencies import Input, Output\n",
        "import calendar\n",
        "import plotly.express as px\n",
        "import pandas as pd\n",
        "import plotly.graph_objs as go\n",
        "\n",
        "external_stylesheets = ['https://codepen.io/chriddyp/pen/bWLwgP.css']\n",
        "\n",
        "app = dash.Dash(__name__)#, external_stylesheets=external_stylesheets)\n",
        "\n",
        "df = pd.read_csv(\n",
        "    'https://raw.githubusercontent.com/ashishpatel26/Introduction-to-Time-Series-forecasting/master/international-airline-passengers.csv',\n",
        "    header=None)\n",
        "df.columns=['date','count']\n",
        "df['year']=df['date'].str.slice(0,4).astype(int)\n",
        "df['month']=df['date'].str.slice(5,7).astype(int)\n",
        "\n",
        "\n",
        "\n",
        "app.layout = html.Div(children=[\n",
        "    html.H1(children='Simple Dashboard'),\n",
        "\n",
        "    html.Div(children='''\n",
        "        International airline passengers\n",
        "    '''),\n",
        "\n",
        "    dcc.Slider(\n",
        "    id='year-slider',\n",
        "    min=df['year'].min(),\n",
        "    max=df['year'].max(),\n",
        "    marks={str(year): str(year) for year in df['year'].unique()},\n",
        "    value=df['year'].min(),\n",
        "    included=False\n",
        "    ),\n",
        "\n",
        "    dcc.Dropdown(\n",
        "        id='dropdown-month',\n",
        "        options=list({'label': calendar.month_name[m], 'value': m} for m in range(1,13))\n",
        "        ,multi=True\n",
        "        #,value='All months'\n",
        "    ),\n",
        "\n",
        "    dcc.Graph(\n",
        "        id='bar-graph',\n",
        "        figure=go.Figure(data=[go.Bar(x = df['date'], y = df['count'])])\n",
        "    )\n",
        "  \n",
        "])\n",
        "\n",
        "@app.callback(\n",
        "    Output('bar-graph', 'figure'),\n",
        "    Input('year-slider', 'value'),\n",
        "    Input('dropdown-month', 'value'))\n",
        "def update_figure(selected_year, selected_month):\n",
        "\n",
        "    if not selected_month or 'All months' in selected_month:\n",
        "        filtered_df = df[df.year==selected_year]\n",
        "    else:\n",
        "      filtered_df = df[(df.year==selected_year)&(df.month.isin(selected_month))]\n",
        "\n",
        "    fig = go.Figure(data=[go.Bar(x = filtered_df['date'], y = filtered_df['count'])])\n",
        "\n",
        "    fig.update_layout(transition_duration=500)\n",
        "\n",
        "    return fig\n",
        "\n",
        "\n",
        "\n",
        "if __name__ == '__main__':\n",
        "    app.run_server(debug=True)"
      ],
      "execution_count": 3,
      "outputs": [
        {
          "output_type": "stream",
          "name": "stdout",
          "text": [
            "Writing dash_app.py\n"
          ]
        }
      ]
    },
    {
      "cell_type": "code",
      "metadata": {
        "id": "5hKnCayGlyd_"
      },
      "source": [
        "# launch ngrok\n",
        "get_ipython().system_raw('./ngrok http 8050 &')"
      ],
      "execution_count": 7,
      "outputs": []
    },
    {
      "cell_type": "code",
      "metadata": {
        "colab": {
          "base_uri": "https://localhost:8080/"
        },
        "id": "UK2SIu8qsHPK",
        "outputId": "64c021d9-2149-4b97-e64f-cda35da08541"
      },
      "source": [
        "%%sh\n",
        "# get url with ngrok\n",
        "curl -s http://localhost:4040/api/tunnels | python3 -c \"import sys, json; print(json.load(sys.stdin)['tunnels'][0]['public_url'])\""
      ],
      "execution_count": 8,
      "outputs": [
        {
          "output_type": "stream",
          "name": "stdout",
          "text": [
            "https://e79e-35-199-33-160.ngrok.io\n"
          ]
        }
      ]
    },
    {
      "cell_type": "code",
      "metadata": {
        "colab": {
          "base_uri": "https://localhost:8080/"
        },
        "id": "ycoF8TVXjos6",
        "outputId": "e6b1f7ea-ec87-4dc1-a539-e469c858e1c1"
      },
      "source": [
        "!python dash_app.py"
      ],
      "execution_count": 9,
      "outputs": [
        {
          "output_type": "stream",
          "name": "stdout",
          "text": [
            "Dash is running on http://127.0.0.1:8050/\n",
            "\n",
            " * Serving Flask app \"dash_app\" (lazy loading)\n",
            " * Environment: production\n",
            "\u001b[31m   WARNING: This is a development server. Do not use it in a production deployment.\u001b[0m\n",
            "\u001b[2m   Use a production WSGI server instead.\u001b[0m\n",
            " * Debug mode: on\n"
          ]
        }
      ]
    }
  ]
}