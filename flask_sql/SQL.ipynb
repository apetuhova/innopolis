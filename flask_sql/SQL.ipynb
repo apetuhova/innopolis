{
  "nbformat": 4,
  "nbformat_minor": 0,
  "metadata": {
    "colab": {
      "name": "SQL.ipynb",
      "provenance": [],
      "collapsed_sections": []
    },
    "kernelspec": {
      "name": "python3",
      "display_name": "Python 3"
    }
  },
  "cells": [
    {
      "cell_type": "markdown",
      "metadata": {
        "id": "HhwkWQncPgkW"
      },
      "source": [
        "##SQL  \n",
        "[colab](https://colab.research.google.com/drive/1moAnfnp4RKOXBPyk_kZ8ScdzHC8wn704?usp=sharing)"
      ]
    },
    {
      "cell_type": "markdown",
      "metadata": {
        "id": "pAynvpmlvdZt"
      },
      "source": [
        "### Введение в SQL Sub-Queries\n",
        "\n"
      ]
    },
    {
      "cell_type": "code",
      "metadata": {
        "id": "_xkGEn95uh6W",
        "colab": {
          "base_uri": "https://localhost:8080/"
        },
        "outputId": "f6133019-f737-4932-cf55-d480e90e4c07"
      },
      "source": [
        "# Создаем Таблицу\n",
        "import sqlite3\n",
        "\n",
        "conn = sqlite3.connect('dz.db')\n",
        "print(\"Opened database successfully\");\n",
        "\n",
        "conn.execute('''\n",
        "CREATE TABLE IF NOT EXISTS team_data(\n",
        "                      team text, \n",
        "                      country text, \n",
        "                      season integer, \n",
        "                      total_goals integer);''')\n",
        "\n",
        "conn.commit()\n",
        "\n",
        "print(\"Table created successfully\");\n",
        "\n",
        "#conn.close()"
      ],
      "execution_count": 1,
      "outputs": [
        {
          "output_type": "stream",
          "name": "stdout",
          "text": [
            "Opened database successfully\n",
            "Table created successfully\n"
          ]
        }
      ]
    },
    {
      "cell_type": "code",
      "metadata": {
        "id": "IACJu0hLUKTI"
      },
      "source": [
        "conn = sqlite3.connect('dz.db')\n",
        "\n",
        "conn.execute('''\n",
        "CREATE TABLE IF NOT EXISTS team_players(\n",
        "                      team text, \n",
        "                      country text, \n",
        "                      player text, \n",
        "                      goals integer);''')\n",
        "\n",
        "conn.commit()\n"
      ],
      "execution_count": 2,
      "outputs": []
    },
    {
      "cell_type": "code",
      "metadata": {
        "id": "r9SeHPpgu73Z"
      },
      "source": [
        "# Добавляем значения\n",
        "\n",
        "conn.execute(\"INSERT INTO team_data VALUES('Real Madrid', 'Spain', 2019, 53);\")\n",
        "conn.execute(\"INSERT INTO team_data VALUES('Barcelona', 'Spain', 2019, 47);\")\n",
        "conn.execute(\"INSERT INTO team_data VALUES('Arsenal', 'UK', 2019, 52);\")\n",
        "conn.execute(\"INSERT INTO team_data VALUES('Real Madrid', 'Spain', 2018, 49);\")\n",
        "conn.execute(\"INSERT INTO team_data VALUES('Barcelona', 'Spain', 2018, 45);\")\n",
        "conn.execute(\"INSERT INTO team_data VALUES('Arsenal', 'UK', 2018, 50 );\")\n",
        "\n",
        "\n",
        "conn.execute(\"INSERT INTO team_players VALUES('Real Madrid', 'Spain', 'Huan', 10);\")\n",
        "conn.execute(\"INSERT INTO team_players VALUES('Barcelona', 'Spain', 'Honsales', 10);\")\n",
        "conn.execute(\"INSERT INTO team_players VALUES('Arsenal', 'UK', 'Bernd Leno', 5);\")\n",
        "conn.execute(\"INSERT INTO team_players VALUES('Real Madrid', 'Eder Militan', 2018, 4);\")\n",
        "conn.execute(\"INSERT INTO team_players VALUES('Barcelona', 'Spain', 'Nelsen Semedu', 4);\")\n",
        "conn.execute(\"INSERT INTO team_players VALUES('Arsenal', 'UK', 'Rob Holding', 5 );\")\n",
        "\n",
        "conn.commit()"
      ],
      "execution_count": 3,
      "outputs": []
    },
    {
      "cell_type": "code",
      "metadata": {
        "colab": {
          "base_uri": "https://localhost:8080/"
        },
        "id": "s7DI7bw4P3Sp",
        "outputId": "fdc9c987-d5ae-4db9-c383-b63c35d82de9"
      },
      "source": [
        "#Представления\n",
        "\n",
        "cur = conn.execute(\"SELECT goals, team FROM team_players;\")\n",
        "\n",
        "cur.fetchall()"
      ],
      "execution_count": 4,
      "outputs": [
        {
          "output_type": "execute_result",
          "data": {
            "text/plain": [
              "[(10, 'Real Madrid'),\n",
              " (10, 'Barcelona'),\n",
              " (5, 'Arsenal'),\n",
              " (4, 'Real Madrid'),\n",
              " (4, 'Barcelona'),\n",
              " (5, 'Arsenal')]"
            ]
          },
          "metadata": {},
          "execution_count": 4
        }
      ]
    },
    {
      "cell_type": "code",
      "metadata": {
        "colab": {
          "base_uri": "https://localhost:8080/"
        },
        "id": "sW7x22FJQrzP",
        "outputId": "229a861c-0cf7-4cfb-c4e2-f1342db9b2c2"
      },
      "source": [
        "#Выборки\n",
        "\n",
        "cur = conn.execute(\"SELECT total_goals, team FROM team_data WHERE country != 'UK' OR total_goals> 50 ;\")\n",
        "\n",
        "cur.fetchall()"
      ],
      "execution_count": 5,
      "outputs": [
        {
          "output_type": "execute_result",
          "data": {
            "text/plain": [
              "[(53, 'Real Madrid'),\n",
              " (47, 'Barcelona'),\n",
              " (52, 'Arsenal'),\n",
              " (49, 'Real Madrid'),\n",
              " (45, 'Barcelona')]"
            ]
          },
          "metadata": {},
          "execution_count": 5
        }
      ]
    },
    {
      "cell_type": "code",
      "metadata": {
        "id": "L9nIsr9Jwuds",
        "colab": {
          "base_uri": "https://localhost:8080/"
        },
        "outputId": "155549ac-4736-47f1-ec27-80a238827d3c"
      },
      "source": [
        "# Вычисляем среднее\n",
        "\n",
        "conn = sqlite3.connect('dz.db')\n",
        "\n",
        "cursor = conn.execute(''' SELECT team,country,\n",
        "                            AVG(total_goals) AS avg_goals\n",
        "                          FROM team_data\n",
        "                          GROUP BY team;''')\n",
        "\n",
        "for row in cursor:\n",
        "  print(row)\n",
        "conn.close()"
      ],
      "execution_count": 6,
      "outputs": [
        {
          "output_type": "stream",
          "name": "stdout",
          "text": [
            "('Arsenal', 'UK', 51.0)\n",
            "('Barcelona', 'Spain', 46.0)\n",
            "('Real Madrid', 'Spain', 51.0)\n"
          ]
        }
      ]
    },
    {
      "cell_type": "code",
      "metadata": {
        "id": "HfJEEubPye8h",
        "colab": {
          "base_uri": "https://localhost:8080/"
        },
        "outputId": "d934b4d0-34dc-4689-f4a4-83808fc7dba4"
      },
      "source": [
        "# Неправильный запрос\n",
        "\n",
        "conn = sqlite3.connect('dz.db')\n",
        "\n",
        "cursor = conn.execute(''' SELECT team AS team_name ,\n",
        "                            AVG(total_goals) AS avg_goals\n",
        "                          FROM team_data                          \n",
        "                          GROUP BY team\n",
        "                          HAVING avg_goals > 50;''')\n",
        "\n",
        "for row in cursor:\n",
        "  print(row)\n",
        "conn.close()"
      ],
      "execution_count": 7,
      "outputs": [
        {
          "output_type": "stream",
          "name": "stdout",
          "text": [
            "('Arsenal', 51.0)\n",
            "('Real Madrid', 51.0)\n"
          ]
        }
      ]
    },
    {
      "cell_type": "code",
      "metadata": {
        "id": "NlJ3wc21zU3l",
        "colab": {
          "base_uri": "https://localhost:8080/"
        },
        "outputId": "6dd57ae0-bb30-423f-eb01-6d7a52a6735f"
      },
      "source": [
        "# Правильный запрос\n",
        "\n",
        "conn = sqlite3.connect('dz.db')\n",
        "\n",
        "cursor = conn.execute(''' SELECT team_name, avg_goals\n",
        "                          FROM (\n",
        "\n",
        "                          -- Here we make our sub-query:\n",
        "                            SELECT team AS team_name,\n",
        "                            AVG(total_goals) AS avg_goals\n",
        "                            FROM team_data\n",
        "                            GROUP BY team) tp\n",
        "                          -- End of the sub-query\n",
        "                          \n",
        "                          WHERE avg_goals > 50;''')\n",
        "\n",
        "for row in cursor:\n",
        "  print(row)\n",
        "conn.close()"
      ],
      "execution_count": 8,
      "outputs": [
        {
          "output_type": "stream",
          "name": "stdout",
          "text": [
            "('Arsenal', 51.0)\n",
            "('Real Madrid', 51.0)\n"
          ]
        }
      ]
    },
    {
      "cell_type": "code",
      "metadata": {
        "id": "Vq_j9OqEhdhR",
        "colab": {
          "base_uri": "https://localhost:8080/"
        },
        "outputId": "7ba0ca6b-8a02-4dc5-d122-74608ec58b46"
      },
      "source": [
        "#Joins\n",
        "\n",
        "conn = sqlite3.connect('dz.db')\n",
        "\n",
        "cursor = conn.execute(''' SELECT team_data.team,team_data.country,player,total_goals, goals\n",
        "                          \n",
        "                          FROM team_data\n",
        "                          INNER JOIN team_players on team_data.team = team_players.team;''')\n",
        "\n",
        "cursor.fetchall()"
      ],
      "execution_count": 9,
      "outputs": [
        {
          "output_type": "execute_result",
          "data": {
            "text/plain": [
              "[('Real Madrid', 'Spain', '2018', 53, 4),\n",
              " ('Real Madrid', 'Spain', 'Huan', 53, 10),\n",
              " ('Barcelona', 'Spain', 'Honsales', 47, 10),\n",
              " ('Barcelona', 'Spain', 'Nelsen Semedu', 47, 4),\n",
              " ('Arsenal', 'UK', 'Bernd Leno', 52, 5),\n",
              " ('Arsenal', 'UK', 'Rob Holding', 52, 5),\n",
              " ('Real Madrid', 'Spain', '2018', 49, 4),\n",
              " ('Real Madrid', 'Spain', 'Huan', 49, 10),\n",
              " ('Barcelona', 'Spain', 'Honsales', 45, 10),\n",
              " ('Barcelona', 'Spain', 'Nelsen Semedu', 45, 4),\n",
              " ('Arsenal', 'UK', 'Bernd Leno', 50, 5),\n",
              " ('Arsenal', 'UK', 'Rob Holding', 50, 5)]"
            ]
          },
          "metadata": {},
          "execution_count": 9
        }
      ]
    },
    {
      "cell_type": "code",
      "metadata": {
        "id": "Kif0UkCiXI-h"
      },
      "source": [
        "conn.close()"
      ],
      "execution_count": 10,
      "outputs": []
    },
    {
      "cell_type": "markdown",
      "metadata": {
        "id": "_brgSPnC2ClB"
      },
      "source": [
        "# SQL Programming - Основы с magic командами"
      ]
    },
    {
      "cell_type": "markdown",
      "metadata": {
        "id": "D6BU_C0d3dMo"
      },
      "source": [
        "## 1.2 Подключение к базе"
      ]
    },
    {
      "cell_type": "code",
      "metadata": {
        "id": "PDk968tq3v43",
        "colab": {
          "base_uri": "https://localhost:8080/",
          "height": 35
        },
        "outputId": "dfe6eb33-2d1a-413a-9839-595cab15f686"
      },
      "source": [
        "# Загружаем sql extension\n",
        "\n",
        "%load_ext sql\n",
        "\n",
        "\n",
        "#\n",
        "%sql sqlite:////content/dz.db"
      ],
      "execution_count": 11,
      "outputs": [
        {
          "output_type": "execute_result",
          "data": {
            "application/vnd.google.colaboratory.intrinsic+json": {
              "type": "string"
            },
            "text/plain": [
              "'Connected: @/content/dz.db'"
            ]
          },
          "metadata": {},
          "execution_count": 11
        }
      ]
    },
    {
      "cell_type": "markdown",
      "metadata": {
        "id": "TjMtC5JN7ZoI"
      },
      "source": [
        "## 1.3 Создание таблицы"
      ]
    },
    {
      "cell_type": "code",
      "metadata": {
        "id": "ee0bJxIKPQvK",
        "colab": {
          "base_uri": "https://localhost:8080/"
        },
        "outputId": "57dc2c8c-945f-4e17-80c8-5f5b23a7f584"
      },
      "source": [
        "# Пример 1\n",
        "#\n",
        "%%sql \n",
        "CREATE TABLE if not exists Classmates (\n",
        "    PersonID, \n",
        "    LastName, \n",
        "    FirstName, \n",
        "    Phone, \n",
        "    Residence\n",
        "); \n",
        "\n"
      ],
      "execution_count": 12,
      "outputs": [
        {
          "output_type": "stream",
          "name": "stdout",
          "text": [
            " * sqlite:////content/dz.db\n",
            "Done.\n"
          ]
        },
        {
          "output_type": "execute_result",
          "data": {
            "text/plain": [
              "[]"
            ]
          },
          "metadata": {},
          "execution_count": 12
        }
      ]
    },
    {
      "cell_type": "code",
      "metadata": {
        "id": "a5-4ih-ea37Z",
        "colab": {
          "base_uri": "https://localhost:8080/",
          "height": 91
        },
        "outputId": "e5ac0d32-1707-442e-f3d6-9b102df5dc43"
      },
      "source": [
        "# Пример  2\n",
        "\n",
        "%%sql\n",
        "CREATE TABLE if not exists Customers(\n",
        "   Id,   \n",
        "   Name,  \n",
        "   Age,\n",
        "   Address,  \n",
        "   Salary\n",
        ");\n",
        "\n",
        "SELECT * From Customers;"
      ],
      "execution_count": 13,
      "outputs": [
        {
          "output_type": "stream",
          "name": "stdout",
          "text": [
            " * sqlite:////content/dz.db\n",
            "Done.\n",
            "Done.\n"
          ]
        },
        {
          "output_type": "execute_result",
          "data": {
            "text/html": [
              "<table>\n",
              "    <thead>\n",
              "        <tr>\n",
              "            <th>Id</th>\n",
              "            <th>Name</th>\n",
              "            <th>Age</th>\n",
              "            <th>Address</th>\n",
              "            <th>Salary</th>\n",
              "        </tr>\n",
              "    </thead>\n",
              "    <tbody>\n",
              "    </tbody>\n",
              "</table>"
            ],
            "text/plain": [
              "[]"
            ]
          },
          "metadata": {},
          "execution_count": 13
        }
      ]
    },
    {
      "cell_type": "code",
      "metadata": {
        "id": "0FmFgfaTbZO6",
        "colab": {
          "base_uri": "https://localhost:8080/",
          "height": 91
        },
        "outputId": "c288b7c9-1659-495a-b9f6-a93ca0eeee04"
      },
      "source": [
        "# Пример 3\n",
        "%%sql\n",
        "CREATE TABLE if not exists Students(\n",
        "    AdmissionsNo,\n",
        "    FirstName,\n",
        "    MiddleName,\n",
        "    LastName,\n",
        "    DateOfBirth,\n",
        "    DateOfAdmission\n",
        ");\n",
        " \n",
        "SELECT * from Students;"
      ],
      "execution_count": 14,
      "outputs": [
        {
          "output_type": "stream",
          "name": "stdout",
          "text": [
            " * sqlite:////content/dz.db\n",
            "Done.\n",
            "Done.\n"
          ]
        },
        {
          "output_type": "execute_result",
          "data": {
            "text/html": [
              "<table>\n",
              "    <thead>\n",
              "        <tr>\n",
              "            <th>AdmissionsNo</th>\n",
              "            <th>FirstName</th>\n",
              "            <th>MiddleName</th>\n",
              "            <th>LastName</th>\n",
              "            <th>DateOfBirth</th>\n",
              "            <th>DateOfAdmission</th>\n",
              "        </tr>\n",
              "    </thead>\n",
              "    <tbody>\n",
              "    </tbody>\n",
              "</table>"
            ],
            "text/plain": [
              "[]"
            ]
          },
          "metadata": {},
          "execution_count": 14
        }
      ]
    },
    {
      "cell_type": "markdown",
      "metadata": {
        "id": "oxISLcTfPSqn"
      },
      "source": [
        "### <font color=\"green\"> 1.3 ДЗ </font>"
      ]
    },
    {
      "cell_type": "code",
      "metadata": {
        "id": "SbRfVF-IPa7y",
        "colab": {
          "base_uri": "https://localhost:8080/",
          "height": 319
        },
        "outputId": "e045aae4-e6c3-4167-ca1d-675517eacb3e"
      },
      "source": [
        "# Задача 1\n",
        "# Давайте создадим таблицу с именем PC со следующими полями;\n",
        "# code, model, speed, RAM, HD, CD и цена.\n",
        "# Мы также указываем соответствующие типы данных для нашей таблицы, добавляем туда произвольные данные и отображаем ее.\n",
        "%%sql \n",
        " CREATE TABLE if not exists PC(\n",
        "  code int, \n",
        "  model varchar(50), \n",
        "  speed float, \n",
        "  RAM int, \n",
        "  HD varchar(50), \n",
        "  CD varchar(50),\n",
        "  price float\n",
        ");\n",
        "\n",
        "insert into PC(code, model, speed, RAM, HD, CD, price) values (128,'model1',133.5, 1024, 'SSD','NOCD',12345.67);\n",
        "insert into PC values(129,'model2',133.5, 2046, 'SSD','NOCD',8345.67);\n",
        "insert into PC values(1287,'model31',133.5, 0, 'hdD','CD2',22745.67);\n",
        "insert into PC values(1282,'model2',13.5, 1024, 'HD','NOCD',1245.67);\n",
        "insert into PC values(1286,'model4',143.5, 4048, 'SSD','CD1',122345.67);\n",
        "insert into PC values(1281,'model5',133.7, 1024, 'SSD','NOCD',145.67);\n",
        "\n",
        "SELECT * from PC;\n"
      ],
      "execution_count": 15,
      "outputs": [
        {
          "output_type": "stream",
          "name": "stdout",
          "text": [
            " * sqlite:////content/dz.db\n",
            "Done.\n",
            "1 rows affected.\n",
            "1 rows affected.\n",
            "1 rows affected.\n",
            "1 rows affected.\n",
            "1 rows affected.\n",
            "1 rows affected.\n",
            "Done.\n"
          ]
        },
        {
          "output_type": "execute_result",
          "data": {
            "text/html": [
              "<table>\n",
              "    <thead>\n",
              "        <tr>\n",
              "            <th>code</th>\n",
              "            <th>model</th>\n",
              "            <th>speed</th>\n",
              "            <th>RAM</th>\n",
              "            <th>HD</th>\n",
              "            <th>CD</th>\n",
              "            <th>price</th>\n",
              "        </tr>\n",
              "    </thead>\n",
              "    <tbody>\n",
              "        <tr>\n",
              "            <td>128</td>\n",
              "            <td>model1</td>\n",
              "            <td>133.5</td>\n",
              "            <td>1024</td>\n",
              "            <td>SSD</td>\n",
              "            <td>NOCD</td>\n",
              "            <td>12345.67</td>\n",
              "        </tr>\n",
              "        <tr>\n",
              "            <td>129</td>\n",
              "            <td>model2</td>\n",
              "            <td>133.5</td>\n",
              "            <td>2046</td>\n",
              "            <td>SSD</td>\n",
              "            <td>NOCD</td>\n",
              "            <td>8345.67</td>\n",
              "        </tr>\n",
              "        <tr>\n",
              "            <td>1287</td>\n",
              "            <td>model31</td>\n",
              "            <td>133.5</td>\n",
              "            <td>0</td>\n",
              "            <td>hdD</td>\n",
              "            <td>CD2</td>\n",
              "            <td>22745.67</td>\n",
              "        </tr>\n",
              "        <tr>\n",
              "            <td>1282</td>\n",
              "            <td>model2</td>\n",
              "            <td>13.5</td>\n",
              "            <td>1024</td>\n",
              "            <td>HD</td>\n",
              "            <td>NOCD</td>\n",
              "            <td>1245.67</td>\n",
              "        </tr>\n",
              "        <tr>\n",
              "            <td>1286</td>\n",
              "            <td>model4</td>\n",
              "            <td>143.5</td>\n",
              "            <td>4048</td>\n",
              "            <td>SSD</td>\n",
              "            <td>CD1</td>\n",
              "            <td>122345.67</td>\n",
              "        </tr>\n",
              "        <tr>\n",
              "            <td>1281</td>\n",
              "            <td>model5</td>\n",
              "            <td>133.7</td>\n",
              "            <td>1024</td>\n",
              "            <td>SSD</td>\n",
              "            <td>NOCD</td>\n",
              "            <td>145.67</td>\n",
              "        </tr>\n",
              "    </tbody>\n",
              "</table>"
            ],
            "text/plain": [
              "[(128, 'model1', 133.5, 1024, 'SSD', 'NOCD', 12345.67),\n",
              " (129, 'model2', 133.5, 2046, 'SSD', 'NOCD', 8345.67),\n",
              " (1287, 'model31', 133.5, 0, 'hdD', 'CD2', 22745.67),\n",
              " (1282, 'model2', 13.5, 1024, 'HD', 'NOCD', 1245.67),\n",
              " (1286, 'model4', 143.5, 4048, 'SSD', 'CD1', 122345.67),\n",
              " (1281, 'model5', 133.7, 1024, 'SSD', 'NOCD', 145.67)]"
            ]
          },
          "metadata": {},
          "execution_count": 15
        }
      ]
    },
    {
      "cell_type": "code",
      "metadata": {
        "id": "raslfjbEPa6h",
        "colab": {
          "base_uri": "https://localhost:8080/",
          "height": 281
        },
        "outputId": "db8c83dc-cb9e-45ff-91d8-4bc69df04947"
      },
      "source": [
        "# Задача 2\n",
        "# Давайте создадим таблицу с именем PC со следующими полями;\n",
        "# code, model, speed, type and Price.\n",
        "# Мы также указываем соответствующие типы данных для нашей таблицы, добавляем туда произвольные данные и отображаем ее.\n",
        "\n",
        "%%sql\n",
        "CREATE TABLE if not exists Printer(\n",
        "  code int, \n",
        "  model varchar(50), \n",
        "  speed float, \n",
        "  type boolean,\n",
        "  price float\n",
        ");\n",
        "\n",
        "insert into Printer values(128,'model1',15.7,1, 1345.67);\n",
        "insert into Printer values(18,'model2',15.7,0, 1235.67);\n",
        "insert into Printer values(28,'model3',12,1, 1234);\n",
        "insert into Printer values(11,'model3',152.7,1, 1115.67);\n",
        "insert into Printer values(18,'model1',157.7,0, 12345.67);\n",
        "\n",
        "\n",
        "SELECT * from Printer;"
      ],
      "execution_count": 16,
      "outputs": [
        {
          "output_type": "stream",
          "name": "stdout",
          "text": [
            " * sqlite:////content/dz.db\n",
            "Done.\n",
            "1 rows affected.\n",
            "1 rows affected.\n",
            "1 rows affected.\n",
            "1 rows affected.\n",
            "1 rows affected.\n",
            "Done.\n"
          ]
        },
        {
          "output_type": "execute_result",
          "data": {
            "text/html": [
              "<table>\n",
              "    <thead>\n",
              "        <tr>\n",
              "            <th>code</th>\n",
              "            <th>model</th>\n",
              "            <th>speed</th>\n",
              "            <th>type</th>\n",
              "            <th>price</th>\n",
              "        </tr>\n",
              "    </thead>\n",
              "    <tbody>\n",
              "        <tr>\n",
              "            <td>128</td>\n",
              "            <td>model1</td>\n",
              "            <td>15.7</td>\n",
              "            <td>1</td>\n",
              "            <td>1345.67</td>\n",
              "        </tr>\n",
              "        <tr>\n",
              "            <td>18</td>\n",
              "            <td>model2</td>\n",
              "            <td>15.7</td>\n",
              "            <td>0</td>\n",
              "            <td>1235.67</td>\n",
              "        </tr>\n",
              "        <tr>\n",
              "            <td>28</td>\n",
              "            <td>model3</td>\n",
              "            <td>12.0</td>\n",
              "            <td>1</td>\n",
              "            <td>1234.0</td>\n",
              "        </tr>\n",
              "        <tr>\n",
              "            <td>11</td>\n",
              "            <td>model3</td>\n",
              "            <td>152.7</td>\n",
              "            <td>1</td>\n",
              "            <td>1115.67</td>\n",
              "        </tr>\n",
              "        <tr>\n",
              "            <td>18</td>\n",
              "            <td>model1</td>\n",
              "            <td>157.7</td>\n",
              "            <td>0</td>\n",
              "            <td>12345.67</td>\n",
              "        </tr>\n",
              "    </tbody>\n",
              "</table>"
            ],
            "text/plain": [
              "[(128, 'model1', 15.7, 1, 1345.67),\n",
              " (18, 'model2', 15.7, 0, 1235.67),\n",
              " (28, 'model3', 12.0, 1, 1234.0),\n",
              " (11, 'model3', 152.7, 1, 1115.67),\n",
              " (18, 'model1', 157.7, 0, 12345.67)]"
            ]
          },
          "metadata": {},
          "execution_count": 16
        }
      ]
    },
    {
      "cell_type": "markdown",
      "metadata": {
        "id": "tsDIChSD7eZA"
      },
      "source": [
        "## 1.4 Устанавливаем типы данных для столбцов"
      ]
    },
    {
      "cell_type": "code",
      "metadata": {
        "id": "LR9UX1XnbPEJ",
        "colab": {
          "base_uri": "https://localhost:8080/",
          "height": 91
        },
        "outputId": "d7a3d993-ba13-4358-a7b7-54919e88da80"
      },
      "source": [
        "# Пример 1\n",
        "#integer, text, varchar,date,float\n",
        "%%sql\n",
        "CREATE TABLE IF NOT EXISTS Citizens (\n",
        "    NationalID int,\n",
        "    FirstName varchar(255),\n",
        "    MiddleName varchar(255),\n",
        "    PostalAddress varchar(255),\n",
        "    Residence varchar(255));\n",
        "SELECT * from Citizens;"
      ],
      "execution_count": 17,
      "outputs": [
        {
          "output_type": "stream",
          "name": "stdout",
          "text": [
            " * sqlite:////content/dz.db\n",
            "Done.\n",
            "Done.\n"
          ]
        },
        {
          "output_type": "execute_result",
          "data": {
            "text/html": [
              "<table>\n",
              "    <thead>\n",
              "        <tr>\n",
              "            <th>NationalID</th>\n",
              "            <th>FirstName</th>\n",
              "            <th>MiddleName</th>\n",
              "            <th>PostalAddress</th>\n",
              "            <th>Residence</th>\n",
              "        </tr>\n",
              "    </thead>\n",
              "    <tbody>\n",
              "    </tbody>\n",
              "</table>"
            ],
            "text/plain": [
              "[]"
            ]
          },
          "metadata": {},
          "execution_count": 17
        }
      ]
    },
    {
      "cell_type": "code",
      "metadata": {
        "id": "xD0OhRTmdFW5",
        "colab": {
          "base_uri": "https://localhost:8080/",
          "height": 91
        },
        "outputId": "64c94705-2691-4297-ec43-274f624d27a1"
      },
      "source": [
        "# Пример 2\n",
        "\n",
        "%%sql\n",
        "CREATE TABLE IF NOT EXISTS artists(\n",
        "    Artist_Id int,\n",
        "    Artist_Name varchar(60),\n",
        "    Artist_DOB date,\n",
        "    Posters_In_Stock boolean);\n",
        "\n",
        "SELECT * from artists;"
      ],
      "execution_count": 18,
      "outputs": [
        {
          "output_type": "stream",
          "name": "stdout",
          "text": [
            " * sqlite:////content/dz.db\n",
            "Done.\n",
            "Done.\n"
          ]
        },
        {
          "output_type": "execute_result",
          "data": {
            "text/html": [
              "<table>\n",
              "    <thead>\n",
              "        <tr>\n",
              "            <th>Artist_Id</th>\n",
              "            <th>Artist_Name</th>\n",
              "            <th>Artist_DOB</th>\n",
              "            <th>Posters_In_Stock</th>\n",
              "        </tr>\n",
              "    </thead>\n",
              "    <tbody>\n",
              "    </tbody>\n",
              "</table>"
            ],
            "text/plain": [
              "[]"
            ]
          },
          "metadata": {},
          "execution_count": 18
        }
      ]
    },
    {
      "cell_type": "code",
      "metadata": {
        "id": "FOWSIAvGZpE-",
        "colab": {
          "base_uri": "https://localhost:8080/",
          "height": 91
        },
        "outputId": "dd1249c8-d959-469b-bf95-b25d62e04cbb"
      },
      "source": [
        "# Пример  3\n",
        "\n",
        "%%sql\n",
        "CREATE TABLE IF NOT EXISTS Players (\n",
        "    id int,\n",
        "    name text,\n",
        "    age integer,\n",
        "    height float);\n",
        "\n",
        "SELECT * from Players;"
      ],
      "execution_count": 19,
      "outputs": [
        {
          "output_type": "stream",
          "name": "stdout",
          "text": [
            " * sqlite:////content/dz.db\n",
            "Done.\n",
            "Done.\n"
          ]
        },
        {
          "output_type": "execute_result",
          "data": {
            "text/html": [
              "<table>\n",
              "    <thead>\n",
              "        <tr>\n",
              "            <th>id</th>\n",
              "            <th>name</th>\n",
              "            <th>age</th>\n",
              "            <th>height</th>\n",
              "        </tr>\n",
              "    </thead>\n",
              "    <tbody>\n",
              "    </tbody>\n",
              "</table>"
            ],
            "text/plain": [
              "[]"
            ]
          },
          "metadata": {},
          "execution_count": 19
        }
      ]
    },
    {
      "cell_type": "markdown",
      "metadata": {
        "id": "LMP7zZY2dGuV"
      },
      "source": [
        "### <font color=\"green\"> 1.4 ДЗ</font>"
      ]
    },
    {
      "cell_type": "code",
      "metadata": {
        "id": "8g9IjuQDdKP5",
        "colab": {
          "base_uri": "https://localhost:8080/",
          "height": 91
        },
        "outputId": "438ed877-43f1-4c29-a8c0-e2ecc55d0883"
      },
      "source": [
        "# Задача 1\n",
        "# Давайте создадим таблицу customer с CustID с типом данных Integer, LastName\n",
        "# с varchar длиной 25 символов, FirstName с varchar длиной 20 символов\n",
        "#\n",
        "%%sql\n",
        "CREATE TABLE IF NOT EXISTS CUSTOMER(\n",
        "  CustID Integer,\n",
        "  LastName varchar(25),\n",
        "  FirstName varchar(20)\n",
        " );\n",
        "SELECT * from CUSTOMER;"
      ],
      "execution_count": 20,
      "outputs": [
        {
          "output_type": "stream",
          "name": "stdout",
          "text": [
            " * sqlite:////content/dz.db\n",
            "Done.\n",
            "Done.\n"
          ]
        },
        {
          "output_type": "execute_result",
          "data": {
            "text/html": [
              "<table>\n",
              "    <thead>\n",
              "        <tr>\n",
              "            <th>CustID</th>\n",
              "            <th>LastName</th>\n",
              "            <th>FirstName</th>\n",
              "        </tr>\n",
              "    </thead>\n",
              "    <tbody>\n",
              "    </tbody>\n",
              "</table>"
            ],
            "text/plain": [
              "[]"
            ]
          },
          "metadata": {},
          "execution_count": 20
        }
      ]
    },
    {
      "cell_type": "code",
      "metadata": {
        "id": "mhbYzTUqgcT6",
        "colab": {
          "base_uri": "https://localhost:8080/",
          "height": 91
        },
        "outputId": "41ba4c55-6c0b-4230-f0dc-9e78c0059347"
      },
      "source": [
        "# Задание 3\n",
        "# Создайте таблицу с названием sales, в которой хранятся идентификатор продажи, идентификатор клиента, имя и адрес.\n",
        "# используя также соответствующие типы данных\n",
        "# \n",
        "%%sql\n",
        "CREATE TABLE IF NOT EXISTS SALES(\n",
        "    SalesID integer,\n",
        "    CustomerID int,\n",
        "    Name text,\n",
        "    Address varchar\n",
        ");\n",
        "SELECT * from SALES;"
      ],
      "execution_count": 21,
      "outputs": [
        {
          "output_type": "stream",
          "name": "stdout",
          "text": [
            " * sqlite:////content/dz.db\n",
            "Done.\n",
            "Done.\n"
          ]
        },
        {
          "output_type": "execute_result",
          "data": {
            "text/html": [
              "<table>\n",
              "    <thead>\n",
              "        <tr>\n",
              "            <th>SalesID</th>\n",
              "            <th>CustomerID</th>\n",
              "            <th>Name</th>\n",
              "            <th>Address</th>\n",
              "        </tr>\n",
              "    </thead>\n",
              "    <tbody>\n",
              "    </tbody>\n",
              "</table>"
            ],
            "text/plain": [
              "[]"
            ]
          },
          "metadata": {},
          "execution_count": 21
        }
      ]
    },
    {
      "cell_type": "code",
      "metadata": {
        "id": "dusTkcdWuv3E",
        "colab": {
          "base_uri": "https://localhost:8080/",
          "height": 91
        },
        "outputId": "b66f45b3-5acf-4e13-ad4b-3410287f6563"
      },
      "source": [
        "# Задание 4\n",
        "# Создайте таблицу с именем сотрудники, в которой хранятся номер сотрудника, имя сотрудника,\n",
        "# отдел и информацию о зарплате с использованием соответствующих типов данных\n",
        "#\n",
        "%%sql\n",
        "CREATE TABLE IF NOT EXISTS EMPLOYEES(\n",
        "    CustomerID int,\n",
        "    Name varchar(50),\n",
        "    department varchar(50),\n",
        "    salary float\n",
        "    \n",
        ");\n",
        "SELECT* from EMPLOYEES;"
      ],
      "execution_count": 22,
      "outputs": [
        {
          "output_type": "stream",
          "name": "stdout",
          "text": [
            " * sqlite:////content/dz.db\n",
            "Done.\n",
            "Done.\n"
          ]
        },
        {
          "output_type": "execute_result",
          "data": {
            "text/html": [
              "<table>\n",
              "    <thead>\n",
              "        <tr>\n",
              "            <th>CustomerID</th>\n",
              "            <th>Name</th>\n",
              "            <th>department</th>\n",
              "            <th>salary</th>\n",
              "        </tr>\n",
              "    </thead>\n",
              "    <tbody>\n",
              "    </tbody>\n",
              "</table>"
            ],
            "text/plain": [
              "[]"
            ]
          },
          "metadata": {},
          "execution_count": 22
        }
      ]
    },
    {
      "cell_type": "markdown",
      "metadata": {
        "id": "ASFyzyDc9hth"
      },
      "source": [
        "## 1.5 Устанавливаем Default Values для столбцов"
      ]
    },
    {
      "cell_type": "code",
      "metadata": {
        "id": "_ut68z0BgfW9",
        "colab": {
          "base_uri": "https://localhost:8080/"
        },
        "outputId": "333feb1c-6b30-49e1-c2fc-e401986c24e0"
      },
      "source": [
        "# Пример  2\n",
        "# \n",
        "%%sql\n",
        "CREATE TABLE IF NOT EXISTS TeamMembers (\n",
        "    id INTEGER PRIMARY KEY,\n",
        "    name TEXT,\n",
        "    age INTEGER DEFAULT 'test',\n",
        "    height REAL);"
      ],
      "execution_count": 23,
      "outputs": [
        {
          "output_type": "stream",
          "name": "stdout",
          "text": [
            " * sqlite:////content/dz.db\n",
            "Done.\n"
          ]
        },
        {
          "output_type": "execute_result",
          "data": {
            "text/plain": [
              "[]"
            ]
          },
          "metadata": {},
          "execution_count": 23
        }
      ]
    },
    {
      "cell_type": "markdown",
      "metadata": {
        "id": "Xr_iw9O1gynX"
      },
      "source": [
        "### <font color=\"green\"> 1.5 ДЗ</font>"
      ]
    },
    {
      "cell_type": "code",
      "metadata": {
        "id": "H0X577pGgxuY",
        "colab": {
          "base_uri": "https://localhost:8080/",
          "height": 129
        },
        "outputId": "2ac0b6d6-8307-4992-ada9-88261ae9ab13"
      },
      "source": [
        "# Задача 1\n",
        "# Давайте создадим новую таблицу с именем latest_players с полями, похожими на\n",
        "# уже созданная таблица Players, но укажите значение по умолчанию unknown\n",
        "#\n",
        "%%sql\n",
        "CREATE TABLE IF NOT EXISTS latest_players(\n",
        "    id int,\n",
        "    name text,\n",
        "    age integer DEFAULT 'unknown',\n",
        "    height float\n",
        "    );  \n",
        "insert into latest_players(id,name,height) values(1,\"nnn\",170);\n",
        "\n",
        "Select * from latest_players;"
      ],
      "execution_count": 24,
      "outputs": [
        {
          "output_type": "stream",
          "name": "stdout",
          "text": [
            " * sqlite:////content/dz.db\n",
            "Done.\n",
            "1 rows affected.\n",
            "Done.\n"
          ]
        },
        {
          "output_type": "execute_result",
          "data": {
            "text/html": [
              "<table>\n",
              "    <thead>\n",
              "        <tr>\n",
              "            <th>id</th>\n",
              "            <th>name</th>\n",
              "            <th>age</th>\n",
              "            <th>height</th>\n",
              "        </tr>\n",
              "    </thead>\n",
              "    <tbody>\n",
              "        <tr>\n",
              "            <td>1</td>\n",
              "            <td>nnn</td>\n",
              "            <td>unknown</td>\n",
              "            <td>170.0</td>\n",
              "        </tr>\n",
              "    </tbody>\n",
              "</table>"
            ],
            "text/plain": [
              "[(1, 'nnn', 'unknown', 170.0)]"
            ]
          },
          "metadata": {},
          "execution_count": 24
        }
      ]
    },
    {
      "cell_type": "code",
      "metadata": {
        "id": "1LEzaO5ggpCt",
        "colab": {
          "base_uri": "https://localhost:8080/"
        },
        "outputId": "e58ec58d-a5a6-4ce3-9623-a552f1e90207"
      },
      "source": [
        "# Задача 2\n",
        "# Давайте создадим новую таблицу с названиями ресторанов с полями\n",
        "# - имя: varchar\n",
        "# - описание: text\n",
        "# - адрес: строка, значение по умолчанию 'Moscow'\n",
        "# - user_id: integer\n",
        "# - last_orders_at: date\n",
        "# При необходимости мы можем провести внешнее исследование типа данных.\n",
        "#\n",
        "%%sql\n",
        "CREATE TABLE IF NOT EXISTS restaurants(\n",
        "  name varchar,\n",
        "  description text,\n",
        "  address varchar(50) default 'Moscow',\n",
        "  user_id integer,\n",
        "  last_orders_at date\n",
        ");\n",
        "\n"
      ],
      "execution_count": 25,
      "outputs": [
        {
          "output_type": "stream",
          "name": "stdout",
          "text": [
            " * sqlite:////content/dz.db\n",
            "Done.\n"
          ]
        },
        {
          "output_type": "execute_result",
          "data": {
            "text/plain": [
              "[]"
            ]
          },
          "metadata": {},
          "execution_count": 25
        }
      ]
    },
    {
      "cell_type": "markdown",
      "metadata": {
        "id": "fbqK98Ve9qUw"
      },
      "source": [
        "## 1.6 Изменение SQL таблиц"
      ]
    },
    {
      "cell_type": "code",
      "metadata": {
        "id": "hX5YD-_dhEra",
        "colab": {
          "base_uri": "https://localhost:8080/",
          "height": 91
        },
        "outputId": "3b9adb03-1e7f-4d35-932c-ce3ae2295c4e"
      },
      "source": [
        "# Пример 1\n",
        "%%sql \n",
        "ALTER TABLE Classmates ADD Gender;\n",
        " \n",
        "SELECT * FROM Classmates;"
      ],
      "execution_count": 26,
      "outputs": [
        {
          "output_type": "stream",
          "name": "stdout",
          "text": [
            " * sqlite:////content/dz.db\n",
            "Done.\n",
            "Done.\n"
          ]
        },
        {
          "output_type": "execute_result",
          "data": {
            "text/html": [
              "<table>\n",
              "    <thead>\n",
              "        <tr>\n",
              "            <th>PersonID</th>\n",
              "            <th>LastName</th>\n",
              "            <th>FirstName</th>\n",
              "            <th>Phone</th>\n",
              "            <th>Residence</th>\n",
              "            <th>Gender</th>\n",
              "        </tr>\n",
              "    </thead>\n",
              "    <tbody>\n",
              "    </tbody>\n",
              "</table>"
            ],
            "text/plain": [
              "[]"
            ]
          },
          "metadata": {},
          "execution_count": 26
        }
      ]
    },
    {
      "cell_type": "code",
      "metadata": {
        "id": "IGZSdFj2hGbP",
        "colab": {
          "base_uri": "https://localhost:8080/"
        },
        "outputId": "9667d501-9c0c-4cdd-e0d6-8973776dd9f9"
      },
      "source": [
        "# Пример 2\n",
        "#\n",
        "%%sql \n",
        "--ALTER TABLE Classmates DROP COLUMN Residence;\n"
      ],
      "execution_count": 27,
      "outputs": [
        {
          "output_type": "stream",
          "name": "stdout",
          "text": [
            " * sqlite:////content/dz.db\n",
            "0 rows affected.\n"
          ]
        },
        {
          "output_type": "execute_result",
          "data": {
            "text/plain": [
              "[]"
            ]
          },
          "metadata": {},
          "execution_count": 27
        }
      ]
    },
    {
      "cell_type": "code",
      "metadata": {
        "id": "sHLkllxhhH3v",
        "colab": {
          "base_uri": "https://localhost:8080/"
        },
        "outputId": "231caef2-399d-4b59-893e-5c51b3bd0766"
      },
      "source": [
        "# Пример 3\n",
        "\n",
        "%%sql  \n",
        "ALTER TABLE Classmates RENAME TO Schoolmates;\n",
        "\n"
      ],
      "execution_count": 28,
      "outputs": [
        {
          "output_type": "stream",
          "name": "stdout",
          "text": [
            " * sqlite:////content/dz.db\n",
            "Done.\n"
          ]
        },
        {
          "output_type": "execute_result",
          "data": {
            "text/plain": [
              "[]"
            ]
          },
          "metadata": {},
          "execution_count": 28
        }
      ]
    },
    {
      "cell_type": "markdown",
      "metadata": {
        "id": "f20THWRqhJC-"
      },
      "source": [
        "### <font color=\"green\"> 1.6 ДЗ</font>"
      ]
    },
    {
      "cell_type": "code",
      "metadata": {
        "id": "6Nrsden-hJ7u",
        "colab": {
          "base_uri": "https://localhost:8080/",
          "height": 91
        },
        "outputId": "9ec7058d-6279-4e3b-9a7a-716918d9a7aa"
      },
      "source": [
        "# Задача 1\n",
        "# Добавьте столбец DOB с типом данных DATE в таблицу TeamMembers с помощью;\n",
        "# Подсказка: тип данных идет после имени столбца\n",
        "%%sql \n",
        "ALTER TABLE TeamMembers add DOB date;\n",
        "\n",
        "SELECT *FROM TeamMembers;\n"
      ],
      "execution_count": 29,
      "outputs": [
        {
          "output_type": "stream",
          "name": "stdout",
          "text": [
            " * sqlite:////content/dz.db\n",
            "Done.\n",
            "Done.\n"
          ]
        },
        {
          "output_type": "execute_result",
          "data": {
            "text/html": [
              "<table>\n",
              "    <thead>\n",
              "        <tr>\n",
              "            <th>id</th>\n",
              "            <th>name</th>\n",
              "            <th>age</th>\n",
              "            <th>height</th>\n",
              "            <th>DOB</th>\n",
              "        </tr>\n",
              "    </thead>\n",
              "    <tbody>\n",
              "    </tbody>\n",
              "</table>"
            ],
            "text/plain": [
              "[]"
            ]
          },
          "metadata": {},
          "execution_count": 29
        }
      ]
    },
    {
      "cell_type": "code",
      "metadata": {
        "id": "2hwkJkSNlIyd",
        "colab": {
          "base_uri": "https://localhost:8080/",
          "height": 179
        },
        "outputId": "dae45ded-f98b-4b8b-9d26-ec82399997ad"
      },
      "source": [
        "# Давайте проверим наш тип данных\n",
        "%%sql\n",
        "PRAGMA table_info(TeamMembers);\n"
      ],
      "execution_count": 30,
      "outputs": [
        {
          "output_type": "stream",
          "name": "stdout",
          "text": [
            " * sqlite:////content/dz.db\n",
            "Done.\n"
          ]
        },
        {
          "output_type": "execute_result",
          "data": {
            "text/html": [
              "<table>\n",
              "    <thead>\n",
              "        <tr>\n",
              "            <th>cid</th>\n",
              "            <th>name</th>\n",
              "            <th>type</th>\n",
              "            <th>notnull</th>\n",
              "            <th>dflt_value</th>\n",
              "            <th>pk</th>\n",
              "        </tr>\n",
              "    </thead>\n",
              "    <tbody>\n",
              "        <tr>\n",
              "            <td>0</td>\n",
              "            <td>id</td>\n",
              "            <td>INTEGER</td>\n",
              "            <td>0</td>\n",
              "            <td>None</td>\n",
              "            <td>1</td>\n",
              "        </tr>\n",
              "        <tr>\n",
              "            <td>1</td>\n",
              "            <td>name</td>\n",
              "            <td>TEXT</td>\n",
              "            <td>0</td>\n",
              "            <td>None</td>\n",
              "            <td>0</td>\n",
              "        </tr>\n",
              "        <tr>\n",
              "            <td>2</td>\n",
              "            <td>age</td>\n",
              "            <td>INTEGER</td>\n",
              "            <td>0</td>\n",
              "            <td>&#x27;test&#x27;</td>\n",
              "            <td>0</td>\n",
              "        </tr>\n",
              "        <tr>\n",
              "            <td>3</td>\n",
              "            <td>height</td>\n",
              "            <td>REAL</td>\n",
              "            <td>0</td>\n",
              "            <td>None</td>\n",
              "            <td>0</td>\n",
              "        </tr>\n",
              "        <tr>\n",
              "            <td>4</td>\n",
              "            <td>DOB</td>\n",
              "            <td>date</td>\n",
              "            <td>0</td>\n",
              "            <td>None</td>\n",
              "            <td>0</td>\n",
              "        </tr>\n",
              "    </tbody>\n",
              "</table>"
            ],
            "text/plain": [
              "[(0, 'id', 'INTEGER', 0, None, 1),\n",
              " (1, 'name', 'TEXT', 0, None, 0),\n",
              " (2, 'age', 'INTEGER', 0, \"'test'\", 0),\n",
              " (3, 'height', 'REAL', 0, None, 0),\n",
              " (4, 'DOB', 'date', 0, None, 0)]"
            ]
          },
          "metadata": {},
          "execution_count": 30
        }
      ]
    },
    {
      "cell_type": "code",
      "metadata": {
        "id": "iLNLtWBFhLCS",
        "colab": {
          "base_uri": "https://localhost:8080/",
          "height": 91
        },
        "outputId": "71f40734-a587-4211-a5b4-cce2a07f87dc"
      },
      "source": [
        "# Задача 2\n",
        "# Давайте теперь добавим столбец STUDIO с типом данных TEXT в таблицу Artists\n",
        "#\n",
        "%%sql\n",
        "ALTER TABLE Artists add STUDIO TEXT;\n",
        "\n",
        "SELECT *FROM Artists;\n"
      ],
      "execution_count": 31,
      "outputs": [
        {
          "output_type": "stream",
          "name": "stdout",
          "text": [
            " * sqlite:////content/dz.db\n",
            "Done.\n",
            "Done.\n"
          ]
        },
        {
          "output_type": "execute_result",
          "data": {
            "text/html": [
              "<table>\n",
              "    <thead>\n",
              "        <tr>\n",
              "            <th>Artist_Id</th>\n",
              "            <th>Artist_Name</th>\n",
              "            <th>Artist_DOB</th>\n",
              "            <th>Posters_In_Stock</th>\n",
              "            <th>STUDIO</th>\n",
              "        </tr>\n",
              "    </thead>\n",
              "    <tbody>\n",
              "    </tbody>\n",
              "</table>"
            ],
            "text/plain": [
              "[]"
            ]
          },
          "metadata": {},
          "execution_count": 31
        }
      ]
    },
    {
      "cell_type": "code",
      "metadata": {
        "id": "16L-Ex_ehKzt",
        "colab": {
          "base_uri": "https://localhost:8080/"
        },
        "outputId": "8e1457c0-4ec6-487b-bcbb-230c332754d1"
      },
      "source": [
        "# Задание 3\n",
        "# Затем мы переименовываем таблицу Artists в Music Artists\n",
        "#\n",
        "%%sql\n",
        "ALTER TABLE Artists RENAME TO MusicArtists;"
      ],
      "execution_count": 32,
      "outputs": [
        {
          "output_type": "stream",
          "name": "stdout",
          "text": [
            " * sqlite:////content/dz.db\n",
            "Done.\n"
          ]
        },
        {
          "output_type": "execute_result",
          "data": {
            "text/plain": [
              "[]"
            ]
          },
          "metadata": {},
          "execution_count": 32
        }
      ]
    },
    {
      "cell_type": "markdown",
      "metadata": {
        "id": "N5323tiC9u5B"
      },
      "source": [
        "## 1.7 Удаление SQL Таблиц"
      ]
    },
    {
      "cell_type": "markdown",
      "metadata": {
        "id": "Lyy1XQCy_rIm"
      },
      "source": [
        "### 1.71 Очистка таблицы \n"
      ]
    },
    {
      "cell_type": "code",
      "metadata": {
        "id": "EF5WdMH1hj-8",
        "colab": {
          "base_uri": "https://localhost:8080/"
        },
        "outputId": "83b08f8f-6660-4271-f9b9-856c53a070d5"
      },
      "source": [
        "# Пример  1\n",
        "\n",
        "#\n",
        "%%sql\n",
        "--TRUNCATE TABLE Schoolmates;"
      ],
      "execution_count": 33,
      "outputs": [
        {
          "output_type": "stream",
          "name": "stdout",
          "text": [
            " * sqlite:////content/dz.db\n",
            "0 rows affected.\n"
          ]
        },
        {
          "output_type": "execute_result",
          "data": {
            "text/plain": [
              "[]"
            ]
          },
          "metadata": {},
          "execution_count": 33
        }
      ]
    },
    {
      "cell_type": "markdown",
      "metadata": {
        "id": "018guVdKDwnu"
      },
      "source": [
        "### 1.72 Удаление таблицы"
      ]
    },
    {
      "cell_type": "code",
      "metadata": {
        "id": "IBP2xlN4Dz8H",
        "colab": {
          "base_uri": "https://localhost:8080/"
        },
        "outputId": "8d449f0c-e037-46b2-e6e1-d612d810ed44"
      },
      "source": [
        "# Пример 1\n",
        "%sql DROP TABLE Schoolmates;"
      ],
      "execution_count": 34,
      "outputs": [
        {
          "output_type": "stream",
          "name": "stdout",
          "text": [
            " * sqlite:////content/dz.db\n",
            "Done.\n"
          ]
        },
        {
          "output_type": "execute_result",
          "data": {
            "text/plain": [
              "[]"
            ]
          },
          "metadata": {},
          "execution_count": 34
        }
      ]
    },
    {
      "cell_type": "markdown",
      "metadata": {
        "id": "hK3Aff9bhkkE"
      },
      "source": [
        "### <font color=\"green\"> 1.7 ДЗ</font>"
      ]
    },
    {
      "cell_type": "code",
      "metadata": {
        "id": "OhTHowBAhmF_",
        "cellView": "both",
        "colab": {
          "base_uri": "https://localhost:8080/"
        },
        "outputId": "bff94431-338f-4b6f-afa0-f668e580464c"
      },
      "source": [
        "# Задача 1\n",
        "# Давайте удалим таблицу Players из нашей базы данных\n",
        "#\n",
        "%%sql \n",
        "DROP TABLE Players;"
      ],
      "execution_count": 35,
      "outputs": [
        {
          "output_type": "stream",
          "name": "stdout",
          "text": [
            " * sqlite:////content/dz.db\n",
            "Done.\n"
          ]
        },
        {
          "output_type": "execute_result",
          "data": {
            "text/plain": [
              "[]"
            ]
          },
          "metadata": {},
          "execution_count": 35
        }
      ]
    },
    {
      "cell_type": "code",
      "metadata": {
        "id": "TupkeQYohmc9",
        "colab": {
          "base_uri": "https://localhost:8080/"
        },
        "outputId": "da3d30c5-7318-4045-e7f4-5e6773eb0e15"
      },
      "source": [
        "# Задача 2\n",
        "# Давайте удалим таблицу Customers из нашей базы данных\n",
        "#\n",
        "%%sql\n",
        "drop table Customers;"
      ],
      "execution_count": 36,
      "outputs": [
        {
          "output_type": "stream",
          "name": "stdout",
          "text": [
            " * sqlite:////content/dz.db\n",
            "Done.\n"
          ]
        },
        {
          "output_type": "execute_result",
          "data": {
            "text/plain": [
              "[]"
            ]
          },
          "metadata": {},
          "execution_count": 36
        }
      ]
    },
    {
      "cell_type": "code",
      "metadata": {
        "id": "5JA8Kr56hmPr",
        "colab": {
          "base_uri": "https://localhost:8080/"
        },
        "outputId": "7d2d87b0-f8cb-405f-e238-60219b3f4be1"
      },
      "source": [
        "# Задание 3\n",
        "# И, наконец, очистить и удалить нашу таблицу Artists из нашей базы данных\n",
        "#\n",
        "%%sql\n",
        "delete from MusicArtists;\n",
        "drop table MusicArtists;"
      ],
      "execution_count": 37,
      "outputs": [
        {
          "output_type": "stream",
          "name": "stdout",
          "text": [
            " * sqlite:////content/dz.db\n",
            "0 rows affected.\n",
            "Done.\n"
          ]
        },
        {
          "output_type": "execute_result",
          "data": {
            "text/plain": [
              "[]"
            ]
          },
          "metadata": {},
          "execution_count": 37
        }
      ]
    },
    {
      "cell_type": "markdown",
      "metadata": {
        "id": "g8HxWLhZj3Xg"
      },
      "source": [
        "## Чтение данных из таблицы с помощью Pandas"
      ]
    },
    {
      "cell_type": "code",
      "metadata": {
        "id": "aY1LSUFgj1h6"
      },
      "source": [
        "import pandas as pd\n",
        "import sqlite3\n",
        "\n",
        "con = sqlite3.connect(\"dz.db\")\n",
        "\n",
        "# Load the data into a DataFrame\n",
        "surveys_df = pd.read_sql_query(\"SELECT * from team_data\", con)\n",
        "\n",
        "# Select only data for 2002\n",
        "#surveys2002 = surveys_df[surveys_df.year == 2002]\n",
        "\n",
        "# Write the new DataFrame to a new SQLite table\n",
        "#surveys2002.to_sql(\"surveys2002\", con, if_exists=\"replace\")\n",
        "\n",
        "con.close()"
      ],
      "execution_count": 38,
      "outputs": []
    },
    {
      "cell_type": "markdown",
      "metadata": {
        "id": "q841ZQTsaBaJ"
      },
      "source": [
        ""
      ]
    },
    {
      "cell_type": "code",
      "metadata": {
        "id": "UY4ENrqfj1zM",
        "colab": {
          "base_uri": "https://localhost:8080/",
          "height": 204
        },
        "outputId": "7ac81b7c-306d-4398-a448-1490f80f40d0"
      },
      "source": [
        "surveys_df.head()"
      ],
      "execution_count": 39,
      "outputs": [
        {
          "output_type": "execute_result",
          "data": {
            "text/html": [
              "<div>\n",
              "<style scoped>\n",
              "    .dataframe tbody tr th:only-of-type {\n",
              "        vertical-align: middle;\n",
              "    }\n",
              "\n",
              "    .dataframe tbody tr th {\n",
              "        vertical-align: top;\n",
              "    }\n",
              "\n",
              "    .dataframe thead th {\n",
              "        text-align: right;\n",
              "    }\n",
              "</style>\n",
              "<table border=\"1\" class=\"dataframe\">\n",
              "  <thead>\n",
              "    <tr style=\"text-align: right;\">\n",
              "      <th></th>\n",
              "      <th>team</th>\n",
              "      <th>country</th>\n",
              "      <th>season</th>\n",
              "      <th>total_goals</th>\n",
              "    </tr>\n",
              "  </thead>\n",
              "  <tbody>\n",
              "    <tr>\n",
              "      <th>0</th>\n",
              "      <td>Real Madrid</td>\n",
              "      <td>Spain</td>\n",
              "      <td>2019</td>\n",
              "      <td>53</td>\n",
              "    </tr>\n",
              "    <tr>\n",
              "      <th>1</th>\n",
              "      <td>Barcelona</td>\n",
              "      <td>Spain</td>\n",
              "      <td>2019</td>\n",
              "      <td>47</td>\n",
              "    </tr>\n",
              "    <tr>\n",
              "      <th>2</th>\n",
              "      <td>Arsenal</td>\n",
              "      <td>UK</td>\n",
              "      <td>2019</td>\n",
              "      <td>52</td>\n",
              "    </tr>\n",
              "    <tr>\n",
              "      <th>3</th>\n",
              "      <td>Real Madrid</td>\n",
              "      <td>Spain</td>\n",
              "      <td>2018</td>\n",
              "      <td>49</td>\n",
              "    </tr>\n",
              "    <tr>\n",
              "      <th>4</th>\n",
              "      <td>Barcelona</td>\n",
              "      <td>Spain</td>\n",
              "      <td>2018</td>\n",
              "      <td>45</td>\n",
              "    </tr>\n",
              "  </tbody>\n",
              "</table>\n",
              "</div>"
            ],
            "text/plain": [
              "          team country  season  total_goals\n",
              "0  Real Madrid   Spain    2019           53\n",
              "1    Barcelona   Spain    2019           47\n",
              "2      Arsenal      UK    2019           52\n",
              "3  Real Madrid   Spain    2018           49\n",
              "4    Barcelona   Spain    2018           45"
            ]
          },
          "metadata": {},
          "execution_count": 39
        }
      ]
    },
    {
      "cell_type": "code",
      "metadata": {
        "id": "0wm3KUncj17i"
      },
      "source": [
        ""
      ],
      "execution_count": 39,
      "outputs": []
    }
  ]
}