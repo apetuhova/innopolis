{
  "nbformat": 4,
  "nbformat_minor": 0,
  "metadata": {
    "colab": {
      "name": "flask_client.ipynb",
      "provenance": [],
      "collapsed_sections": [],
      "authorship_tag": "ABX9TyMb+NxM9/SVHd1Ccw2zn5YU",
      "include_colab_link": true
    },
    "kernelspec": {
      "name": "python3",
      "display_name": "Python 3"
    },
    "language_info": {
      "name": "python"
    }
  },
  "cells": [
    {
      "cell_type": "markdown",
      "metadata": {
        "id": "view-in-github",
        "colab_type": "text"
      },
      "source": [
        "<a href=\"https://colab.research.google.com/github/apetuhova/innopolis/blob/main/flask_client.ipynb\" target=\"_parent\"><img src=\"https://colab.research.google.com/assets/colab-badge.svg\" alt=\"Open In Colab\"/></a>"
      ]
    },
    {
      "cell_type": "markdown",
      "metadata": {
        "id": "kPSE4jFW3p4P"
      },
      "source": [
        "# Flask приложение. Клиент."
      ]
    },
    {
      "cell_type": "markdown",
      "metadata": {
        "id": "CWi_DBS93uJQ"
      },
      "source": [
        "1. Для тестирования работы модели запустить сервер в ноутбуке flask_server, заменить имя сервера в ячейке 4 этого ноутбука и выполнить команды\n",
        "2. Для тестирования загрузки csv-файла перейти по ссылке [адрес_сервера]/web"
      ]
    },
    {
      "cell_type": "code",
      "metadata": {
        "id": "9zb_Pt41UmzR"
      },
      "source": [
        "import requests\n",
        "import json\n",
        "import numpy as np\n",
        "import seaborn as sns\n",
        "import pandas as pd\n",
        "import matplotlib.pyplot as plt"
      ],
      "execution_count": 71,
      "outputs": []
    },
    {
      "cell_type": "code",
      "metadata": {
        "id": "XjifcejeUzuU"
      },
      "source": [
        "#задаем имя сервера flask\n",
        "server='http://f566-35-231-105-170.ngrok.io'"
      ],
      "execution_count": 72,
      "outputs": []
    },
    {
      "cell_type": "code",
      "metadata": {
        "colab": {
          "base_uri": "https://localhost:8080/"
        },
        "id": "C7moH8s--7Vz",
        "outputId": "afcd168e-3da6-4701-f2d6-50c368e6d651"
      },
      "source": [
        "#убедимся, что сервер работает\n",
        "r = requests.get(server) \n",
        "print(r.status_code)\n",
        "print(r.encoding)\n",
        "print(r.apparent_encoding)\n",
        "print(r.text)"
      ],
      "execution_count": 73,
      "outputs": [
        {
          "output_type": "stream",
          "name": "stdout",
          "text": [
            "200\n",
            "utf-8\n",
            "ascii\n",
            "Hello World!\n"
          ]
        }
      ]
    },
    {
      "cell_type": "code",
      "metadata": {
        "id": "bovjvigF_XVI"
      },
      "source": [
        "# Создадим массив случайных чисел \n",
        "x=np.random.rand(100)\n",
        "# Создадим y как нелинейную функцию от x\n",
        "y=x**2+1/x-np.log(x)*1/2*x**3"
      ],
      "execution_count": 74,
      "outputs": []
    },
    {
      "cell_type": "code",
      "metadata": {
        "colab": {
          "base_uri": "https://localhost:8080/"
        },
        "id": "Brs18YuD5O90",
        "outputId": "33c3c4f0-f5e7-4eff-8e96-f83de8441251"
      },
      "source": [
        "x[:5]"
      ],
      "execution_count": 75,
      "outputs": [
        {
          "output_type": "execute_result",
          "data": {
            "text/plain": [
              "array([0.58512196, 0.28256061, 0.75977963, 0.72535034, 0.21359017])"
            ]
          },
          "metadata": {},
          "execution_count": 75
        }
      ]
    },
    {
      "cell_type": "code",
      "metadata": {
        "colab": {
          "base_uri": "https://localhost:8080/"
        },
        "id": "2_7TXh-l5QHB",
        "outputId": "e3d042c2-1103-4488-ee83-84c57ae9b2a8"
      },
      "source": [
        "y[:5]"
      ],
      "execution_count": 76,
      "outputs": [
        {
          "output_type": "execute_result",
          "data": {
            "text/plain": [
              "array([2.10509421, 3.63316042, 1.95368301, 1.96604819, 4.73500519])"
            ]
          },
          "metadata": {},
          "execution_count": 76
        }
      ]
    },
    {
      "cell_type": "code",
      "metadata": {
        "id": "57Op2-PKUd4t"
      },
      "source": [
        "#обучим модель на сгенерированных данных\n",
        "data_train = {'train_x': x.tolist(), 'train_y' : y.tolist()}\n",
        "train_request = requests.post(server+'/train', json=json.dumps(data_train))"
      ],
      "execution_count": 77,
      "outputs": []
    },
    {
      "cell_type": "code",
      "metadata": {
        "colab": {
          "base_uri": "https://localhost:8080/"
        },
        "id": "Xofs-ycSa2pf",
        "outputId": "c42beec7-2d88-4f1f-95bc-acdf18cb7bf9"
      },
      "source": [
        "#получим коэффициенты полинома\n",
        "poly=train_request.json()\n",
        "poly"
      ],
      "execution_count": 78,
      "outputs": [
        {
          "output_type": "execute_result",
          "data": {
            "text/plain": [
              "{'p': [-540.4903232998428,\n",
              "  968.0180855343907,\n",
              "  -515.1859366176781,\n",
              "  77.91465945868656]}"
            ]
          },
          "metadata": {},
          "execution_count": 78
        }
      ]
    },
    {
      "cell_type": "code",
      "metadata": {
        "id": "Owiks4K_excL",
        "colab": {
          "base_uri": "https://localhost:8080/"
        },
        "outputId": "a80240c2-e250-4b45-baca-f8a7aad537aa"
      },
      "source": [
        "#передадим данные и коэффициенты полученной модели на сервер и получим предсказанные данные\n",
        "data_predict= {**{'x': x.tolist()}, ** poly}\n",
        "predict_request = requests.post(server+'/predict', json=json.dumps(data_predict))\n",
        "yp=predict_request.json()['prediction']\n",
        "yp[:5]"
      ],
      "execution_count": 79,
      "outputs": [
        {
          "output_type": "execute_result",
          "data": {
            "text/plain": [
              "[-0.38854395201373393,\n",
              " -2.5628895989670326,\n",
              " 8.233972764713357,\n",
              " 7.262963517284831,\n",
              " 6.771112701717584]"
            ]
          },
          "metadata": {},
          "execution_count": 79
        }
      ]
    },
    {
      "cell_type": "code",
      "metadata": {
        "id": "sr2O8TO9WUwm",
        "colab": {
          "base_uri": "https://localhost:8080/",
          "height": 312
        },
        "outputId": "476a747a-3580-49dc-9ae9-1403a0a64e14"
      },
      "source": [
        "#построим графики исходных и предсказанных данных\n",
        "ax=sns.lineplot(x=x,y=yp)\n",
        "sns.lineplot(x=x,y=y)\n",
        "ax.legend(labels=['predicted','true'])\n",
        "ax.set_title('Аппроксимация функцией polyfit')\n",
        "ax.set(xlabel=\"x\", ylabel = \"y\")"
      ],
      "execution_count": 80,
      "outputs": [
        {
          "output_type": "execute_result",
          "data": {
            "text/plain": [
              "[Text(0, 0.5, 'y'), Text(0.5, 0, 'x')]"
            ]
          },
          "metadata": {},
          "execution_count": 80
        },
        {
          "output_type": "display_data",
          "data": {
            "image/png": "[encoded data removed]",
            "text/plain": [
              "<Figure size 432x288 with 1 Axes>"
            ]
          },
          "metadata": {
            "needs_background": "light"
          }
        }
      ]
    },
    {
      "cell_type": "code",
      "metadata": {
        "id": "Danp_70Zn4KJ"
      },
      "source": [
        "#data_plot= {**{'x': x.tolist()},**{'y':y.tolist()}, ** {'ypred':yp}}"
      ],
      "execution_count": 81,
      "outputs": []
    }
  ]
}