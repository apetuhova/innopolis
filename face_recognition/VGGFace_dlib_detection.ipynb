{
  "nbformat": 4,
  "nbformat_minor": 0,
  "metadata": {
    "celltoolbar": "Raw Cell Format",
    "kernelspec": {
      "display_name": "Python 3",
      "language": "python",
      "name": "python3"
    },
    "language_info": {
      "codemirror_mode": {
        "name": "ipython",
        "version": 3
      },
      "file_extension": ".py",
      "mimetype": "text/x-python",
      "name": "python",
      "nbconvert_exporter": "python",
      "pygments_lexer": "ipython3",
      "version": "3.7.6"
    },
    "colab": {
      "name": "VGGFace_dlib_detection.ipynb",
      "provenance": [],
      "collapsed_sections": [
        "sTW5zuGuUbSk"
      ]
    },
    "accelerator": "GPU"
  },
  "cells": [
    {
      "cell_type": "markdown",
      "source": [
        "# Dlib CNN face detector"
      ],
      "metadata": {
        "id": "1ONP6LI6zYij"
      }
    },
    {
      "cell_type": "markdown",
      "source": [
        "# Установка библиотек (после установки перезапустить среду)"
      ],
      "metadata": {
        "id": "sTW5zuGuUbSk"
      }
    },
    {
      "cell_type": "code",
      "execution_count": 1,
      "metadata": {
        "id": "qF0i2mrxBTR0",
        "colab": {
          "base_uri": "https://localhost:8080/"
        },
        "outputId": "9ec6ad14-e213-4b00-91f3-097e247c7980"
      },
      "outputs": [
        {
          "output_type": "stream",
          "name": "stdout",
          "text": [
            "Collecting tensorflow==2.0.0\n",
            "  Downloading tensorflow-2.0.0-cp37-cp37m-manylinux2010_x86_64.whl (86.3 MB)\n",
            "\u001b[K     |████████████████████████████████| 86.3 MB 55 kB/s \n",
            "\u001b[?25hRequirement already satisfied: google-pasta>=0.1.6 in /usr/local/lib/python3.7/dist-packages (from tensorflow==2.0.0) (0.2.0)\n",
            "Requirement already satisfied: termcolor>=1.1.0 in /usr/local/lib/python3.7/dist-packages (from tensorflow==2.0.0) (1.1.0)\n",
            "Requirement already satisfied: absl-py>=0.7.0 in /usr/local/lib/python3.7/dist-packages (from tensorflow==2.0.0) (0.12.0)\n",
            "Requirement already satisfied: wheel>=0.26 in /usr/local/lib/python3.7/dist-packages (from tensorflow==2.0.0) (0.37.1)\n",
            "Requirement already satisfied: astor>=0.6.0 in /usr/local/lib/python3.7/dist-packages (from tensorflow==2.0.0) (0.8.1)\n",
            "Collecting tensorboard<2.1.0,>=2.0.0\n",
            "  Downloading tensorboard-2.0.2-py3-none-any.whl (3.8 MB)\n",
            "\u001b[K     |████████████████████████████████| 3.8 MB 73.5 MB/s \n",
            "\u001b[?25hRequirement already satisfied: grpcio>=1.8.6 in /usr/local/lib/python3.7/dist-packages (from tensorflow==2.0.0) (1.43.0)\n",
            "Collecting keras-applications>=1.0.8\n",
            "  Downloading Keras_Applications-1.0.8-py3-none-any.whl (50 kB)\n",
            "\u001b[K     |████████████████████████████████| 50 kB 5.5 MB/s \n",
            "\u001b[?25hCollecting tensorflow-estimator<2.1.0,>=2.0.0\n",
            "  Downloading tensorflow_estimator-2.0.1-py2.py3-none-any.whl (449 kB)\n",
            "\u001b[K     |████████████████████████████████| 449 kB 68.7 MB/s \n",
            "\u001b[?25hRequirement already satisfied: opt-einsum>=2.3.2 in /usr/local/lib/python3.7/dist-packages (from tensorflow==2.0.0) (3.3.0)\n",
            "Requirement already satisfied: keras-preprocessing>=1.0.5 in /usr/local/lib/python3.7/dist-packages (from tensorflow==2.0.0) (1.1.2)\n",
            "Requirement already satisfied: numpy<2.0,>=1.16.0 in /usr/local/lib/python3.7/dist-packages (from tensorflow==2.0.0) (1.19.5)\n",
            "Collecting gast==0.2.2\n",
            "  Downloading gast-0.2.2.tar.gz (10 kB)\n",
            "Requirement already satisfied: wrapt>=1.11.1 in /usr/local/lib/python3.7/dist-packages (from tensorflow==2.0.0) (1.13.3)\n",
            "Requirement already satisfied: protobuf>=3.6.1 in /usr/local/lib/python3.7/dist-packages (from tensorflow==2.0.0) (3.17.3)\n",
            "Requirement already satisfied: six>=1.10.0 in /usr/local/lib/python3.7/dist-packages (from tensorflow==2.0.0) (1.15.0)\n",
            "Requirement already satisfied: h5py in /usr/local/lib/python3.7/dist-packages (from keras-applications>=1.0.8->tensorflow==2.0.0) (3.1.0)\n",
            "Requirement already satisfied: werkzeug>=0.11.15 in /usr/local/lib/python3.7/dist-packages (from tensorboard<2.1.0,>=2.0.0->tensorflow==2.0.0) (1.0.1)\n",
            "Requirement already satisfied: setuptools>=41.0.0 in /usr/local/lib/python3.7/dist-packages (from tensorboard<2.1.0,>=2.0.0->tensorflow==2.0.0) (57.4.0)\n",
            "Requirement already satisfied: requests<3,>=2.21.0 in /usr/local/lib/python3.7/dist-packages (from tensorboard<2.1.0,>=2.0.0->tensorflow==2.0.0) (2.23.0)\n",
            "Requirement already satisfied: google-auth-oauthlib<0.5,>=0.4.1 in /usr/local/lib/python3.7/dist-packages (from tensorboard<2.1.0,>=2.0.0->tensorflow==2.0.0) (0.4.6)\n",
            "Requirement already satisfied: google-auth<2,>=1.6.3 in /usr/local/lib/python3.7/dist-packages (from tensorboard<2.1.0,>=2.0.0->tensorflow==2.0.0) (1.35.0)\n",
            "Requirement already satisfied: markdown>=2.6.8 in /usr/local/lib/python3.7/dist-packages (from tensorboard<2.1.0,>=2.0.0->tensorflow==2.0.0) (3.3.6)\n",
            "Requirement already satisfied: rsa<5,>=3.1.4 in /usr/local/lib/python3.7/dist-packages (from google-auth<2,>=1.6.3->tensorboard<2.1.0,>=2.0.0->tensorflow==2.0.0) (4.8)\n",
            "Requirement already satisfied: cachetools<5.0,>=2.0.0 in /usr/local/lib/python3.7/dist-packages (from google-auth<2,>=1.6.3->tensorboard<2.1.0,>=2.0.0->tensorflow==2.0.0) (4.2.4)\n",
            "Requirement already satisfied: pyasn1-modules>=0.2.1 in /usr/local/lib/python3.7/dist-packages (from google-auth<2,>=1.6.3->tensorboard<2.1.0,>=2.0.0->tensorflow==2.0.0) (0.2.8)\n",
            "Requirement already satisfied: requests-oauthlib>=0.7.0 in /usr/local/lib/python3.7/dist-packages (from google-auth-oauthlib<0.5,>=0.4.1->tensorboard<2.1.0,>=2.0.0->tensorflow==2.0.0) (1.3.0)\n",
            "Requirement already satisfied: importlib-metadata>=4.4 in /usr/local/lib/python3.7/dist-packages (from markdown>=2.6.8->tensorboard<2.1.0,>=2.0.0->tensorflow==2.0.0) (4.10.0)\n",
            "Requirement already satisfied: typing-extensions>=3.6.4 in /usr/local/lib/python3.7/dist-packages (from importlib-metadata>=4.4->markdown>=2.6.8->tensorboard<2.1.0,>=2.0.0->tensorflow==2.0.0) (3.10.0.2)\n",
            "Requirement already satisfied: zipp>=0.5 in /usr/local/lib/python3.7/dist-packages (from importlib-metadata>=4.4->markdown>=2.6.8->tensorboard<2.1.0,>=2.0.0->tensorflow==2.0.0) (3.7.0)\n",
            "Requirement already satisfied: pyasn1<0.5.0,>=0.4.6 in /usr/local/lib/python3.7/dist-packages (from pyasn1-modules>=0.2.1->google-auth<2,>=1.6.3->tensorboard<2.1.0,>=2.0.0->tensorflow==2.0.0) (0.4.8)\n",
            "Requirement already satisfied: chardet<4,>=3.0.2 in /usr/local/lib/python3.7/dist-packages (from requests<3,>=2.21.0->tensorboard<2.1.0,>=2.0.0->tensorflow==2.0.0) (3.0.4)\n",
            "Requirement already satisfied: idna<3,>=2.5 in /usr/local/lib/python3.7/dist-packages (from requests<3,>=2.21.0->tensorboard<2.1.0,>=2.0.0->tensorflow==2.0.0) (2.10)\n",
            "Requirement already satisfied: urllib3!=1.25.0,!=1.25.1,<1.26,>=1.21.1 in /usr/local/lib/python3.7/dist-packages (from requests<3,>=2.21.0->tensorboard<2.1.0,>=2.0.0->tensorflow==2.0.0) (1.24.3)\n",
            "Requirement already satisfied: certifi>=2017.4.17 in /usr/local/lib/python3.7/dist-packages (from requests<3,>=2.21.0->tensorboard<2.1.0,>=2.0.0->tensorflow==2.0.0) (2021.10.8)\n",
            "Requirement already satisfied: oauthlib>=3.0.0 in /usr/local/lib/python3.7/dist-packages (from requests-oauthlib>=0.7.0->google-auth-oauthlib<0.5,>=0.4.1->tensorboard<2.1.0,>=2.0.0->tensorflow==2.0.0) (3.1.1)\n",
            "Requirement already satisfied: cached-property in /usr/local/lib/python3.7/dist-packages (from h5py->keras-applications>=1.0.8->tensorflow==2.0.0) (1.5.2)\n",
            "Building wheels for collected packages: gast\n",
            "  Building wheel for gast (setup.py) ... \u001b[?25l\u001b[?25hdone\n",
            "  Created wheel for gast: filename=gast-0.2.2-py3-none-any.whl size=7554 sha256=b9e6f2527c121b82f05bed71db14cea605cb41f1883d8e3f6176db674907e2f0\n",
            "  Stored in directory: /root/.cache/pip/wheels/21/7f/02/420f32a803f7d0967b48dd823da3f558c5166991bfd204eef3\n",
            "Successfully built gast\n",
            "Installing collected packages: tensorflow-estimator, tensorboard, keras-applications, gast, tensorflow\n",
            "  Attempting uninstall: tensorflow-estimator\n",
            "    Found existing installation: tensorflow-estimator 2.7.0\n",
            "    Uninstalling tensorflow-estimator-2.7.0:\n",
            "      Successfully uninstalled tensorflow-estimator-2.7.0\n",
            "  Attempting uninstall: tensorboard\n",
            "    Found existing installation: tensorboard 2.7.0\n",
            "    Uninstalling tensorboard-2.7.0:\n",
            "      Successfully uninstalled tensorboard-2.7.0\n",
            "  Attempting uninstall: gast\n",
            "    Found existing installation: gast 0.4.0\n",
            "    Uninstalling gast-0.4.0:\n",
            "      Successfully uninstalled gast-0.4.0\n",
            "  Attempting uninstall: tensorflow\n",
            "    Found existing installation: tensorflow 2.7.0\n",
            "    Uninstalling tensorflow-2.7.0:\n",
            "      Successfully uninstalled tensorflow-2.7.0\n",
            "\u001b[31mERROR: pip's dependency resolver does not currently take into account all the packages that are installed. This behaviour is the source of the following dependency conflicts.\n",
            "tensorflow-probability 0.15.0 requires gast>=0.3.2, but you have gast 0.2.2 which is incompatible.\u001b[0m\n",
            "Successfully installed gast-0.2.2 keras-applications-1.0.8 tensorboard-2.0.2 tensorflow-2.0.0 tensorflow-estimator-2.0.1\n"
          ]
        }
      ],
      "source": [
        "! pip install tensorflow==2.0.0"
      ]
    },
    {
      "cell_type": "code",
      "source": [
        "!pip install 'h5py==2.10.0' --force-reinstall"
      ],
      "metadata": {
        "id": "xyL_PG99OMur",
        "colab": {
          "base_uri": "https://localhost:8080/",
          "height": 0
        },
        "outputId": "a6aab73e-7de1-4145-d81f-419cc78bd972"
      },
      "execution_count": 2,
      "outputs": [
        {
          "output_type": "stream",
          "name": "stdout",
          "text": [
            "Collecting h5py==2.10.0\n",
            "  Downloading h5py-2.10.0-cp37-cp37m-manylinux1_x86_64.whl (2.9 MB)\n",
            "\u001b[K     |████████████████████████████████| 2.9 MB 29.5 MB/s \n",
            "\u001b[?25hCollecting numpy>=1.7\n",
            "  Downloading numpy-1.21.5-cp37-cp37m-manylinux_2_12_x86_64.manylinux2010_x86_64.whl (15.7 MB)\n",
            "\u001b[K     |████████████████████████████████| 15.7 MB 56.6 MB/s \n",
            "\u001b[?25hCollecting six\n",
            "  Downloading six-1.16.0-py2.py3-none-any.whl (11 kB)\n",
            "Installing collected packages: six, numpy, h5py\n",
            "  Attempting uninstall: six\n",
            "    Found existing installation: six 1.15.0\n",
            "    Uninstalling six-1.15.0:\n",
            "      Successfully uninstalled six-1.15.0\n",
            "  Attempting uninstall: numpy\n",
            "    Found existing installation: numpy 1.19.5\n",
            "    Uninstalling numpy-1.19.5:\n",
            "      Successfully uninstalled numpy-1.19.5\n",
            "  Attempting uninstall: h5py\n",
            "    Found existing installation: h5py 3.1.0\n",
            "    Uninstalling h5py-3.1.0:\n",
            "      Successfully uninstalled h5py-3.1.0\n",
            "\u001b[31mERROR: pip's dependency resolver does not currently take into account all the packages that are installed. This behaviour is the source of the following dependency conflicts.\n",
            "yellowbrick 1.3.post1 requires numpy<1.20,>=1.16.0, but you have numpy 1.21.5 which is incompatible.\n",
            "tensorflow-probability 0.15.0 requires gast>=0.3.2, but you have gast 0.2.2 which is incompatible.\n",
            "google-colab 1.0.0 requires six~=1.15.0, but you have six 1.16.0 which is incompatible.\n",
            "datascience 0.10.6 requires folium==0.2.1, but you have folium 0.8.3 which is incompatible.\n",
            "albumentations 0.1.12 requires imgaug<0.2.7,>=0.2.5, but you have imgaug 0.2.9 which is incompatible.\u001b[0m\n",
            "Successfully installed h5py-2.10.0 numpy-1.21.5 six-1.16.0\n"
          ]
        },
        {
          "output_type": "display_data",
          "data": {
            "application/vnd.colab-display-data+json": {
              "pip_warning": {
                "packages": [
                  "numpy",
                  "six"
                ]
              }
            }
          },
          "metadata": {}
        }
      ]
    },
    {
      "cell_type": "code",
      "source": [
        "pip install gast==0.2.2"
      ],
      "metadata": {
        "id": "kLRWs_77NHCH",
        "colab": {
          "base_uri": "https://localhost:8080/"
        },
        "outputId": "7c46e019-e66c-47bb-9ad3-1ecea67f55c4"
      },
      "execution_count": 3,
      "outputs": [
        {
          "output_type": "stream",
          "name": "stdout",
          "text": [
            "Requirement already satisfied: gast==0.2.2 in /usr/local/lib/python3.7/dist-packages (0.2.2)\n"
          ]
        }
      ]
    },
    {
      "cell_type": "markdown",
      "source": [
        "# Импорт библиотек"
      ],
      "metadata": {
        "id": "m9LI4sxSUhoS"
      }
    },
    {
      "cell_type": "code",
      "execution_count": 1,
      "metadata": {
        "id": "Rp8xv8XO_JTS"
      },
      "outputs": [],
      "source": [
        "import numpy as np\n",
        "import tensorflow as tf\n",
        "from tensorflow import keras\n",
        "from tensorflow.keras.models import Sequential,Model\n",
        "from tensorflow.keras.layers import ZeroPadding2D,Convolution2D,MaxPooling2D\n",
        "from tensorflow.keras.layers import Dense,Dropout,Softmax,Flatten,Activation,BatchNormalization\n",
        "from tensorflow.keras.preprocessing.image import load_img,img_to_array\n",
        "from tensorflow.keras.applications.imagenet_utils import preprocess_input\n",
        "import tensorflow.keras.backend as K\n",
        "from tensorflow.keras.models import load_model\n",
        "import cv2\n",
        "import matplotlib.pyplot as plt\n",
        "import gdown\n",
        "\n",
        "import dlib\n",
        "from glob import glob\n",
        "import os\n",
        "import pickle\n",
        "\n",
        "from sklearn.model_selection import train_test_split"
      ]
    },
    {
      "cell_type": "code",
      "source": [
        "tf.__version__"
      ],
      "metadata": {
        "colab": {
          "base_uri": "https://localhost:8080/",
          "height": 35
        },
        "id": "rENEMps2WaZu",
        "outputId": "e256312f-e14d-4b32-a611-af35d8fdee7e"
      },
      "execution_count": 2,
      "outputs": [
        {
          "output_type": "execute_result",
          "data": {
            "application/vnd.google.colaboratory.intrinsic+json": {
              "type": "string"
            },
            "text/plain": [
              "'2.0.0'"
            ]
          },
          "metadata": {},
          "execution_count": 2
        }
      ]
    },
    {
      "cell_type": "markdown",
      "source": [
        "# Загрузка подготовленных данных"
      ],
      "metadata": {
        "id": "xlDLEzvFYc6I"
      }
    },
    {
      "cell_type": "code",
      "source": [
        "#models\n",
        "!gdown https://drive.google.com/uc?id=1ZVE8gnLIGZuwnjEL8zHZaWBki3-KHrTO\n",
        "!unzip -q VGGFace_data.zip\n",
        "\n",
        "#lwf images\n",
        "!gdown https://drive.google.com/uc?id=14-HN9wyGIyHl3b3zFw0PIUCalq6FrPWe\n",
        "!unzip -q lfw.zip\n",
        "\n",
        "\n",
        "\n",
        "#lfw crop images\n",
        "#!gdown https://drive.google.com/uc?id=1TamFrm5BIFVVVtSwxQr3_T1BuF_TVA41\n",
        "#!unzip -q lfwcrop.zip "
      ],
      "metadata": {
        "id": "oFl4_QyAhFHi",
        "colab": {
          "base_uri": "https://localhost:8080/"
        },
        "outputId": "0608215b-d4b2-4e7f-9208-fd71f0f95b17"
      },
      "execution_count": 4,
      "outputs": [
        {
          "output_type": "stream",
          "name": "stdout",
          "text": [
            "Downloading...\n",
            "From: https://drive.google.com/uc?id=1ZVE8gnLIGZuwnjEL8zHZaWBki3-KHrTO\n",
            "To: /content/VGGFace_data.zip\n",
            "100% 550M/550M [00:04<00:00, 132MB/s]\n",
            "replace mmod_human_face_detector.dat? [y]es, [n]o, [A]ll, [N]one, [r]ename: n\n",
            "replace classifier/keras_metadata.pb? [y]es, [n]o, [A]ll, [N]one, [r]ename: N\n",
            "Downloading...\n",
            "From: https://drive.google.com/uc?id=14-HN9wyGIyHl3b3zFw0PIUCalq6FrPWe\n",
            "To: /content/lfw.zip\n",
            "100% 22.3M/22.3M [00:00<00:00, 43.3MB/s]\n"
          ]
        }
      ]
    },
    {
      "cell_type": "code",
      "source": [
        "# %cd data\n",
        "# with open('person_all.pickle', 'rb') as f:\n",
        "#   person_all = pickle.load(f)\n",
        "# train_data = np.load('train_data.npy')\n",
        "# train_labels = np.load('train_labels.npy')\n",
        "# test_data = np.load('test_data.npy')\n",
        "# test_labels = np.load('test_labels.npy')\n",
        "# data_all = np.load('data_all.npy')\n",
        "# labels_all = np.load('labels_all.npy')\n",
        "\n",
        "# data_all_13_person = np.load('data_all_13_person.npy')\n",
        "# labels_all_13_person = np.load('labels_all_13_person.npy')\n",
        "# with open('person_13_dict.pickle', 'rb') as f:\n",
        "#   person_13_dict = pickle.load(f)"
      ],
      "metadata": {
        "id": "_8rjamqq1ogk",
        "colab": {
          "base_uri": "https://localhost:8080/"
        },
        "outputId": "a4ed66f2-e6f8-471b-9e23-c15f0d186758"
      },
      "execution_count": null,
      "outputs": [
        {
          "output_type": "stream",
          "name": "stdout",
          "text": [
            "/content/data\n"
          ]
        }
      ]
    },
    {
      "cell_type": "markdown",
      "source": [
        "# Подготовка данных\n"
      ],
      "metadata": {
        "id": "TnIPvDjRlAis"
      }
    },
    {
      "cell_type": "markdown",
      "source": [
        "## детекция лиц"
      ],
      "metadata": {
        "id": "m2KJQwVa0TWG"
      }
    },
    {
      "cell_type": "code",
      "execution_count": 5,
      "metadata": {
        "id": "Vdo0aJNkA_sy"
      },
      "outputs": [],
      "source": [
        "# загружаем детектор\n",
        "dnnFaceDetector=dlib.cnn_face_detection_model_v1(\"mmod_human_face_detector.dat\")"
      ]
    },
    {
      "cell_type": "code",
      "source": [
        ""
      ],
      "metadata": {
        "id": "JSjKPdrHmmbj"
      },
      "execution_count": 7,
      "outputs": []
    },
    {
      "cell_type": "code",
      "execution_count": 34,
      "metadata": {
        "id": "UvnDaqCDIqmL"
      },
      "outputs": [],
      "source": [
        "# # создаем папки для изображений с детектированными лицами\n",
        "os.mkdir('/content/lfwcrop/')\n",
        "for person in glob('/content/lfw/*'):\n",
        "  os.mkdir('/content/lfwcrop/'+person.split('/')[-1]+'/')"
      ]
    },
    {
      "cell_type": "code",
      "source": [
        "# Detect face, crop detected face and save them in corresponding person folder\n",
        "path='/content/lfwcrop/'\n",
        "for file_name in glob('/content/lfw/*/*.jpg'):\n",
        "  try:\n",
        "    img=cv2.imread(file_name)\n",
        "    gray=cv2.cvtColor(img, cv2.COLOR_BGR2GRAY)\n",
        "    rects=dnnFaceDetector(gray,1)\n",
        "    left,top,right,bottom=0,0,0,0\n",
        "    for (i,rect) in enumerate(rects):\n",
        "      left=rect.rect.left() #x1\n",
        "      top=rect.rect.top() #y1\n",
        "      right=rect.rect.right() #x2\n",
        "      bottom=rect.rect.bottom() #y2\n",
        "    width=right-left\n",
        "    height=bottom-top\n",
        "    img_path=path+file_name.split('/')[-2]+'/'+file_name.split('/')[-1]\n",
        "    img_crop=img[top:top+height,left:left+width]\n",
        "    if img_crop.shape[0] != 0 and img_crop.shape[1] != 0:\n",
        "      cv2.imwrite(img_path,img_crop)\n",
        "  except ValueError:  \n",
        "    pass"
      ],
      "metadata": {
        "id": "GK_ttParnJO7"
      },
      "execution_count": 35,
      "outputs": []
    },
    {
      "cell_type": "markdown",
      "source": [
        "## подготовка векторных представлений"
      ],
      "metadata": {
        "id": "954xg1y_0sgm"
      }
    },
    {
      "cell_type": "code",
      "execution_count": 36,
      "metadata": {
        "id": "x4_j4qVk_Pze"
      },
      "outputs": [],
      "source": [
        "#определяем архитектуру модели\n",
        "model = Sequential()\n",
        "model.add(ZeroPadding2D((1,1),input_shape=(224,224, 3)))\n",
        "model.add(Convolution2D(64, (3, 3), activation='relu'))\n",
        "model.add(ZeroPadding2D((1,1)))\n",
        "model.add(Convolution2D(64, (3, 3), activation='relu'))\n",
        "model.add(MaxPooling2D((2,2), strides=(2,2)))\n",
        "model.add(ZeroPadding2D((1,1)))\n",
        "model.add(Convolution2D(128, (3, 3), activation='relu'))\n",
        "model.add(ZeroPadding2D((1,1)))\n",
        "model.add(Convolution2D(128, (3, 3), activation='relu'))\n",
        "model.add(MaxPooling2D((2,2), strides=(2,2)))\n",
        "model.add(ZeroPadding2D((1,1)))\n",
        "model.add(Convolution2D(256, (3, 3), activation='relu'))\n",
        "model.add(ZeroPadding2D((1,1)))\n",
        "model.add(Convolution2D(256, (3, 3), activation='relu'))\n",
        "model.add(ZeroPadding2D((1,1)))\n",
        "model.add(Convolution2D(256, (3, 3), activation='relu'))\n",
        "model.add(MaxPooling2D((2,2), strides=(2,2)))\n",
        "model.add(ZeroPadding2D((1,1)))\n",
        "model.add(Convolution2D(512, (3, 3), activation='relu'))\n",
        "model.add(ZeroPadding2D((1,1)))\n",
        "model.add(Convolution2D(512, (3, 3), activation='relu'))\n",
        "model.add(ZeroPadding2D((1,1)))\n",
        "model.add(Convolution2D(512, (3, 3), activation='relu'))\n",
        "model.add(MaxPooling2D((2,2), strides=(2,2)))\n",
        "model.add(ZeroPadding2D((1,1)))\n",
        "model.add(Convolution2D(512, (3, 3), activation='relu'))\n",
        "model.add(ZeroPadding2D((1,1)))\n",
        "model.add(Convolution2D(512, (3, 3), activation='relu'))\n",
        "model.add(ZeroPadding2D((1,1)))\n",
        "model.add(Convolution2D(512, (3, 3), activation='relu'))\n",
        "model.add(MaxPooling2D((2,2), strides=(2,2)))\n",
        "model.add(Convolution2D(4096, (7, 7), activation='relu'))\n",
        "model.add(Dropout(0.5))\n",
        "model.add(Convolution2D(4096, (1, 1), activation='relu'))\n",
        "model.add(Dropout(0.5))\n",
        "model.add(Convolution2D(2622, (1, 1)))\n",
        "model.add(Flatten())\n",
        "model.add(Activation('softmax'))"
      ]
    },
    {
      "cell_type": "code",
      "execution_count": 37,
      "metadata": {
        "id": "hQV4WAcvANH0"
      },
      "outputs": [],
      "source": [
        "# загружаем веса модели\n",
        "model.load_weights('vgg_face_weights.h5')"
      ]
    },
    {
      "cell_type": "code",
      "execution_count": 39,
      "metadata": {
        "id": "nZ21pD4FDLkT"
      },
      "outputs": [],
      "source": [
        "# заменяем выход модели на предпоследний слой и на выходе получаем вектор из 2622 значений\n",
        "vgg_face=Model(inputs=model.layers[0].input,outputs=model.layers[-2].output)"
      ]
    },
    {
      "cell_type": "code",
      "execution_count": 40,
      "metadata": {
        "id": "6zSqFno_Epfz"
      },
      "outputs": [],
      "source": [
        "#Prepare Training Data\n",
        "data=[]\n",
        "labels=[]\n",
        "names=[]\n",
        "person_folders=os.listdir('/content/lfwcrop')\n",
        "person_rep = {}\n",
        "for i,person in enumerate(person_folders):\n",
        "    person_rep[i]=person\n",
        "    image_names=os.listdir('/content/lfwcrop/'+person+'/')\n",
        "    for image_name in image_names:\n",
        "      img=load_img('/content/lfwcrop/'+person+'/'+image_name,target_size=(224,224))\n",
        "      img=img_to_array(img)\n",
        "      img=np.expand_dims(img,axis=0)\n",
        "      img=preprocess_input(img)\n",
        "      img_encode=vgg_face(img)\n",
        "      data.append(np.squeeze(K.eval(img_encode)).tolist())\n",
        "      labels.append(i)\n",
        "data=np.array(data)\n",
        "labels=np.array(labels)"
      ]
    },
    {
      "cell_type": "code",
      "source": [
        "data.shape"
      ],
      "metadata": {
        "colab": {
          "base_uri": "https://localhost:8080/"
        },
        "id": "D03yoH6BvcyD",
        "outputId": "73cc9bed-572c-41b8-9a7d-ca179c8651f4"
      },
      "execution_count": 44,
      "outputs": [
        {
          "output_type": "execute_result",
          "data": {
            "text/plain": [
              "(1557, 2622)"
            ]
          },
          "metadata": {},
          "execution_count": 44
        }
      ]
    },
    {
      "cell_type": "code",
      "source": [
        "labels.shape"
      ],
      "metadata": {
        "colab": {
          "base_uri": "https://localhost:8080/"
        },
        "id": "o6lOTvtBvfRZ",
        "outputId": "2a2299ec-80c4-4c8e-f518-6ab25888e169"
      },
      "execution_count": 45,
      "outputs": [
        {
          "output_type": "execute_result",
          "data": {
            "text/plain": [
              "(1557,)"
            ]
          },
          "metadata": {},
          "execution_count": 45
        }
      ]
    },
    {
      "cell_type": "code",
      "source": [
        "person_rep"
      ],
      "metadata": {
        "colab": {
          "base_uri": "https://localhost:8080/"
        },
        "id": "bPAQgcSrvmUH",
        "outputId": "1673a655-6252-4efc-db52-1a6ebe9d3247"
      },
      "execution_count": 47,
      "outputs": [
        {
          "output_type": "execute_result",
          "data": {
            "text/plain": [
              "{0: 'Junichiro_Koizumi',\n",
              " 1: 'Jacques_Chirac',\n",
              " 2: 'Tony_Blair',\n",
              " 3: 'Serena_Williams',\n",
              " 4: 'Hugo_Chavez',\n",
              " 5: 'Jean_Chretien',\n",
              " 6: 'Donald_Rumsfeld',\n",
              " 7: 'John_Ashcroft',\n",
              " 8: 'Colin_Powell',\n",
              " 9: 'George_W_Bush',\n",
              " 10: 'Vladimir_Putin',\n",
              " 11: 'Ariel_Sharon',\n",
              " 12: 'Gerhard_Schroeder'}"
            ]
          },
          "metadata": {},
          "execution_count": 47
        }
      ]
    },
    {
      "cell_type": "markdown",
      "source": [
        "# создание и обучение классификатора на отобранных данных"
      ],
      "metadata": {
        "id": "Uo1sW4xwE8h0"
      }
    },
    {
      "cell_type": "code",
      "source": [
        "X_train, X_test, y_train, y_test = train_test_split(data, labels, test_size=0.2)"
      ],
      "metadata": {
        "id": "DxgXCBdMFbrD"
      },
      "execution_count": 46,
      "outputs": []
    },
    {
      "cell_type": "code",
      "execution_count": 77,
      "metadata": {
        "id": "lZHojkSgFwse"
      },
      "outputs": [],
      "source": [
        "# Softmax regressor to classify images based on encoding \n",
        "classifier_model=Sequential()\n",
        "classifier_model.add(Dense(units=100,input_dim=X_train.shape[1],kernel_initializer='glorot_uniform'))\n",
        "classifier_model.add(BatchNormalization())\n",
        "classifier_model.add(Activation('tanh'))\n",
        "classifier_model.add(Dropout(0.3))\n",
        "classifier_model.add(Dense(units=10,kernel_initializer='glorot_uniform'))\n",
        "classifier_model.add(BatchNormalization())\n",
        "classifier_model.add(Activation('tanh'))\n",
        "classifier_model.add(Dropout(0.2))\n",
        "classifier_model.add(Dense(units=len(person_rep),kernel_initializer='he_uniform'))\n",
        "classifier_model.add(Activation('softmax'))\n",
        "classifier_model.compile(loss=tf.keras.losses.SparseCategoricalCrossentropy(),optimizer='nadam',metrics=['accuracy'])"
      ]
    },
    {
      "cell_type": "code",
      "execution_count": 78,
      "metadata": {
        "id": "aq9Xj9GXFwsg",
        "colab": {
          "base_uri": "https://localhost:8080/"
        },
        "outputId": "fff4e933-4814-49c3-bb9b-0a41a5334495"
      },
      "outputs": [
        {
          "output_type": "stream",
          "name": "stdout",
          "text": [
            "Train on 1120 samples, validate on 125 samples\n",
            "Epoch 1/60\n",
            "1120/1120 [==============================] - 2s 1ms/sample - loss: 1.4486 - accuracy: 0.6295 - val_loss: 1.1136 - val_accuracy: 0.7280\n",
            "Epoch 2/60\n",
            "1120/1120 [==============================] - 0s 202us/sample - loss: 1.0173 - accuracy: 0.8196 - val_loss: 0.8557 - val_accuracy: 0.8400\n",
            "Epoch 3/60\n",
            "1120/1120 [==============================] - 0s 187us/sample - loss: 0.8902 - accuracy: 0.8616 - val_loss: 0.8715 - val_accuracy: 0.8800\n",
            "Epoch 4/60\n",
            "1120/1120 [==============================] - 0s 197us/sample - loss: 0.7908 - accuracy: 0.8911 - val_loss: 0.7150 - val_accuracy: 0.8960\n",
            "Epoch 5/60\n",
            "1120/1120 [==============================] - 0s 195us/sample - loss: 0.7070 - accuracy: 0.9089 - val_loss: 0.7243 - val_accuracy: 0.8560\n",
            "Epoch 6/60\n",
            "1120/1120 [==============================] - 0s 189us/sample - loss: 0.6438 - accuracy: 0.9098 - val_loss: 0.7086 - val_accuracy: 0.9040\n",
            "Epoch 7/60\n",
            "1120/1120 [==============================] - 0s 198us/sample - loss: 0.5990 - accuracy: 0.9161 - val_loss: 0.6015 - val_accuracy: 0.9040\n",
            "Epoch 8/60\n",
            "1120/1120 [==============================] - 0s 181us/sample - loss: 0.5536 - accuracy: 0.9286 - val_loss: 0.5329 - val_accuracy: 0.9040\n",
            "Epoch 9/60\n",
            "1120/1120 [==============================] - 0s 192us/sample - loss: 0.5030 - accuracy: 0.9330 - val_loss: 0.5416 - val_accuracy: 0.9280\n",
            "Epoch 10/60\n",
            "1120/1120 [==============================] - 0s 187us/sample - loss: 0.4764 - accuracy: 0.9384 - val_loss: 0.4761 - val_accuracy: 0.9280\n",
            "Epoch 11/60\n",
            "1120/1120 [==============================] - 0s 188us/sample - loss: 0.4322 - accuracy: 0.9482 - val_loss: 0.5403 - val_accuracy: 0.9200\n",
            "Epoch 12/60\n",
            "1120/1120 [==============================] - 0s 200us/sample - loss: 0.4150 - accuracy: 0.9482 - val_loss: 0.5734 - val_accuracy: 0.8720\n",
            "Epoch 13/60\n",
            "1120/1120 [==============================] - 0s 196us/sample - loss: 0.3905 - accuracy: 0.9518 - val_loss: 0.5328 - val_accuracy: 0.8880\n",
            "Epoch 14/60\n",
            "1120/1120 [==============================] - 0s 196us/sample - loss: 0.3699 - accuracy: 0.9607 - val_loss: 0.3977 - val_accuracy: 0.9280\n",
            "Epoch 15/60\n",
            "1120/1120 [==============================] - 0s 186us/sample - loss: 0.3343 - accuracy: 0.9518 - val_loss: 0.4106 - val_accuracy: 0.9120\n",
            "Epoch 16/60\n",
            "1120/1120 [==============================] - 0s 184us/sample - loss: 0.3123 - accuracy: 0.9598 - val_loss: 0.4599 - val_accuracy: 0.9280\n",
            "Epoch 17/60\n",
            "1120/1120 [==============================] - 0s 191us/sample - loss: 0.2991 - accuracy: 0.9652 - val_loss: 0.3911 - val_accuracy: 0.9120\n",
            "Epoch 18/60\n",
            "1120/1120 [==============================] - 0s 193us/sample - loss: 0.3221 - accuracy: 0.9518 - val_loss: 0.4480 - val_accuracy: 0.9040\n",
            "Epoch 19/60\n",
            "1120/1120 [==============================] - 0s 182us/sample - loss: 0.2759 - accuracy: 0.9643 - val_loss: 0.3563 - val_accuracy: 0.9360\n",
            "Epoch 20/60\n",
            "1120/1120 [==============================] - 0s 188us/sample - loss: 0.2617 - accuracy: 0.9661 - val_loss: 0.3616 - val_accuracy: 0.9280\n",
            "Epoch 21/60\n",
            "1120/1120 [==============================] - 0s 194us/sample - loss: 0.2475 - accuracy: 0.9625 - val_loss: 0.3864 - val_accuracy: 0.9200\n",
            "Epoch 22/60\n",
            "1120/1120 [==============================] - 0s 189us/sample - loss: 0.2496 - accuracy: 0.9652 - val_loss: 0.3713 - val_accuracy: 0.9280\n",
            "Epoch 23/60\n",
            "1120/1120 [==============================] - 0s 189us/sample - loss: 0.2486 - accuracy: 0.9634 - val_loss: 0.4191 - val_accuracy: 0.9120\n",
            "Epoch 24/60\n",
            "1120/1120 [==============================] - 0s 202us/sample - loss: 0.2316 - accuracy: 0.9705 - val_loss: 0.3242 - val_accuracy: 0.9280\n",
            "Epoch 25/60\n",
            "1120/1120 [==============================] - 0s 192us/sample - loss: 0.2327 - accuracy: 0.9598 - val_loss: 0.3696 - val_accuracy: 0.9120\n",
            "Epoch 26/60\n",
            "1120/1120 [==============================] - 0s 190us/sample - loss: 0.2296 - accuracy: 0.9670 - val_loss: 0.3833 - val_accuracy: 0.9120\n",
            "Epoch 27/60\n",
            "1120/1120 [==============================] - 0s 191us/sample - loss: 0.2009 - accuracy: 0.9741 - val_loss: 0.3416 - val_accuracy: 0.9360\n",
            "Epoch 28/60\n",
            "1120/1120 [==============================] - 0s 185us/sample - loss: 0.1819 - accuracy: 0.9723 - val_loss: 0.3746 - val_accuracy: 0.9280\n",
            "Epoch 29/60\n",
            "1120/1120 [==============================] - 0s 190us/sample - loss: 0.2036 - accuracy: 0.9670 - val_loss: 0.3139 - val_accuracy: 0.9280\n",
            "Epoch 30/60\n",
            "1120/1120 [==============================] - 0s 190us/sample - loss: 0.1860 - accuracy: 0.9714 - val_loss: 0.3285 - val_accuracy: 0.9360\n",
            "Epoch 31/60\n",
            "1120/1120 [==============================] - 0s 188us/sample - loss: 0.1778 - accuracy: 0.9750 - val_loss: 0.3141 - val_accuracy: 0.9200\n",
            "Epoch 32/60\n",
            "1120/1120 [==============================] - 0s 196us/sample - loss: 0.1739 - accuracy: 0.9759 - val_loss: 0.3108 - val_accuracy: 0.9440\n",
            "Epoch 33/60\n",
            "1120/1120 [==============================] - 0s 195us/sample - loss: 0.1573 - accuracy: 0.9795 - val_loss: 0.4139 - val_accuracy: 0.9040\n",
            "Epoch 34/60\n",
            "1120/1120 [==============================] - 0s 188us/sample - loss: 0.1626 - accuracy: 0.9750 - val_loss: 0.4376 - val_accuracy: 0.8880\n",
            "Epoch 35/60\n",
            "1120/1120 [==============================] - 0s 193us/sample - loss: 0.1563 - accuracy: 0.9741 - val_loss: 0.3638 - val_accuracy: 0.9120\n",
            "Epoch 36/60\n",
            "1120/1120 [==============================] - 0s 194us/sample - loss: 0.1571 - accuracy: 0.9741 - val_loss: 0.3221 - val_accuracy: 0.9200\n",
            "Epoch 37/60\n",
            "1120/1120 [==============================] - 0s 188us/sample - loss: 0.1376 - accuracy: 0.9839 - val_loss: 0.3508 - val_accuracy: 0.9280\n",
            "Epoch 38/60\n",
            "1120/1120 [==============================] - 0s 188us/sample - loss: 0.1226 - accuracy: 0.9893 - val_loss: 0.3155 - val_accuracy: 0.9360\n",
            "Epoch 39/60\n",
            "1120/1120 [==============================] - 0s 193us/sample - loss: 0.1291 - accuracy: 0.9821 - val_loss: 0.3364 - val_accuracy: 0.9280\n",
            "Epoch 40/60\n",
            "1120/1120 [==============================] - 0s 195us/sample - loss: 0.1349 - accuracy: 0.9786 - val_loss: 0.4305 - val_accuracy: 0.8880\n",
            "Epoch 41/60\n",
            "1120/1120 [==============================] - 0s 211us/sample - loss: 0.1443 - accuracy: 0.9777 - val_loss: 0.3614 - val_accuracy: 0.9200\n",
            "Epoch 42/60\n",
            "1120/1120 [==============================] - 0s 193us/sample - loss: 0.1286 - accuracy: 0.9821 - val_loss: 0.3189 - val_accuracy: 0.9520\n",
            "Epoch 43/60\n",
            "1120/1120 [==============================] - 0s 195us/sample - loss: 0.1318 - accuracy: 0.9804 - val_loss: 0.3743 - val_accuracy: 0.9040\n",
            "Epoch 44/60\n",
            "1120/1120 [==============================] - 0s 193us/sample - loss: 0.1345 - accuracy: 0.9732 - val_loss: 0.3636 - val_accuracy: 0.9200\n",
            "Epoch 45/60\n",
            "1120/1120 [==============================] - 0s 193us/sample - loss: 0.1284 - accuracy: 0.9696 - val_loss: 0.3276 - val_accuracy: 0.9120\n",
            "Epoch 46/60\n",
            "1120/1120 [==============================] - 0s 192us/sample - loss: 0.1266 - accuracy: 0.9759 - val_loss: 0.3423 - val_accuracy: 0.9040\n",
            "Epoch 47/60\n",
            "1120/1120 [==============================] - 0s 186us/sample - loss: 0.1029 - accuracy: 0.9848 - val_loss: 0.2947 - val_accuracy: 0.9280\n",
            "Epoch 48/60\n",
            "1120/1120 [==============================] - 0s 197us/sample - loss: 0.1157 - accuracy: 0.9830 - val_loss: 0.3227 - val_accuracy: 0.9360\n",
            "Epoch 49/60\n",
            "1120/1120 [==============================] - 0s 187us/sample - loss: 0.1112 - accuracy: 0.9795 - val_loss: 0.3409 - val_accuracy: 0.9200\n",
            "Epoch 50/60\n",
            "1120/1120 [==============================] - 0s 194us/sample - loss: 0.1208 - accuracy: 0.9857 - val_loss: 0.4250 - val_accuracy: 0.8960\n",
            "Epoch 51/60\n",
            "1120/1120 [==============================] - 0s 197us/sample - loss: 0.1120 - accuracy: 0.9804 - val_loss: 0.3064 - val_accuracy: 0.9280\n",
            "Epoch 52/60\n",
            "1120/1120 [==============================] - 0s 191us/sample - loss: 0.1135 - accuracy: 0.9750 - val_loss: 0.3188 - val_accuracy: 0.9280\n",
            "Epoch 53/60\n",
            "1120/1120 [==============================] - 0s 191us/sample - loss: 0.1053 - accuracy: 0.9839 - val_loss: 0.2916 - val_accuracy: 0.9440\n",
            "Epoch 54/60\n",
            "1120/1120 [==============================] - 0s 197us/sample - loss: 0.0829 - accuracy: 0.9875 - val_loss: 0.3160 - val_accuracy: 0.9280\n",
            "Epoch 55/60\n",
            "1120/1120 [==============================] - 0s 203us/sample - loss: 0.1061 - accuracy: 0.9804 - val_loss: 0.3538 - val_accuracy: 0.9280\n",
            "Epoch 56/60\n",
            "1120/1120 [==============================] - 0s 191us/sample - loss: 0.1014 - accuracy: 0.9866 - val_loss: 0.2742 - val_accuracy: 0.9360\n",
            "Epoch 57/60\n",
            "1120/1120 [==============================] - 0s 194us/sample - loss: 0.0972 - accuracy: 0.9812 - val_loss: 0.3032 - val_accuracy: 0.9280\n",
            "Epoch 58/60\n",
            "1120/1120 [==============================] - 0s 194us/sample - loss: 0.0905 - accuracy: 0.9821 - val_loss: 0.3220 - val_accuracy: 0.9200\n",
            "Epoch 59/60\n",
            "1120/1120 [==============================] - 0s 205us/sample - loss: 0.0956 - accuracy: 0.9786 - val_loss: 0.3864 - val_accuracy: 0.8960\n",
            "Epoch 60/60\n",
            "1120/1120 [==============================] - 0s 193us/sample - loss: 0.0961 - accuracy: 0.9821 - val_loss: 0.3764 - val_accuracy: 0.9280\n"
          ]
        }
      ],
      "source": [
        "history = classifier_model.fit(X_train,y_train,epochs=60, validation_split=0.1)"
      ]
    },
    {
      "cell_type": "code",
      "source": [
        "plt.plot(history.history['accuracy'])\n",
        "plt.plot(history.history['val_accuracy'])\n",
        "plt.title('Точность классификатора')\n",
        "plt.legend(['accuracy','validation accuracy']);"
      ],
      "metadata": {
        "id": "fgNt9Qg2ISUc",
        "colab": {
          "base_uri": "https://localhost:8080/",
          "height": 281
        },
        "outputId": "9a3449e8-f913-4237-fbb5-2f3740827f80"
      },
      "execution_count": 79,
      "outputs": [
        {
          "output_type": "display_data",
          "data": {
            "image/png": "[encoded data removed]",
            "text/plain": [
              "<Figure size 432x288 with 1 Axes>"
            ]
          },
          "metadata": {
            "needs_background": "light"
          }
        }
      ]
    },
    {
      "cell_type": "code",
      "source": [
        "classifier_model.evaluate(X_test,y_test)"
      ],
      "metadata": {
        "id": "wDxKHg_oJTaE",
        "colab": {
          "base_uri": "https://localhost:8080/"
        },
        "outputId": "c4478e0e-9167-4878-f437-25099ee33f33"
      },
      "execution_count": 80,
      "outputs": [
        {
          "output_type": "stream",
          "name": "stdout",
          "text": [
            "\r312/1 [================================================================================================================================================================================================================================================================================================================================================================================================================================================================================================================================================================================================================================================================================================================================================================================================================================================================================================================================================================================================================================================================================================================================================================================================================================================================================================================================================================================================================================================================================================================================================================================================================================================================================================================================================================================================================================================================================================================================================================================================================================================================================================================================================================================================================================================================================================================================================================================================================================================================================================================================================================================================================================================================================================================================================================================================================================================================================================================================================================================================================================================================================================================================================================================================================================================================================================================================================================================================================================================================================================================================================================================================================================================================================================================================================================================================================================================================================================================================================================================================================================================================================================================================================================================================================================================================================================================================================================================================================================================================================================================================================================================================================================================================================================================================================================================================================================================================================================================================================================================================================================================================================================================================================================================================================================================================================================================================================================================================================================================================================================================================================================================================================================================================================================================================================================================================================================================================================================================================================================================================================================================================================================================================================================================================================================================================================================================================================================================================================================================================================================================================================================================================================================================================================================================================================================================================================================================================================================================================================================================================================================================================================================================================================================================================================================================================================================================================================================================================================================================================================================================================================================================================================================================================================================================================================================================================================================================================================================================================================================================================================================================================================================================================================================================================================================================================================================================================================================================================================================================================================================================================================================================================================================================================================================================================================================================================================================================================================================================================================================================================================================================================================================================================================================================================================================================================================================================================================================================================================================================================================================================================================================================================================================================================================================================================================] - 0s 69us/sample - loss: 0.2334 - accuracy: 0.9167\n"
          ]
        },
        {
          "output_type": "execute_result",
          "data": {
            "text/plain": [
              "[0.34708351603685283, 0.9166667]"
            ]
          },
          "metadata": {},
          "execution_count": 80
        }
      ]
    },
    {
      "cell_type": "markdown",
      "source": [
        "# предсказание"
      ],
      "metadata": {
        "id": "DQf-YzhdOxe-"
      }
    },
    {
      "cell_type": "code",
      "source": [
        "dnnFaceDetector=dlib.cnn_face_detection_model_v1('/content/mmod_human_face_detector.dat')"
      ],
      "metadata": {
        "id": "8SXtU_ROP4Ew"
      },
      "execution_count": 81,
      "outputs": []
    },
    {
      "cell_type": "code",
      "source": [
        "def detect_crop(img_path):\n",
        "    try:\n",
        "      img=cv2.imread(img_path)\n",
        "      gray=cv2.cvtColor(img, cv2.COLOR_BGR2GRAY)\n",
        "      rects=dnnFaceDetector(gray,1)\n",
        "      left,top,right,bottom=0,0,0,0\n",
        "      for (i,rect) in enumerate(rects):\n",
        "        left=rect.rect.left() #x1\n",
        "        top=rect.rect.top() #y1\n",
        "        right=rect.rect.right() #x2\n",
        "        bottom=rect.rect.bottom() #y2\n",
        "      width=right-left\n",
        "      height=bottom-top\n",
        "      img_crop=img[top:top+height,left:left+width]      \n",
        "    except ValueError:  \n",
        "      pass\n",
        "    plt.imshow(img[:,:,[2,1,0]])\n",
        "    plt.imshow(img_crop[:,:,[2,1,0]])\n",
        "    return img_crop"
      ],
      "metadata": {
        "id": "J2xxRqAtQ9mD"
      },
      "execution_count": 82,
      "outputs": []
    },
    {
      "cell_type": "code",
      "execution_count": 83,
      "metadata": {
        "id": "-hBDdrSqR_vO"
      },
      "outputs": [],
      "source": [
        "def vggmodel(path_to_weights):\n",
        "  model = Sequential()\n",
        "  model.add(ZeroPadding2D((1,1),input_shape=(224,224, 3)))\n",
        "  model.add(Convolution2D(64, (3, 3), activation='relu'))\n",
        "  model.add(ZeroPadding2D((1,1)))\n",
        "  model.add(Convolution2D(64, (3, 3), activation='relu'))\n",
        "  model.add(MaxPooling2D((2,2), strides=(2,2)))\n",
        "  model.add(ZeroPadding2D((1,1)))\n",
        "  model.add(Convolution2D(128, (3, 3), activation='relu'))\n",
        "  model.add(ZeroPadding2D((1,1)))\n",
        "  model.add(Convolution2D(128, (3, 3), activation='relu'))\n",
        "  model.add(MaxPooling2D((2,2), strides=(2,2)))\n",
        "  model.add(ZeroPadding2D((1,1)))\n",
        "  model.add(Convolution2D(256, (3, 3), activation='relu'))\n",
        "  model.add(ZeroPadding2D((1,1)))\n",
        "  model.add(Convolution2D(256, (3, 3), activation='relu'))\n",
        "  model.add(ZeroPadding2D((1,1)))\n",
        "  model.add(Convolution2D(256, (3, 3), activation='relu'))\n",
        "  model.add(MaxPooling2D((2,2), strides=(2,2)))\n",
        "  model.add(ZeroPadding2D((1,1)))\n",
        "  model.add(Convolution2D(512, (3, 3), activation='relu'))\n",
        "  model.add(ZeroPadding2D((1,1)))\n",
        "  model.add(Convolution2D(512, (3, 3), activation='relu'))\n",
        "  model.add(ZeroPadding2D((1,1)))\n",
        "  model.add(Convolution2D(512, (3, 3), activation='relu'))\n",
        "  model.add(MaxPooling2D((2,2), strides=(2,2)))\n",
        "  model.add(ZeroPadding2D((1,1)))\n",
        "  model.add(Convolution2D(512, (3, 3), activation='relu'))\n",
        "  model.add(ZeroPadding2D((1,1)))\n",
        "  model.add(Convolution2D(512, (3, 3), activation='relu'))\n",
        "  model.add(ZeroPadding2D((1,1)))\n",
        "  model.add(Convolution2D(512, (3, 3), activation='relu'))\n",
        "  model.add(MaxPooling2D((2,2), strides=(2,2)))\n",
        "  model.add(Convolution2D(4096, (7, 7), activation='relu'))\n",
        "  model.add(Dropout(0.5))\n",
        "  model.add(Convolution2D(4096, (1, 1), activation='relu'))\n",
        "  model.add(Dropout(0.5))\n",
        "  model.add(Convolution2D(2622, (1, 1)))\n",
        "  model.add(Flatten())\n",
        "  model.add(Activation('softmax'))\n",
        "\n",
        "  model.load_weights(path_to_weights)\n",
        "  \n",
        "  # Remove Last Softmax layer and get model upto last flatten layer with outputs 2622 units\n",
        "  vgg_face=Model(inputs=model.layers[0].input,outputs=model.layers[-2].output)\n",
        "\n",
        "  return vgg_face"
      ]
    },
    {
      "cell_type": "code",
      "source": [
        "def get_embedding(img_crop):\n",
        "  #img=load_img(img_crop,target_size=(224,224))\n",
        "  img = cv2.resize(img_crop, dsize=(224,224))\n",
        "  img=img_to_array(img)\n",
        "  img=np.expand_dims(img,axis=0)\n",
        "  img=preprocess_input(img)\n",
        "  img_encode=vgg_face(img)\n",
        "  return np.squeeze(K.eval(img_encode)).reshape(1,-1)"
      ],
      "metadata": {
        "id": "q94KYSrVR_vR"
      },
      "execution_count": 84,
      "outputs": []
    },
    {
      "cell_type": "code",
      "execution_count": 85,
      "metadata": {
        "colab": {
          "base_uri": "https://localhost:8080/"
        },
        "id": "yZfAdUBNR_vQ",
        "outputId": "2910df70-dfc6-4b48-f982-17335b70fe49"
      },
      "outputs": [
        {
          "output_type": "stream",
          "name": "stdout",
          "text": [
            "Model: \"model_5\"\n",
            "_________________________________________________________________\n",
            "Layer (type)                 Output Shape              Param #   \n",
            "=================================================================\n",
            "zero_padding2d_65_input (Inp [(None, 224, 224, 3)]     0         \n",
            "_________________________________________________________________\n",
            "zero_padding2d_65 (ZeroPaddi (None, 226, 226, 3)       0         \n",
            "_________________________________________________________________\n",
            "conv2d_80 (Conv2D)           (None, 224, 224, 64)      1792      \n",
            "_________________________________________________________________\n",
            "zero_padding2d_66 (ZeroPaddi (None, 226, 226, 64)      0         \n",
            "_________________________________________________________________\n",
            "conv2d_81 (Conv2D)           (None, 224, 224, 64)      36928     \n",
            "_________________________________________________________________\n",
            "max_pooling2d_25 (MaxPooling (None, 112, 112, 64)      0         \n",
            "_________________________________________________________________\n",
            "zero_padding2d_67 (ZeroPaddi (None, 114, 114, 64)      0         \n",
            "_________________________________________________________________\n",
            "conv2d_82 (Conv2D)           (None, 112, 112, 128)     73856     \n",
            "_________________________________________________________________\n",
            "zero_padding2d_68 (ZeroPaddi (None, 114, 114, 128)     0         \n",
            "_________________________________________________________________\n",
            "conv2d_83 (Conv2D)           (None, 112, 112, 128)     147584    \n",
            "_________________________________________________________________\n",
            "max_pooling2d_26 (MaxPooling (None, 56, 56, 128)       0         \n",
            "_________________________________________________________________\n",
            "zero_padding2d_69 (ZeroPaddi (None, 58, 58, 128)       0         \n",
            "_________________________________________________________________\n",
            "conv2d_84 (Conv2D)           (None, 56, 56, 256)       295168    \n",
            "_________________________________________________________________\n",
            "zero_padding2d_70 (ZeroPaddi (None, 58, 58, 256)       0         \n",
            "_________________________________________________________________\n",
            "conv2d_85 (Conv2D)           (None, 56, 56, 256)       590080    \n",
            "_________________________________________________________________\n",
            "zero_padding2d_71 (ZeroPaddi (None, 58, 58, 256)       0         \n",
            "_________________________________________________________________\n",
            "conv2d_86 (Conv2D)           (None, 56, 56, 256)       590080    \n",
            "_________________________________________________________________\n",
            "max_pooling2d_27 (MaxPooling (None, 28, 28, 256)       0         \n",
            "_________________________________________________________________\n",
            "zero_padding2d_72 (ZeroPaddi (None, 30, 30, 256)       0         \n",
            "_________________________________________________________________\n",
            "conv2d_87 (Conv2D)           (None, 28, 28, 512)       1180160   \n",
            "_________________________________________________________________\n",
            "zero_padding2d_73 (ZeroPaddi (None, 30, 30, 512)       0         \n",
            "_________________________________________________________________\n",
            "conv2d_88 (Conv2D)           (None, 28, 28, 512)       2359808   \n",
            "_________________________________________________________________\n",
            "zero_padding2d_74 (ZeroPaddi (None, 30, 30, 512)       0         \n",
            "_________________________________________________________________\n",
            "conv2d_89 (Conv2D)           (None, 28, 28, 512)       2359808   \n",
            "_________________________________________________________________\n",
            "max_pooling2d_28 (MaxPooling (None, 14, 14, 512)       0         \n",
            "_________________________________________________________________\n",
            "zero_padding2d_75 (ZeroPaddi (None, 16, 16, 512)       0         \n",
            "_________________________________________________________________\n",
            "conv2d_90 (Conv2D)           (None, 14, 14, 512)       2359808   \n",
            "_________________________________________________________________\n",
            "zero_padding2d_76 (ZeroPaddi (None, 16, 16, 512)       0         \n",
            "_________________________________________________________________\n",
            "conv2d_91 (Conv2D)           (None, 14, 14, 512)       2359808   \n",
            "_________________________________________________________________\n",
            "zero_padding2d_77 (ZeroPaddi (None, 16, 16, 512)       0         \n",
            "_________________________________________________________________\n",
            "conv2d_92 (Conv2D)           (None, 14, 14, 512)       2359808   \n",
            "_________________________________________________________________\n",
            "max_pooling2d_29 (MaxPooling (None, 7, 7, 512)         0         \n",
            "_________________________________________________________________\n",
            "conv2d_93 (Conv2D)           (None, 1, 1, 4096)        102764544 \n",
            "_________________________________________________________________\n",
            "dropout_18 (Dropout)         (None, 1, 1, 4096)        0         \n",
            "_________________________________________________________________\n",
            "conv2d_94 (Conv2D)           (None, 1, 1, 4096)        16781312  \n",
            "_________________________________________________________________\n",
            "dropout_19 (Dropout)         (None, 1, 1, 4096)        0         \n",
            "_________________________________________________________________\n",
            "conv2d_95 (Conv2D)           (None, 1, 1, 2622)        10742334  \n",
            "_________________________________________________________________\n",
            "flatten_5 (Flatten)          (None, 2622)              0         \n",
            "=================================================================\n",
            "Total params: 145,002,878\n",
            "Trainable params: 145,002,878\n",
            "Non-trainable params: 0\n",
            "_________________________________________________________________\n"
          ]
        }
      ],
      "source": [
        "vgg_face = vggmodel('/content/vgg_face_weights.h5')\n",
        "vgg_face.summary()"
      ]
    },
    {
      "cell_type": "code",
      "source": [
        "!wget -O putin1.jpg https://upload.wikimedia.org/wikipedia/commons/thumb/6/6f/RIAN_archive_100306_Vladimir_Putin%2C_Federal_Security_Service_Director.jpg/220px-RIAN_archive_100306_Vladimir_Putin%2C_Federal_Security_Service_Director.jpg "
      ],
      "metadata": {
        "colab": {
          "base_uri": "https://localhost:8080/"
        },
        "id": "vLlaMyNXYEEk",
        "outputId": "784d2cef-d472-4d7f-ee9a-45474b421898"
      },
      "execution_count": 86,
      "outputs": [
        {
          "output_type": "stream",
          "name": "stdout",
          "text": [
            "--2022-01-14 13:22:32--  https://upload.wikimedia.org/wikipedia/commons/thumb/6/6f/RIAN_archive_100306_Vladimir_Putin%2C_Federal_Security_Service_Director.jpg/220px-RIAN_archive_100306_Vladimir_Putin%2C_Federal_Security_Service_Director.jpg\n",
            "Resolving upload.wikimedia.org (upload.wikimedia.org)... 208.80.154.240, 2620:0:861:ed1a::2:b\n",
            "Connecting to upload.wikimedia.org (upload.wikimedia.org)|208.80.154.240|:443... connected.\n",
            "HTTP request sent, awaiting response... 200 OK\n",
            "Length: 20873 (20K) [image/jpeg]\n",
            "Saving to: ‘putin1.jpg’\n",
            "\n",
            "\rputin1.jpg            0%[                    ]       0  --.-KB/s               \rputin1.jpg          100%[===================>]  20.38K  --.-KB/s    in 0.001s  \n",
            "\n",
            "2022-01-14 13:22:32 (22.3 MB/s) - ‘putin1.jpg’ saved [20873/20873]\n",
            "\n"
          ]
        }
      ]
    },
    {
      "cell_type": "code",
      "source": [
        "!wget -O putin2.jpg https://encrypted-tbn0.gstatic.com/images?q=tbn:ANd9GcT8z9V6cPmhzkl1pCp546wnK6XCOx71uCAJ3A&usqp=CAU "
      ],
      "metadata": {
        "colab": {
          "base_uri": "https://localhost:8080/"
        },
        "id": "dM_1v6BfYNDs",
        "outputId": "adc8762c-348a-4df5-900b-8df17ed6a996"
      },
      "execution_count": 87,
      "outputs": [
        {
          "output_type": "stream",
          "name": "stdout",
          "text": [
            "--2022-01-14 13:22:33--  https://encrypted-tbn0.gstatic.com/images?q=tbn:ANd9GcT8z9V6cPmhzkl1pCp546wnK6XCOx71uCAJ3A\n",
            "Resolving encrypted-tbn0.gstatic.com (encrypted-tbn0.gstatic.com)... 142.250.81.206, 2607:f8b0:4004:82f::200e\n",
            "Connecting to encrypted-tbn0.gstatic.com (encrypted-tbn0.gstatic.com)|142.250.81.206|:443... connected.\n",
            "HTTP request sent, awaiting response... 200 OK\n",
            "Length: 5464 (5.3K) [image/jpeg]\n",
            "Saving to: ‘putin2.jpg’\n",
            "\n",
            "\rputin2.jpg            0%[                    ]       0  --.-KB/s               \rputin2.jpg          100%[===================>]   5.34K  --.-KB/s    in 0s      \n",
            "\n",
            "2022-01-14 13:22:33 (73.8 MB/s) - ‘putin2.jpg’ saved [5464/5464]\n",
            "\n"
          ]
        }
      ]
    },
    {
      "cell_type": "code",
      "execution_count": 88,
      "metadata": {
        "id": "Lh87QM45R_vQ"
      },
      "outputs": [],
      "source": [
        "def prediction(img_path):\n",
        "  face_crop = detect_crop(img_path)\n",
        "  vec = get_embedding(face_crop)\n",
        "  return person_rep[np.argmax(classifier_model.predict(vec))]"
      ]
    },
    {
      "cell_type": "code",
      "source": [
        "prediction('putin1.jpg')"
      ],
      "metadata": {
        "colab": {
          "base_uri": "https://localhost:8080/",
          "height": 286
        },
        "id": "TqIBhQLZcKo5",
        "outputId": "165e2249-bf69-4a9a-da13-6e14d6d683cb"
      },
      "execution_count": 89,
      "outputs": [
        {
          "output_type": "execute_result",
          "data": {
            "application/vnd.google.colaboratory.intrinsic+json": {
              "type": "string"
            },
            "text/plain": [
              "'Vladimir_Putin'"
            ]
          },
          "metadata": {},
          "execution_count": 89
        },
        {
          "output_type": "display_data",
          "data": {
            "image/png": "[encoded data removed]",
            "text/plain": [
              "<Figure size 432x288 with 1 Axes>"
            ]
          },
          "metadata": {
            "needs_background": "light"
          }
        }
      ]
    }
  ]
}